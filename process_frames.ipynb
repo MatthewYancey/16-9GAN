{
  "nbformat": 4,
  "nbformat_minor": 0,
  "metadata": {
    "colab": {
      "name": "process_frames.ipynb",
      "provenance": [],
      "collapsed_sections": [],
      "include_colab_link": true
    },
    "kernelspec": {
      "display_name": "Python 3",
      "name": "python3"
    }
  },
  "cells": [
    {
      "cell_type": "markdown",
      "metadata": {
        "id": "view-in-github",
        "colab_type": "text"
      },
      "source": [
        "<a href=\"https://colab.research.google.com/github/MatthewYancey/16-9GAN/blob/master/process_frames.ipynb\" target=\"_parent\"><img src=\"https://colab.research.google.com/assets/colab-badge.svg\" alt=\"Open In Colab\"/></a>"
      ]
    },
    {
      "cell_type": "markdown",
      "metadata": {
        "id": "Uv_Hsd_xSby-"
      },
      "source": [
        "# Data Processing\n",
        "\n",
        "This notebook takes the video files in a folder and saves the individual frames."
      ]
    },
    {
      "cell_type": "code",
      "metadata": {
        "id": "p8U3uYZgT7cJ"
      },
      "source": [
        "import os\n",
        "import glob\n",
        "import cv2\n",
        "import shutil"
      ],
      "execution_count": 1,
      "outputs": []
    },
    {
      "cell_type": "code",
      "metadata": {
        "id": "oizpkeLYSn-G"
      },
      "source": [
        "# parameters\n",
        "data_in_path = '/content/gdrive/My Drive/16:9GAN/data_raw/'\n",
        "data_out_path = '/content/gdrive/My Drive/16:9GAN/data_out/frames/16_9/'\n",
        "\n",
        "seconds_per_frame = 0.5\n",
        "image_size = 256\n",
        "skip_seconds_beginning = 120\n",
        "skip_seconds_ending = 120\n",
        "number_of_images = 10000\n",
        "\n",
        "crop_side = 'left'"
      ],
      "execution_count": 2,
      "outputs": []
    },
    {
      "cell_type": "code",
      "metadata": {
        "colab": {
          "base_uri": "https://localhost:8080/"
        },
        "id": "-4QpQRBKTLdZ",
        "outputId": "97a11ceb-4d1d-45d9-af83-67836722c29e"
      },
      "source": [
        "from google.colab import drive\n",
        "drive.mount('/content/gdrive')"
      ],
      "execution_count": 3,
      "outputs": [
        {
          "output_type": "stream",
          "text": [
            "Drive already mounted at /content/gdrive; to attempt to forcibly remount, call drive.mount(\"/content/gdrive\", force_remount=True).\n"
          ],
          "name": "stdout"
        }
      ]
    },
    {
      "cell_type": "code",
      "metadata": {
        "id": "Pg1QPPCLSy8g"
      },
      "source": [
        "# removes the existing frames and makes a fresh folder\n",
        "try:\n",
        "    shutil.rmtree(data_out_path)\n",
        "except:\n",
        "    print('Could not remove folder')\n",
        "os.makedirs(data_out_path)"
      ],
      "execution_count": 4,
      "outputs": []
    },
    {
      "cell_type": "code",
      "metadata": {
        "id": "U5lJ5Ph7LGPP"
      },
      "source": [
        "def dhash(image, hashSize=8):\n",
        "\t# convert the image to grayscale and resize the grayscale image,\n",
        "\t# adding a single column (width) so we can compute the horizontal\n",
        "\t# gradient\n",
        "\tgray = cv2.cvtColor(image, cv2.COLOR_BGR2GRAY)\n",
        "\tresized = cv2.resize(gray, (hashSize + 1, hashSize))\n",
        "\t# compute the (relative) horizontal gradient between adjacent\n",
        "\t# column pixels\n",
        "\tdiff = resized[:, 1:] > resized[:, :-1]\n",
        "\t# convert the difference image to a hash and return it\n",
        "\treturn sum([2 ** i for (i, v) in enumerate(diff.flatten()) if v])"
      ],
      "execution_count": 5,
      "outputs": []
    },
    {
      "cell_type": "code",
      "metadata": {
        "colab": {
          "base_uri": "https://localhost:8080/"
        },
        "id": "V3NUGPIiUCKz",
        "outputId": "7d9c7dd6-24c2-4abd-f4c2-75581c2d310c"
      },
      "source": [
        "files = glob.glob(data_in_path + '*/*')\n",
        "frame_count = 0\n",
        "\n",
        "for f in files:\n",
        "    print(f)\n",
        "    vidcap = cv2.VideoCapture(f)\n",
        "    video_length = int(vidcap.get(cv2.CAP_PROP_FRAME_COUNT) / 24)\n",
        "    success, image = vidcap.read()\n",
        "\n",
        "\n",
        "    # loops through and save the frames\n",
        "    image_hashes = []\n",
        "    while success:\n",
        "        current_frame = vidcap.get(cv2.CAP_PROP_POS_FRAMES)\n",
        "        # skips the intro, outtro, and every 24 frames\n",
        "        if (current_frame >= (skip_seconds_beginning * 24) and current_frame <= (video_length - skip_seconds_ending) * 24 and current_frame % (seconds_per_frame * 24) == 0):\n",
        "            \n",
        "            # makes a small image and does a hash on it to see if we've had this image before\n",
        "            image_small = cv2.resize(image, (100, 100))\n",
        "            image_hash = dhash(image_small)\n",
        "\n",
        "            # if not a image we've had before we save it \n",
        "            if image_hash not in image_hashes:\n",
        "\n",
        "                # does some resizeing and single side cropping\n",
        "                if crop_side == 'left':\n",
        "                    crop_ammount = int(image.shape[1] * 0.25 * 0.5)\n",
        "                    image = image[0:image.shape[0], crop_ammount:image.shape[1]]\n",
        "                if crop_side == 'right':\n",
        "                    crop_ammount = int(image.shape[1] * 0.25 * 0.5)\n",
        "                    image = image[0:image.shape[0], 0:image_shape[1] - crop_ammount]\n",
        "                image = cv2.resize(image, (image_size, image_size))\n",
        "\n",
        "                # cv2_imshow(image)\n",
        "\n",
        "                # appends the hash and saves the file\n",
        "                image_hashes.append(image_hash)\n",
        "                cv2.imwrite(f'{data_out_path}{frame_count}.jpg', image)\n",
        "                frame_count += 1\n",
        "\n",
        "        # loop to the next frame\n",
        "        success, image = vidcap.read()\n",
        "        \n",
        "    # breaks the loop if we have enough images\n",
        "    print(f'Number of images saved: {frame_count}')\n",
        "    if frame_count >= number_of_images:\n",
        "        break\n"
      ],
      "execution_count": 6,
      "outputs": [
        {
          "output_type": "stream",
          "text": [
            "/content/gdrive/My Drive/16:9GAN/data_raw/FMA - 16:9/Full Metal Alchemist Brotherhood.E01.Full Metal Alchemist.avi\n",
            "Number of images saved: 1770\n",
            "/content/gdrive/My Drive/16:9GAN/data_raw/FMA - 16:9/Full Metal Alchemist Brotherhood.E09.Created Feelings.avi\n",
            "Number of images saved: 3474\n",
            "/content/gdrive/My Drive/16:9GAN/data_raw/FMA - 16:9/Full Metal Alchemist Brotherhood.E12.One is All, All is One.avi\n",
            "Number of images saved: 5288\n",
            "/content/gdrive/My Drive/16:9GAN/data_raw/FMA - 16:9/Full Metal Alchemist Brotherhood.E10.Separate Destinations.avi\n",
            "Number of images saved: 6835\n",
            "/content/gdrive/My Drive/16:9GAN/data_raw/FMA - 16:9/Full Metal Alchemist Brotherhood.E06.Road of Hope.avi\n",
            "Number of images saved: 8884\n",
            "/content/gdrive/My Drive/16:9GAN/data_raw/FMA - 16:9/Full Metal Alchemist Brotherhood.E11.Miracle at Rush Valley.avi\n",
            "Number of images saved: 10455\n"
          ],
          "name": "stdout"
        }
      ]
    },
    {
      "cell_type": "code",
      "metadata": {
        "id": "RGgVt-yvepXV",
        "colab": {
          "base_uri": "https://localhost:8080/"
        },
        "outputId": "e4ad3549-5578-48d3-cd69-8cdce30ac008"
      },
      "source": [
        "img_list = glob.glob(data_out_path + '/*')\n",
        "print('Number of images: %d' % len(img_list))"
      ],
      "execution_count": 7,
      "outputs": [
        {
          "output_type": "stream",
          "text": [
            "Number of images: 10455\n"
          ],
          "name": "stdout"
        }
      ]
    }
  ]
}