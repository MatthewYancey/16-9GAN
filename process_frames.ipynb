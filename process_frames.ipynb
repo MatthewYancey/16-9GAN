{
  "nbformat": 4,
  "nbformat_minor": 0,
  "metadata": {
    "colab": {
      "name": "process_frames.ipynb",
      "provenance": [],
      "collapsed_sections": [],
      "authorship_tag": "ABX9TyNpI8qrrE45dn3oEXz+1laT",
      "include_colab_link": true
    },
    "kernelspec": {
      "name": "python3",
      "display_name": "Python 3"
    }
  },
  "cells": [
    {
      "cell_type": "markdown",
      "metadata": {
        "id": "view-in-github",
        "colab_type": "text"
      },
      "source": [
        "<a href=\"https://colab.research.google.com/github/MatthewYancey/16-9GAN/blob/master/process_frames.ipynb\" target=\"_parent\"><img src=\"https://colab.research.google.com/assets/colab-badge.svg\" alt=\"Open In Colab\"/></a>"
      ]
    },
    {
      "cell_type": "markdown",
      "metadata": {
        "id": "Uv_Hsd_xSby-",
        "colab_type": "text"
      },
      "source": [
        "# Data Processing\n",
        "\n",
        "This notebook takes the video files in a folder and saves the individual frames."
      ]
    },
    {
      "cell_type": "code",
      "metadata": {
        "id": "p8U3uYZgT7cJ",
        "colab_type": "code",
        "colab": {}
      },
      "source": [
        "import os\n",
        "import glob\n",
        "import cv2\n",
        "import shutil"
      ],
      "execution_count": null,
      "outputs": []
    },
    {
      "cell_type": "code",
      "metadata": {
        "id": "oizpkeLYSn-G",
        "colab_type": "code",
        "colab": {}
      },
      "source": [
        "# parameters\n",
        "data_in_path = '/content/gdrive/My Drive/repos/16:9GAN/data_raw/FMA - 16:9/'\n",
        "data_out_path = '/content/gdrive/My Drive/repos/16:9GAN/data_out/frames/'\n",
        "\n",
        "seconds_per_frame = 0.5\n",
        "image_size = 256\n",
        "skip_seconds_beginning = 120\n",
        "skip_seconds_ending = 120"
      ],
      "execution_count": null,
      "outputs": []
    },
    {
      "cell_type": "code",
      "metadata": {
        "id": "-4QpQRBKTLdZ",
        "colab_type": "code",
        "colab": {
          "base_uri": "https://localhost:8080/",
          "height": 34
        },
        "outputId": "26fcfa1a-ba61-4f42-accd-11a314d2a550"
      },
      "source": [
        "from google.colab import drive\n",
        "drive.mount('/content/gdrive')"
      ],
      "execution_count": null,
      "outputs": [
        {
          "output_type": "stream",
          "text": [
            "Drive already mounted at /content/gdrive; to attempt to forcibly remount, call drive.mount(\"/content/gdrive\", force_remount=True).\n"
          ],
          "name": "stdout"
        }
      ]
    },
    {
      "cell_type": "code",
      "metadata": {
        "id": "2grf7QxLTPUn",
        "colab_type": "code",
        "colab": {}
      },
      "source": [
        "# removes the existing frames\n",
        "try:\n",
        "    shutil.rmtree(data_out_path)\n",
        "except:\n",
        "    print('Could not remove folder')\n",
        "\n",
        "# makes the folder\n",
        "os.makedirs(data_out_path)"
      ],
      "execution_count": null,
      "outputs": []
    },
    {
      "cell_type": "code",
      "metadata": {
        "id": "V3NUGPIiUCKz",
        "colab_type": "code",
        "colab": {
          "base_uri": "https://localhost:8080/",
          "height": 527
        },
        "outputId": "f51563f6-70e2-474f-c0d5-66a5781f6aed"
      },
      "source": [
        "files = glob.glob(data_in_path + '*')\n",
        "episode_count = 0\n",
        "\n",
        "for f in files:\n",
        "    print(f)\n",
        "    vidcap = cv2.VideoCapture(f)\n",
        "    print('Frames per second: %d' % vidcap.get(cv2.CAP_PROP_FPS))\n",
        "    video_length = int(vidcap.get(cv2.CAP_PROP_FRAME_COUNT) / 24)\n",
        "    print('Number of frames: %d' % video_length)\n",
        "    success, image = vidcap.read()\n",
        "    frame_count = 0\n",
        "\n",
        "    # makes the folder for the episode\n",
        "    os.makedirs(data_out_path + str(episode_count))\n",
        "\n",
        "    while success:\n",
        "        if (frame_count >= (skip_seconds_beginning * 24) and frame_count <= (video_length - skip_seconds_ending) * 24 and frame_count % (seconds_per_frame * 24) == 0):\n",
        "            image = cv2.resize(image, (image_size, image_size))\n",
        "            cv2.imwrite(data_out_path + '%d/fr-%d.jpg' % (episode_count, frame_count), image)\n",
        "        success, image = vidcap.read()\n",
        "        frame_count += 1\n",
        "\n",
        "    episode_count += 1"
      ],
      "execution_count": null,
      "outputs": [
        {
          "output_type": "stream",
          "text": [
            "/content/gdrive/My Drive/repos/16:9GAN/data_raw/FMA - 16:9/Fullmetal Alchemist BrotherHood 09.mkv\n",
            "Frames per second: 23\n",
            "Number of frames: 1467\n",
            "/content/gdrive/My Drive/repos/16:9GAN/data_raw/FMA - 16:9/Fullmetal Alchemist BrotherHood 02.mkv\n",
            "Frames per second: 23\n",
            "Number of frames: 1466\n",
            "/content/gdrive/My Drive/repos/16:9GAN/data_raw/FMA - 16:9/Fullmetal Alchemist BrotherHood 07.mkv\n",
            "Frames per second: 23\n",
            "Number of frames: 1465\n",
            "/content/gdrive/My Drive/repos/16:9GAN/data_raw/FMA - 16:9/Fullmetal Alchemist BrotherHood 10.mkv\n",
            "Frames per second: 23\n",
            "Number of frames: 1465\n",
            "/content/gdrive/My Drive/repos/16:9GAN/data_raw/FMA - 16:9/Fullmetal Alchemist BrotherHood 06.mkv\n",
            "Frames per second: 23\n",
            "Number of frames: 1466\n",
            "/content/gdrive/My Drive/repos/16:9GAN/data_raw/FMA - 16:9/Fullmetal Alchemist BrotherHood 05.mkv\n",
            "Frames per second: 23\n",
            "Number of frames: 1465\n",
            "/content/gdrive/My Drive/repos/16:9GAN/data_raw/FMA - 16:9/Fullmetal Alchemist BrotherHood 08.mkv\n",
            "Frames per second: 23\n",
            "Number of frames: 1467\n",
            "/content/gdrive/My Drive/repos/16:9GAN/data_raw/FMA - 16:9/Fullmetal Alchemist BrotherHood 03.mkv\n",
            "Frames per second: 23\n",
            "Number of frames: 1465\n",
            "/content/gdrive/My Drive/repos/16:9GAN/data_raw/FMA - 16:9/Fullmetal Alchemist BrotherHood 01.mkv\n",
            "Frames per second: 23\n",
            "Number of frames: 1465\n",
            "/content/gdrive/My Drive/repos/16:9GAN/data_raw/FMA - 16:9/Fullmetal Alchemist BrotherHood 04.mkv\n",
            "Frames per second: 23\n",
            "Number of frames: 1255\n"
          ],
          "name": "stdout"
        }
      ]
    },
    {
      "cell_type": "code",
      "metadata": {
        "id": "RGgVt-yvepXV",
        "colab_type": "code",
        "colab": {
          "base_uri": "https://localhost:8080/",
          "height": 34
        },
        "outputId": "0a5a9da3-373b-41a9-b56c-27a3e304e1eb"
      },
      "source": [
        "img_list = glob.glob(data_out_path + '*/*')\n",
        "print('Number of images: %d' % len(img_list))"
      ],
      "execution_count": null,
      "outputs": [
        {
          "output_type": "stream",
          "text": [
            "Number of images: 24102\n"
          ],
          "name": "stdout"
        }
      ]
    }
  ]
}