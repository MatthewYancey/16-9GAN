{
  "nbformat": 4,
  "nbformat_minor": 0,
  "metadata": {
    "colab": {
      "name": "process_frames.ipynb",
      "provenance": [],
      "collapsed_sections": [],
      "include_colab_link": true
    },
    "kernelspec": {
      "display_name": "Python 3",
      "name": "python3"
    }
  },
  "cells": [
    {
      "cell_type": "markdown",
      "metadata": {
        "id": "view-in-github",
        "colab_type": "text"
      },
      "source": [
        "<a href=\"https://colab.research.google.com/github/MatthewYancey/GANime/blob/master/src/process_frames.ipynb\" target=\"_parent\"><img src=\"https://colab.research.google.com/assets/colab-badge.svg\" alt=\"Open In Colab\"/></a>"
      ]
    },
    {
      "cell_type": "markdown",
      "metadata": {
        "id": "Uv_Hsd_xSby-"
      },
      "source": [
        "# Data Processing\n",
        "\n",
        "This notebook takes the video files in a folder and saves the individual frames."
      ]
    },
    {
      "cell_type": "markdown",
      "metadata": {
        "id": "7jTVB-DOJsfR"
      },
      "source": [
        "## Imports and Parameters"
      ]
    },
    {
      "cell_type": "code",
      "metadata": {
        "id": "p8U3uYZgT7cJ"
      },
      "source": [
        "import os\n",
        "import glob\n",
        "import cv2\n",
        "import shutil\n",
        "from google.colab import drive\n",
        "import zipfile"
      ],
      "execution_count": 1,
      "outputs": []
    },
    {
      "cell_type": "code",
      "metadata": {
        "id": "oizpkeLYSn-G",
        "colab": {
          "base_uri": "https://localhost:8080/"
        },
        "outputId": "92d0120e-f20f-48b7-d451-68e3a31133d8"
      },
      "source": [
        "# parameters\n",
        "drive.mount('/content/gdrive')\n",
        "VIDEO_PATH = '/content/gdrive/My Drive/repos/GANime/data_raw/pokemon/'\n",
        "TEST_PATH = '/content/gdrive/My Drive/repos/GANime/data_raw/pokemon/'\n",
        "FRAME_PATH = '/content/frames/'\n",
        "ZIP_FOLDER = '/content/gdrive/My Drive/repos/GANime/data_out/'\n",
        "\n",
        "IMAGE_WIDTH = 456\n",
        "IMAGE_HEIGHT = 288\n",
        "SINGLE_SIDE = 64 # number of pixels to block out for training\n",
        "\n",
        "FRAME_SECONDS_SKIP = 0.5\n",
        "SKIP_SECONDS_BEGINNING = 120\n",
        "SKIP_SECONDS_END = 120\n",
        "\n",
        "TRAIN_SPLIT = 0.70\n",
        "VAL_SPLIT = 0.20\n",
        "TEST_SPLIT = 0.10"
      ],
      "execution_count": 2,
      "outputs": [
        {
          "output_type": "stream",
          "name": "stdout",
          "text": [
            "Drive already mounted at /content/gdrive; to attempt to forcibly remount, call drive.mount(\"/content/gdrive\", force_remount=True).\n"
          ]
        }
      ]
    },
    {
      "cell_type": "markdown",
      "metadata": {
        "id": "p8J3fsm2KDFb"
      },
      "source": [
        "## Video loop and frame saving"
      ]
    },
    {
      "cell_type": "code",
      "metadata": {
        "id": "V3NUGPIiUCKz"
      },
      "source": [
        "def save_frames(video_list, zip_path, four_by_three=False):\n",
        "\n",
        "    try:\n",
        "        shutil.rmtree(FRAME_PATH)\n",
        "    except FileNotFoundError:\n",
        "        pass\n",
        "    \n",
        "    os.mkdir(FRAME_PATH)\n",
        "\n",
        "    frame_count = 0\n",
        "    for f in video_list:\n",
        "        print(f)\n",
        "        vidcap = cv2.VideoCapture(f)\n",
        "        video_length = int(vidcap.get(cv2.CAP_PROP_FRAME_COUNT) / 24)\n",
        "        success, image = vidcap.read()\n",
        "\n",
        "        # loops through and save the frames\n",
        "        while success:\n",
        "            current_frame = vidcap.get(cv2.CAP_PROP_POS_FRAMES)\n",
        "\n",
        "            # skips the intro, outtro, and every 24 frames\n",
        "            if four_by_three:\n",
        "                if current_frame % (FRAME_SECONDS_SKIP * 24) == 0:                    \n",
        "                    # resizes and save the frame\n",
        "                    image = cv2.resize(image, (IMAGE_WIDTH - (2 * SINGLE_SIDE), IMAGE_HEIGHT))\n",
        "                    cv2.imwrite(f'{FRAME_PATH}{frame_count}.jpg', image)\n",
        "                    frame_count += 1\n",
        "\n",
        "            else:\n",
        "                if (current_frame >= (SKIP_SECONDS_BEGINNING * 24) and current_frame <= (video_length - SKIP_SECONDS_END) * 24 and current_frame % (FRAME_SECONDS_SKIP * 24) == 0):\n",
        "                    # resizes and save the frame\n",
        "                    image = cv2.resize(image, (IMAGE_WIDTH, IMAGE_HEIGHT))\n",
        "                    cv2.imwrite(f'{FRAME_PATH}{frame_count}.jpg', image)\n",
        "                    frame_count += 1\n",
        "\n",
        "            # loop to the next frame\n",
        "            success, image = vidcap.read()\n",
        "                \n",
        "        print(f'Number of images saved: {frame_count}')\n",
        "\n",
        "    shutil.make_archive(zip_path, 'zip', FRAME_PATH)\n",
        "    print(f'Saved zip {zip_path}')"
      ],
      "execution_count": 3,
      "outputs": []
    },
    {
      "cell_type": "code",
      "source": [
        "# keeps one video out for testing\n",
        "video_files = glob.glob(VIDEO_PATH + '*')\n",
        "video_files.sort()\n",
        "train_files = video_files[:int(len(video_files) * TRAIN_SPLIT):]\n",
        "video_files = [v for v in video_files if v not in train_files]\n",
        "val_files = video_files[:int(len(video_files) * (VAL_SPLIT / (VAL_SPLIT + TEST_SPLIT)))]\n",
        "video_files = [v for v in video_files if v not in val_files]\n",
        "test_files = video_files\n",
        "\n",
        "print(f'Train videos: {len(train_files)}')\n",
        "print(f'Validate videos: {len(val_files)}')\n",
        "print(f'Test videos: {len(test_files)}')\n",
        "\n",
        "# saves a train an test zip file\n",
        "save_frames(test_files, ZIP_FOLDER + 'test')\n",
        "save_frames(val_files, ZIP_FOLDER + 'validate')\n",
        "save_frames(train_files, ZIP_FOLDER + 'train')"
      ],
      "metadata": {
        "colab": {
          "base_uri": "https://localhost:8080/"
        },
        "id": "fGLdyQHBsseH",
        "outputId": "c431c7fc-046c-4e94-addf-29b186b52ad5"
      },
      "execution_count": 4,
      "outputs": [
        {
          "output_type": "stream",
          "name": "stdout",
          "text": [
            "Train videos: 7\n",
            "Validate videos: 2\n",
            "Test videos: 1\n",
            "/content/gdrive/My Drive/repos/GANime/data_raw/pokemon/pokemon_1.mov\n",
            "Number of images saved: 3089\n",
            "Saved zip /content/gdrive/My Drive/repos/GANime/data_out/test\n",
            "/content/gdrive/My Drive/repos/GANime/data_raw/pokemon/pokemon_1 copy 9.mov\n",
            "Number of images saved: 3089\n",
            "/content/gdrive/My Drive/repos/GANime/data_raw/pokemon/pokemon_1 copy.mov\n",
            "Number of images saved: 6178\n",
            "Saved zip /content/gdrive/My Drive/repos/GANime/data_out/validate\n",
            "/content/gdrive/My Drive/repos/GANime/data_raw/pokemon/pokemon_1 copy 2.mov\n",
            "Number of images saved: 3089\n",
            "/content/gdrive/My Drive/repos/GANime/data_raw/pokemon/pokemon_1 copy 3.mov\n",
            "Number of images saved: 6178\n",
            "/content/gdrive/My Drive/repos/GANime/data_raw/pokemon/pokemon_1 copy 4.mov\n",
            "Number of images saved: 9267\n",
            "/content/gdrive/My Drive/repos/GANime/data_raw/pokemon/pokemon_1 copy 5.mov\n",
            "Number of images saved: 12356\n",
            "/content/gdrive/My Drive/repos/GANime/data_raw/pokemon/pokemon_1 copy 6.mov\n",
            "Number of images saved: 15445\n",
            "/content/gdrive/My Drive/repos/GANime/data_raw/pokemon/pokemon_1 copy 7.mov\n",
            "Number of images saved: 18534\n",
            "/content/gdrive/My Drive/repos/GANime/data_raw/pokemon/pokemon_1 copy 8.mov\n",
            "Number of images saved: 21623\n",
            "Saved zip /content/gdrive/My Drive/repos/GANime/data_out/train\n"
          ]
        }
      ]
    }
  ]
}