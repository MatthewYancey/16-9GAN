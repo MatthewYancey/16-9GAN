{
  "nbformat": 4,
  "nbformat_minor": 0,
  "metadata": {
    "colab": {
      "name": "process_frames.ipynb",
      "provenance": [],
      "collapsed_sections": [],
      "toc_visible": true,
      "include_colab_link": true
    },
    "kernelspec": {
      "display_name": "Python 3",
      "name": "python3"
    }
  },
  "cells": [
    {
      "cell_type": "markdown",
      "metadata": {
        "id": "view-in-github",
        "colab_type": "text"
      },
      "source": [
        "<a href=\"https://colab.research.google.com/github/MatthewYancey/16-9GAN/blob/master/src/process_frames.ipynb\" target=\"_parent\"><img src=\"https://colab.research.google.com/assets/colab-badge.svg\" alt=\"Open In Colab\"/></a>"
      ]
    },
    {
      "cell_type": "markdown",
      "metadata": {
        "id": "Uv_Hsd_xSby-"
      },
      "source": [
        "# Data Processing\n",
        "\n",
        "This notebook takes the video files in a folder and saves the individual frames."
      ]
    },
    {
      "cell_type": "markdown",
      "metadata": {
        "id": "7jTVB-DOJsfR"
      },
      "source": [
        "## Imports and Parameters"
      ]
    },
    {
      "cell_type": "code",
      "metadata": {
        "id": "p8U3uYZgT7cJ"
      },
      "source": [
        "import os\n",
        "import glob\n",
        "import cv2\n",
        "import shutil\n",
        "from google.colab import drive\n",
        "import zipfile"
      ],
      "execution_count": 1,
      "outputs": []
    },
    {
      "cell_type": "code",
      "metadata": {
        "id": "oizpkeLYSn-G",
        "colab": {
          "base_uri": "https://localhost:8080/"
        },
        "outputId": "19a43d85-647a-4e4f-b510-906013b7e965"
      },
      "source": [
        "# parameters\n",
        "drive.mount('/content/gdrive')\n",
        "DATA_IN_PATH = '/content/gdrive/My Drive/16:9GAN/data_raw/FMA - 16:9/'\n",
        "DATA_OUT_FRAMES = '/content/frames/'\n",
        "DATA_OUT_ZIP = '/content/gdrive/My Drive/16:9GAN/data_out/frames_16_9'\n",
        "os.makedirs(DATA_OUT_FRAMES)\n",
        "\n",
        "FRAME_SECONDS_SKIP = 0.5\n",
        "IMAGE_SIZE = 256\n",
        "SKIP_SECONDS_BEGINNING = 120\n",
        "SKIP_SECONDS_END = 120\n",
        "FRAME_LIMIT = None"
      ],
      "execution_count": 3,
      "outputs": [
        {
          "output_type": "stream",
          "name": "stdout",
          "text": [
            "Drive already mounted at /content/gdrive; to attempt to forcibly remount, call drive.mount(\"/content/gdrive\", force_remount=True).\n"
          ]
        }
      ]
    },
    {
      "cell_type": "markdown",
      "metadata": {
        "id": "8zDk89m5J8sQ"
      },
      "source": [
        "## Image hash function for checking if we have duplicate images"
      ]
    },
    {
      "cell_type": "code",
      "metadata": {
        "id": "U5lJ5Ph7LGPP"
      },
      "source": [
        "def dhash(image, hashSize=8):\n",
        "\t# convert the image to grayscale and resize the grayscale image,\n",
        "\t# adding a single column (width) so we can compute the horizontal\n",
        "\t# gradient\n",
        "\tgray = cv2.cvtColor(image, cv2.COLOR_BGR2GRAY)\n",
        "\tresized = cv2.resize(gray, (hashSize + 1, hashSize))\n",
        "\t# compute the (relative) horizontal gradient between adjacent\n",
        "\t# column pixels\n",
        "\tdiff = resized[:, 1:] > resized[:, :-1]\n",
        "\t# convert the difference image to a hash and return it\n",
        "\treturn sum([2 ** i for (i, v) in enumerate(diff.flatten()) if v])"
      ],
      "execution_count": 4,
      "outputs": []
    },
    {
      "cell_type": "markdown",
      "metadata": {
        "id": "p8J3fsm2KDFb"
      },
      "source": [
        "## Video loop and frame saving"
      ]
    },
    {
      "cell_type": "code",
      "metadata": {
        "colab": {
          "base_uri": "https://localhost:8080/"
        },
        "id": "V3NUGPIiUCKz",
        "outputId": "e1977fd6-5528-426c-c4d0-28099a27c3ed"
      },
      "source": [
        "files = glob.glob(DATA_IN_PATH + '*')\n",
        "episode_count = 0\n",
        "\n",
        "frame_count = 0\n",
        "for f in files:\n",
        "    print(f)\n",
        "    vidcap = cv2.VideoCapture(f)\n",
        "    video_length = int(vidcap.get(cv2.CAP_PROP_FRAME_COUNT) / 24)\n",
        "    success, image = vidcap.read()\n",
        "\n",
        "\n",
        "    # loops through and save the frames\n",
        "    image_hashes = []\n",
        "    while success:\n",
        "        current_frame = vidcap.get(cv2.CAP_PROP_POS_FRAMES)\n",
        "        # skips the intro, outtro, and every 24 frames\n",
        "        if (current_frame >= (SKIP_SECONDS_BEGINNING * 24) and current_frame <= (video_length - SKIP_SECONDS_END) * 24 and current_frame % (FRAME_SECONDS_SKIP * 24) == 0):\n",
        "            \n",
        "            # makes a small image and does a hash on it to see if we've had this image before\n",
        "            image_small = cv2.resize(image, (100, 100))\n",
        "            image_hash = dhash(image_small)\n",
        "\n",
        "            # if not a image we've had before we save it \n",
        "            if image_hash not in image_hashes:\n",
        "\n",
        "                image = cv2.resize(image, (IMAGE_SIZE, IMAGE_SIZE))\n",
        "\n",
        "                # appends the hash and saves the file\n",
        "                image_hashes.append(image_hash)\n",
        "                cv2.imwrite(f'{DATA_OUT_FRAMES}{frame_count}.jpg', image)\n",
        "                frame_count += 1\n",
        "\n",
        "        # loop to the next frame\n",
        "        success, image = vidcap.read()\n",
        "        \n",
        "    # breaks the loop if we have enough images\n",
        "    print(f'Number of images saved: {frame_count}')\n",
        "    if FRAME_LIMIT != None and frame_count >= FRAME_LIMIT:\n",
        "        break\n"
      ],
      "execution_count": 8,
      "outputs": [
        {
          "output_type": "stream",
          "name": "stdout",
          "text": [
            "/content/gdrive/My Drive/16:9GAN/data_raw/FMA - 16:9/Full Metal Alchemist Brotherhood.E01.Full Metal Alchemist.avi\n",
            "Number of images saved: 1770\n",
            "/content/gdrive/My Drive/16:9GAN/data_raw/FMA - 16:9/Full Metal Alchemist Brotherhood.E09.Created Feelings.avi\n",
            "Number of images saved: 3474\n",
            "/content/gdrive/My Drive/16:9GAN/data_raw/FMA - 16:9/Full Metal Alchemist Brotherhood.E12.One is All, All is One.avi\n",
            "Number of images saved: 5288\n",
            "/content/gdrive/My Drive/16:9GAN/data_raw/FMA - 16:9/Full Metal Alchemist Brotherhood.E10.Separate Destinations.avi\n",
            "Number of images saved: 6835\n",
            "/content/gdrive/My Drive/16:9GAN/data_raw/FMA - 16:9/Full Metal Alchemist Brotherhood.E06.Road of Hope.avi\n",
            "Number of images saved: 8884\n",
            "/content/gdrive/My Drive/16:9GAN/data_raw/FMA - 16:9/Full Metal Alchemist Brotherhood.E16.Footsteps of a ComradeinArms.avi\n",
            "Number of images saved: 10532\n",
            "/content/gdrive/My Drive/16:9GAN/data_raw/FMA - 16:9/Full Metal Alchemist Brotherhood.E11.Miracle at Rush Valley.avi\n",
            "Number of images saved: 12103\n",
            "/content/gdrive/My Drive/16:9GAN/data_raw/FMA - 16:9/Full Metal Alchemist Brotherhood.E08.The Fifth Laboratory.avi\n",
            "Number of images saved: 13781\n",
            "/content/gdrive/My Drive/16:9GAN/data_raw/FMA - 16:9/Full Metal Alchemist Brotherhood.E03.City of Heresy.avi\n",
            "Number of images saved: 15672\n",
            "/content/gdrive/My Drive/16:9GAN/data_raw/FMA - 16:9/Full Metal Alchemist Brotherhood.E07.Hidden Truths.avi\n",
            "Number of images saved: 17949\n",
            "/content/gdrive/My Drive/16:9GAN/data_raw/FMA - 16:9/Full Metal Alchemist Brotherhood.E04.An Alchemist's Anguish.avi\n",
            "Number of images saved: 19779\n",
            "/content/gdrive/My Drive/16:9GAN/data_raw/FMA - 16:9/Full Metal Alchemist Brotherhood.E05.Rain of Sorrows.avi\n",
            "Number of images saved: 21732\n",
            "/content/gdrive/My Drive/16:9GAN/data_raw/FMA - 16:9/Full Metal Alchemist Brotherhood.E02.The First Day.avi\n",
            "Number of images saved: 23393\n"
          ]
        }
      ]
    },
    {
      "cell_type": "code",
      "metadata": {
        "id": "RGgVt-yvepXV",
        "colab": {
          "base_uri": "https://localhost:8080/"
        },
        "outputId": "940d22c5-4067-4286-ace6-db6a7b946c58"
      },
      "source": [
        "img_list = glob.glob(DATA_OUT_FRAMES + '/*')\n",
        "print('Number of images: %d' % len(img_list))"
      ],
      "execution_count": 9,
      "outputs": [
        {
          "output_type": "stream",
          "name": "stdout",
          "text": [
            "Number of images: 23393\n"
          ]
        }
      ]
    },
    {
      "cell_type": "markdown",
      "metadata": {
        "id": "La2yEXfRJhqd"
      },
      "source": [
        "## Zip frames into a single file"
      ]
    },
    {
      "cell_type": "code",
      "metadata": {
        "colab": {
          "base_uri": "https://localhost:8080/",
          "height": 35
        },
        "id": "REiIKgSMJme_",
        "outputId": "95af2785-6c9d-4106-a1d0-93ca5c2bed12"
      },
      "source": [
        "import shutil\n",
        "shutil.make_archive(DATA_OUT_ZIP, 'zip', DATA_OUT_FRAMES)"
      ],
      "execution_count": 10,
      "outputs": [
        {
          "output_type": "execute_result",
          "data": {
            "application/vnd.google.colaboratory.intrinsic+json": {
              "type": "string"
            },
            "text/plain": [
              "'/content/gdrive/My Drive/16:9GAN/data_out/frames_16_9.zip'"
            ]
          },
          "metadata": {},
          "execution_count": 10
        }
      ]
    }
  ]
}