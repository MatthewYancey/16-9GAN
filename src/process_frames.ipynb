{
  "nbformat": 4,
  "nbformat_minor": 0,
  "metadata": {
    "colab": {
      "name": "process_frames.ipynb",
      "provenance": [],
      "collapsed_sections": [],
      "toc_visible": true,
      "include_colab_link": true
    },
    "kernelspec": {
      "display_name": "Python 3",
      "name": "python3"
    }
  },
  "cells": [
    {
      "cell_type": "markdown",
      "metadata": {
        "id": "view-in-github",
        "colab_type": "text"
      },
      "source": [
        "<a href=\"https://colab.research.google.com/github/MatthewYancey/16-9GAN/blob/master/src/process_frames.ipynb\" target=\"_parent\"><img src=\"https://colab.research.google.com/assets/colab-badge.svg\" alt=\"Open In Colab\"/></a>"
      ]
    },
    {
      "cell_type": "markdown",
      "metadata": {
        "id": "Uv_Hsd_xSby-"
      },
      "source": [
        "# Data Processing\n",
        "\n",
        "This notebook takes the video files in a folder and saves the individual frames."
      ]
    },
    {
      "cell_type": "markdown",
      "metadata": {
        "id": "7jTVB-DOJsfR"
      },
      "source": [
        "## Imports and Parameters"
      ]
    },
    {
      "cell_type": "code",
      "metadata": {
        "id": "p8U3uYZgT7cJ"
      },
      "source": [
        "import os\n",
        "import glob\n",
        "import cv2\n",
        "import shutil\n",
        "from google.colab import drive\n",
        "import zipfile"
      ],
      "execution_count": 1,
      "outputs": []
    },
    {
      "cell_type": "code",
      "metadata": {
        "id": "oizpkeLYSn-G",
        "colab": {
          "base_uri": "https://localhost:8080/"
        },
        "outputId": "411363a9-0bdb-418d-e63d-2af7fcfb8545"
      },
      "source": [
        "# parameters\n",
        "drive.mount('/content/gdrive')\n",
        "VIDEO_PATH = '/content/gdrive/My Drive/16:9GAN/data_raw/FMA - 16:9/'\n",
        "FRAME_PATH = '/content/frames/'\n",
        "ZIP_FOLDER = '/content/gdrive/My Drive/16:9GAN/data_out/frames_16_9/'\n",
        "\n",
        "FRAME_SECONDS_SKIP = 0.5\n",
        "IMAGE_SIZE = 256\n",
        "SKIP_SECONDS_BEGINNING = 120\n",
        "SKIP_SECONDS_END = 120\n",
        "FRAME_LIMIT = None"
      ],
      "execution_count": 2,
      "outputs": [
        {
          "output_type": "stream",
          "name": "stdout",
          "text": [
            "Drive already mounted at /content/gdrive; to attempt to forcibly remount, call drive.mount(\"/content/gdrive\", force_remount=True).\n"
          ]
        }
      ]
    },
    {
      "cell_type": "markdown",
      "metadata": {
        "id": "8zDk89m5J8sQ"
      },
      "source": [
        "## Image hash function for checking if we have duplicate images"
      ]
    },
    {
      "cell_type": "code",
      "metadata": {
        "id": "U5lJ5Ph7LGPP"
      },
      "source": [
        "def dhash(image, hashSize=8):\n",
        "\t# convert the image to grayscale and resize the grayscale image,\n",
        "\t# adding a single column (width) so we can compute the horizontal\n",
        "\t# gradient\n",
        "\tgray = cv2.cvtColor(image, cv2.COLOR_BGR2GRAY)\n",
        "\tresized = cv2.resize(gray, (hashSize + 1, hashSize))\n",
        "\t# compute the (relative) horizontal gradient between adjacent\n",
        "\t# column pixels\n",
        "\tdiff = resized[:, 1:] > resized[:, :-1]\n",
        "\t# convert the difference image to a hash and return it\n",
        "\treturn sum([2 ** i for (i, v) in enumerate(diff.flatten()) if v])"
      ],
      "execution_count": 3,
      "outputs": []
    },
    {
      "cell_type": "markdown",
      "metadata": {
        "id": "p8J3fsm2KDFb"
      },
      "source": [
        "## Video loop and frame saving"
      ]
    },
    {
      "cell_type": "code",
      "metadata": {
        "colab": {
          "base_uri": "https://localhost:8080/"
        },
        "id": "V3NUGPIiUCKz",
        "outputId": "1b6b13ac-15bb-4a01-bb76-e795e7cc6a20"
      },
      "source": [
        "def save_frames(video_list, zip_path):\n",
        "\n",
        "    try:\n",
        "        shutil.rmtree(FRAME_PATH)\n",
        "    except:\n",
        "        pass\n",
        "    \n",
        "    os.mkdir(FRAME_PATH)\n",
        "\n",
        "    frame_count = 0\n",
        "    for f in video_list:\n",
        "        print(f)\n",
        "        vidcap = cv2.VideoCapture(f)\n",
        "        video_length = int(vidcap.get(cv2.CAP_PROP_FRAME_COUNT) / 24)\n",
        "        success, image = vidcap.read()\n",
        "\n",
        "\n",
        "        # loops through and save the frames\n",
        "        image_hashes = []\n",
        "        while success:\n",
        "            current_frame = vidcap.get(cv2.CAP_PROP_POS_FRAMES)\n",
        "            # skips the intro, outtro, and every 24 frames\n",
        "            if (current_frame >= (SKIP_SECONDS_BEGINNING * 24) and current_frame <= (video_length - SKIP_SECONDS_END) * 24 and current_frame % (FRAME_SECONDS_SKIP * 24) == 0):\n",
        "                \n",
        "                # makes a small image and does a hash on it to see if we've had this image before\n",
        "                image_small = cv2.resize(image, (100, 100))\n",
        "                image_hash = dhash(image_small)\n",
        "\n",
        "                # if not a image we've had before we save it \n",
        "                if image_hash not in image_hashes:\n",
        "\n",
        "                    image = cv2.resize(image, (IMAGE_SIZE, IMAGE_SIZE))\n",
        "\n",
        "                    # appends the hash and saves the file\n",
        "                    image_hashes.append(image_hash)\n",
        "                    cv2.imwrite(f'{FRAME_PATH}{frame_count}.jpg', image)\n",
        "                    frame_count += 1\n",
        "\n",
        "            # loop to the next frame\n",
        "            success, image = vidcap.read()\n",
        "            \n",
        "        # breaks the loop if we have enough images\n",
        "        print(f'Number of images saved: {frame_count}')\n",
        "        if FRAME_LIMIT != None and frame_count >= FRAME_LIMIT:\n",
        "            break\n",
        "\n",
        "    shutil.make_archive(zip_path, 'zip', FRAME_PATH)\n",
        "    print(f'Saved zip {zip_path}')\n",
        "\n",
        "# keeps one video out for testing\n",
        "train_files = glob.glob(VIDEO_PATH + '*')\n",
        "test_files = train_files.pop()\n",
        "\n",
        "# saves a train an test zip file\n",
        "save_frames(train_files, ZIP_FOLDER + 'train.zip')\n",
        "save_frames([test_files], ZIP_FOLDER + 'test.zip')\n"
      ],
      "execution_count": null,
      "outputs": [
        {
          "output_type": "stream",
          "name": "stdout",
          "text": [
            "/content/gdrive/My Drive/16:9GAN/data_raw/FMA - 16:9/Full Metal Alchemist Brotherhood.E28.Father.flv\n",
            "Number of images saved: 2058\n",
            "/content/gdrive/My Drive/16:9GAN/data_raw/FMA - 16:9/Full Metal Alchemist Brotherhood.E47.Emissary of Darkness.mp4\n"
          ]
        }
      ]
    }
  ]
}