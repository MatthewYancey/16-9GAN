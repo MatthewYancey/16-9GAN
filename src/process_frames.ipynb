{
  "nbformat": 4,
  "nbformat_minor": 0,
  "metadata": {
    "colab": {
      "name": "process_frames.ipynb",
      "provenance": [],
      "collapsed_sections": [],
      "include_colab_link": true
    },
    "kernelspec": {
      "display_name": "Python 3",
      "name": "python3"
    }
  },
  "cells": [
    {
      "cell_type": "markdown",
      "metadata": {
        "id": "view-in-github",
        "colab_type": "text"
      },
      "source": [
        "<a href=\"https://colab.research.google.com/github/MatthewYancey/16-9GAN/blob/master/src/process_frames.ipynb\" target=\"_parent\"><img src=\"https://colab.research.google.com/assets/colab-badge.svg\" alt=\"Open In Colab\"/></a>"
      ]
    },
    {
      "cell_type": "markdown",
      "metadata": {
        "id": "Uv_Hsd_xSby-"
      },
      "source": [
        "# Data Processing\n",
        "\n",
        "This notebook takes the video files in a folder and saves the individual frames."
      ]
    },
    {
      "cell_type": "markdown",
      "metadata": {
        "id": "7jTVB-DOJsfR"
      },
      "source": [
        "## Imports and Parameters"
      ]
    },
    {
      "cell_type": "code",
      "metadata": {
        "id": "p8U3uYZgT7cJ"
      },
      "source": [
        "import os\n",
        "import glob\n",
        "import cv2\n",
        "import shutil\n",
        "from google.colab import drive\n",
        "import zipfile"
      ],
      "execution_count": 1,
      "outputs": []
    },
    {
      "cell_type": "code",
      "metadata": {
        "id": "oizpkeLYSn-G",
        "colab": {
          "base_uri": "https://localhost:8080/"
        },
        "outputId": "67ab4bd2-8807-4aa7-de78-1e1b96a5595e"
      },
      "source": [
        "# parameters\n",
        "drive.mount('/content/gdrive')\n",
        "VIDEO_PATH = '/content/gdrive/My Drive/16:9GAN/data_raw/FMA - 16:9/'\n",
        "FRAME_PATH = '/content/frames/'\n",
        "ZIP_FOLDER = '/content/gdrive/My Drive/16:9GAN/data_out/'\n",
        "\n",
        "FRAME_SECONDS_SKIP = 0.5\n",
        "IMAGE_HEIGHT = 256\n",
        "IMAGE_WIDTH = 456\n",
        "SKIP_SECONDS_BEGINNING = 120\n",
        "SKIP_SECONDS_END = 120\n",
        "TEST_SPLIT = 0.25"
      ],
      "execution_count": 2,
      "outputs": [
        {
          "output_type": "stream",
          "name": "stdout",
          "text": [
            "Drive already mounted at /content/gdrive; to attempt to forcibly remount, call drive.mount(\"/content/gdrive\", force_remount=True).\n"
          ]
        }
      ]
    },
    {
      "cell_type": "markdown",
      "metadata": {
        "id": "p8J3fsm2KDFb"
      },
      "source": [
        "## Video loop and frame saving"
      ]
    },
    {
      "cell_type": "code",
      "metadata": {
        "colab": {
          "base_uri": "https://localhost:8080/"
        },
        "id": "V3NUGPIiUCKz",
        "outputId": "0d6ffbe0-7c31-43fa-a852-7501a5a4afa0"
      },
      "source": [
        "def save_frames(video_list, zip_path):\n",
        "\n",
        "    try:\n",
        "        shutil.rmtree(FRAME_PATH)\n",
        "    except FileNotFoundError:\n",
        "        pass\n",
        "    \n",
        "    os.mkdir(FRAME_PATH)\n",
        "\n",
        "    frame_count = 0\n",
        "    for f in video_list:\n",
        "        print(f)\n",
        "        vidcap = cv2.VideoCapture(f)\n",
        "        video_length = int(vidcap.get(cv2.CAP_PROP_FRAME_COUNT) / 24)\n",
        "        success, image = vidcap.read()\n",
        "\n",
        "        # loops through and save the frames\n",
        "        while success:\n",
        "            current_frame = vidcap.get(cv2.CAP_PROP_POS_FRAMES)\n",
        "            # skips the intro, outtro, and every 24 frames\n",
        "            if (current_frame >= (SKIP_SECONDS_BEGINNING * 24) and current_frame <= (video_length - SKIP_SECONDS_END) * 24 and current_frame % (FRAME_SECONDS_SKIP * 24) == 0):\n",
        "                    \n",
        "                # resizes and save the frame\n",
        "                image = cv2.resize(image, (IMAGE_WIDTH, IMAGE_HEIGHT))\n",
        "                cv2.imwrite(f'{FRAME_PATH}{frame_count}.jpg', image)\n",
        "                frame_count += 1\n",
        "\n",
        "            # loop to the next frame\n",
        "            success, image = vidcap.read()\n",
        "                \n",
        "        print(f'Number of images saved: {frame_count}')\n",
        "\n",
        "    shutil.make_archive(zip_path, 'zip', FRAME_PATH)\n",
        "    print(f'Saved zip {zip_path}')\n",
        "\n",
        "# keeps one video out for testing\n",
        "video_files = glob.glob(VIDEO_PATH + '*')\n",
        "video_files.sort()\n",
        "train_files = video_files[int(len(video_files) * TEST_SPLIT):]\n",
        "test_files = video_files[:int(len(video_files) * TEST_SPLIT)]\n",
        "\n",
        "# saves a train an test zip file\n",
        "save_frames(test_files, ZIP_FOLDER + 'test')\n",
        "save_frames(train_files, ZIP_FOLDER + 'train')\n"
      ],
      "execution_count": 3,
      "outputs": [
        {
          "output_type": "stream",
          "name": "stdout",
          "text": [
            "/content/gdrive/My Drive/16:9GAN/data_raw/FMA - 16:9/Full Metal Alchemist Brotherhood.E01.Full Metal Alchemist.avi\n",
            "Number of images saved: 2221\n",
            "/content/gdrive/My Drive/16:9GAN/data_raw/FMA - 16:9/Full Metal Alchemist Brotherhood.E02.The First Day.avi\n",
            "Number of images saved: 4440\n",
            "/content/gdrive/My Drive/16:9GAN/data_raw/FMA - 16:9/Full Metal Alchemist Brotherhood.E03.City of Heresy.avi\n",
            "Number of images saved: 6711\n",
            "/content/gdrive/My Drive/16:9GAN/data_raw/FMA - 16:9/Full Metal Alchemist Brotherhood.E04.An Alchemist's Anguish.avi\n",
            "Number of images saved: 9112\n",
            "/content/gdrive/My Drive/16:9GAN/data_raw/FMA - 16:9/Full Metal Alchemist Brotherhood.E05.Rain of Sorrows.avi\n",
            "Number of images saved: 11515\n",
            "/content/gdrive/My Drive/16:9GAN/data_raw/FMA - 16:9/Full Metal Alchemist Brotherhood.E06.Road of Hope.avi\n",
            "Number of images saved: 13916\n",
            "/content/gdrive/My Drive/16:9GAN/data_raw/FMA - 16:9/Full Metal Alchemist Brotherhood.E07.Hidden Truths.avi\n",
            "Number of images saved: 16813\n",
            "/content/gdrive/My Drive/16:9GAN/data_raw/FMA - 16:9/Full Metal Alchemist Brotherhood.E08.The Fifth Laboratory.avi\n",
            "Number of images saved: 18938\n",
            "/content/gdrive/My Drive/16:9GAN/data_raw/FMA - 16:9/Full Metal Alchemist Brotherhood.E09.Created Feelings.avi\n",
            "Number of images saved: 21215\n",
            "/content/gdrive/My Drive/16:9GAN/data_raw/FMA - 16:9/Full Metal Alchemist Brotherhood.E10.Separate Destinations.avi\n",
            "Number of images saved: 23418\n",
            "/content/gdrive/My Drive/16:9GAN/data_raw/FMA - 16:9/Full Metal Alchemist Brotherhood.E11.Miracle at Rush Valley.avi\n",
            "Number of images saved: 25635\n",
            "/content/gdrive/My Drive/16:9GAN/data_raw/FMA - 16:9/Full Metal Alchemist Brotherhood.E12.One is All, All is One.avi\n",
            "Number of images saved: 27856\n",
            "/content/gdrive/My Drive/16:9GAN/data_raw/FMA - 16:9/Full Metal Alchemist Brotherhood.E13.Beasts of Dublith.flv\n",
            "Number of images saved: 30077\n",
            "/content/gdrive/My Drive/16:9GAN/data_raw/FMA - 16:9/Full Metal Alchemist Brotherhood.E14.Those Who Lurk Underground.flv\n",
            "Number of images saved: 32356\n",
            "/content/gdrive/My Drive/16:9GAN/data_raw/FMA - 16:9/Full Metal Alchemist Brotherhood.E15.Envoy from the East.flv\n",
            "Number of images saved: 34547\n",
            "/content/gdrive/My Drive/16:9GAN/data_raw/FMA - 16:9/Full Metal Alchemist Brotherhood.E16.Footsteps of a ComradeinArms.avi\n",
            "Number of images saved: 36734\n",
            "Saved zip /content/gdrive/My Drive/16:9GAN/data_out/test\n",
            "/content/gdrive/My Drive/16:9GAN/data_raw/FMA - 16:9/Full Metal Alchemist Brotherhood.E17.Cold Flames.avi\n",
            "Number of images saved: 2189\n",
            "/content/gdrive/My Drive/16:9GAN/data_raw/FMA - 16:9/Full Metal Alchemist Brotherhood.E18.The Arrogant Palm of a Small Human.avi\n",
            "Number of images saved: 4380\n",
            "/content/gdrive/My Drive/16:9GAN/data_raw/FMA - 16:9/Full Metal Alchemist Brotherhood.E19.Death of the Undying.avi\n",
            "Number of images saved: 6569\n",
            "/content/gdrive/My Drive/16:9GAN/data_raw/FMA - 16:9/Full Metal Alchemist Brotherhood.E20.Father Before the Grave.avi\n",
            "Number of images saved: 8760\n",
            "/content/gdrive/My Drive/16:9GAN/data_raw/FMA - 16:9/Full Metal Alchemist Brotherhood.E21.Advance of the Fool.avi\n",
            "Number of images saved: 10947\n",
            "/content/gdrive/My Drive/16:9GAN/data_raw/FMA - 16:9/Full Metal Alchemist Brotherhood.E22.Backs in the Distance.avi\n",
            "Number of images saved: 13132\n",
            "/content/gdrive/My Drive/16:9GAN/data_raw/FMA - 16:9/Full Metal Alchemist Brotherhood.E23.Girl on the Battlefield.avi\n",
            "Number of images saved: 15323\n",
            "/content/gdrive/My Drive/16:9GAN/data_raw/FMA - 16:9/Full Metal Alchemist Brotherhood.E24.Inside the Belly.avi\n",
            "Number of images saved: 17514\n",
            "/content/gdrive/My Drive/16:9GAN/data_raw/FMA - 16:9/Full Metal Alchemist Brotherhood.E25.Doorway of Darkness.avi\n",
            "Number of images saved: 19703\n",
            "/content/gdrive/My Drive/16:9GAN/data_raw/FMA - 16:9/Full Metal Alchemist Brotherhood.E26.Reunion.avi\n",
            "Number of images saved: 21890\n",
            "/content/gdrive/My Drive/16:9GAN/data_raw/FMA - 16:9/Full Metal Alchemist Brotherhood.E27.Interlude Party.flv\n",
            "Number of images saved: 24363\n",
            "/content/gdrive/My Drive/16:9GAN/data_raw/FMA - 16:9/Full Metal Alchemist Brotherhood.E28.Father.flv\n",
            "Number of images saved: 26836\n",
            "/content/gdrive/My Drive/16:9GAN/data_raw/FMA - 16:9/Full Metal Alchemist Brotherhood.E29.Struggle of the Fool.flv\n",
            "Number of images saved: 29309\n",
            "/content/gdrive/My Drive/16:9GAN/data_raw/FMA - 16:9/Full Metal Alchemist Brotherhood.E30.The Ishbalan War of Extermination.flv\n",
            "Number of images saved: 31782\n",
            "/content/gdrive/My Drive/16:9GAN/data_raw/FMA - 16:9/Full Metal Alchemist Brotherhood.E31.The Promise Made For 520 Cenz.flv\n",
            "Number of images saved: 34255\n",
            "/content/gdrive/My Drive/16:9GAN/data_raw/FMA - 16:9/Full Metal Alchemist Brotherhood.E32.The Führer's Son.flv\n",
            "Number of images saved: 36728\n",
            "/content/gdrive/My Drive/16:9GAN/data_raw/FMA - 16:9/Full Metal Alchemist Brotherhood.E33.The Northern Wall of Briggs.flv\n",
            "Number of images saved: 39201\n",
            "/content/gdrive/My Drive/16:9GAN/data_raw/FMA - 16:9/Full Metal Alchemist Brotherhood.E34.Ice Queen.flv\n",
            "Number of images saved: 41674\n",
            "/content/gdrive/My Drive/16:9GAN/data_raw/FMA - 16:9/Full Metal Alchemist Brotherhood.E35.The Shape of This Country.flv\n",
            "Number of images saved: 44147\n",
            "/content/gdrive/My Drive/16:9GAN/data_raw/FMA - 16:9/Full Metal Alchemist Brotherhood.E36.Family Portrait.flv\n",
            "Number of images saved: 46622\n",
            "/content/gdrive/My Drive/16:9GAN/data_raw/FMA - 16:9/Full Metal Alchemist Brotherhood.E37.The First Homunculus.flv\n",
            "Number of images saved: 49095\n",
            "/content/gdrive/My Drive/16:9GAN/data_raw/FMA - 16:9/Full Metal Alchemist Brotherhood.E38.Clash in Baschool.flv\n",
            "Number of images saved: 51568\n",
            "/content/gdrive/My Drive/16:9GAN/data_raw/FMA - 16:9/Full Metal Alchemist Brotherhood.E39.Daydream.flv\n",
            "Number of images saved: 54041\n",
            "/content/gdrive/My Drive/16:9GAN/data_raw/FMA - 16:9/Full Metal Alchemist Brotherhood.E40.Homunculus.mp4\n",
            "Number of images saved: 56498\n",
            "/content/gdrive/My Drive/16:9GAN/data_raw/FMA - 16:9/Full Metal Alchemist Brotherhood.E41.The Abyss.mp4\n",
            "Number of images saved: 58953\n",
            "/content/gdrive/My Drive/16:9GAN/data_raw/FMA - 16:9/Full Metal Alchemist Brotherhood.E42.Signs of a Counteroffensive.mp4\n",
            "Number of images saved: 61408\n",
            "/content/gdrive/My Drive/16:9GAN/data_raw/FMA - 16:9/Full Metal Alchemist Brotherhood.E43.Bite of the Ant.mp4\n",
            "Number of images saved: 63863\n",
            "/content/gdrive/My Drive/16:9GAN/data_raw/FMA - 16:9/Full Metal Alchemist Brotherhood.E44.Revving at Full Throttle.mp4\n",
            "Number of images saved: 66320\n",
            "/content/gdrive/My Drive/16:9GAN/data_raw/FMA - 16:9/Full Metal Alchemist Brotherhood.E45.The Promised Day.mp4\n",
            "Number of images saved: 68775\n",
            "/content/gdrive/My Drive/16:9GAN/data_raw/FMA - 16:9/Full Metal Alchemist Brotherhood.E46.Looming Shadows.mp4\n",
            "Number of images saved: 71230\n",
            "/content/gdrive/My Drive/16:9GAN/data_raw/FMA - 16:9/Full Metal Alchemist Brotherhood.E47.Emissary of Darkness.mp4\n",
            "Number of images saved: 73705\n",
            "/content/gdrive/My Drive/16:9GAN/data_raw/FMA - 16:9/Full Metal Alchemist Brotherhood.E48.The Oath in the Tunnel.mp4\n",
            "Number of images saved: 76182\n",
            "/content/gdrive/My Drive/16:9GAN/data_raw/FMA - 16:9/Full Metal Alchemist Brotherhood.E49.Filial Affection.mp4\n",
            "Number of images saved: 78657\n",
            "/content/gdrive/My Drive/16:9GAN/data_raw/FMA - 16:9/Full Metal Alchemist Brotherhood.E50.Upheaval in Central.mp4\n",
            "Number of images saved: 81132\n",
            "/content/gdrive/My Drive/16:9GAN/data_raw/FMA - 16:9/Full Metal Alchemist Brotherhood.E51.The Immortal Legion.mp4\n",
            "Number of images saved: 83607\n",
            "/content/gdrive/My Drive/16:9GAN/data_raw/FMA - 16:9/Full Metal Alchemist Brotherhood.E52.Combined Strength.mp4\n",
            "Number of images saved: 86084\n",
            "/content/gdrive/My Drive/16:9GAN/data_raw/FMA - 16:9/Full Metal Alchemist Brotherhood.E53.Flame of Vengeance.mp4\n",
            "Number of images saved: 88259\n",
            "/content/gdrive/My Drive/16:9GAN/data_raw/FMA - 16:9/Full Metal Alchemist Brotherhood.E54.Beyond the Inferno.mp4\n",
            "Number of images saved: 90702\n",
            "/content/gdrive/My Drive/16:9GAN/data_raw/FMA - 16:9/Full Metal Alchemist Brotherhood.E55.The Adults' Way of Life.mp4\n",
            "Number of images saved: 93167\n",
            "/content/gdrive/My Drive/16:9GAN/data_raw/FMA - 16:9/Full Metal Alchemist Brotherhood.E56.The Return of the Fuhrer.mp4\n",
            "Number of images saved: 95594\n",
            "/content/gdrive/My Drive/16:9GAN/data_raw/FMA - 16:9/Full Metal Alchemist Brotherhood.E57.Eternal Leave.mp4\n",
            "Number of images saved: 98007\n",
            "/content/gdrive/My Drive/16:9GAN/data_raw/FMA - 16:9/Full Metal Alchemist Brotherhood.E58.Sacrifices.mp4\n",
            "Number of images saved: 100428\n",
            "/content/gdrive/My Drive/16:9GAN/data_raw/FMA - 16:9/Full Metal Alchemist Brotherhood.E59.Lost Light.mp4\n",
            "Number of images saved: 102859\n",
            "/content/gdrive/My Drive/16:9GAN/data_raw/FMA - 16:9/Full Metal Alchemist Brotherhood.E60.Eye of Heaven, Gateway of Earth.mp4\n",
            "Number of images saved: 105270\n",
            "/content/gdrive/My Drive/16:9GAN/data_raw/FMA - 16:9/Full Metal Alchemist Brotherhood.E61.He Who Would Swallow God.mp4\n",
            "Number of images saved: 107673\n",
            "/content/gdrive/My Drive/16:9GAN/data_raw/FMA - 16:9/Full Metal Alchemist Brotherhood.E62.A Fierce Counterattack.mp4\n",
            "Number of images saved: 110076\n",
            "/content/gdrive/My Drive/16:9GAN/data_raw/FMA - 16:9/Full Metal Alchemist Brotherhood.E63.The Other Side of the Gateway.mp4\n",
            "Number of images saved: 112465\n",
            "/content/gdrive/My Drive/16:9GAN/data_raw/FMA - 16:9/Full Metal Alchemist Brotherhood.E64.Journey's End.mp4\n",
            "Number of images saved: 114808\n",
            "Saved zip /content/gdrive/My Drive/16:9GAN/data_out/train\n"
          ]
        }
      ]
    }
  ]
}