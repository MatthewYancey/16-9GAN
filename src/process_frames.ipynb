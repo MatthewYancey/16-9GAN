{
  "nbformat": 4,
  "nbformat_minor": 0,
  "metadata": {
    "colab": {
      "name": "process_frames.ipynb",
      "provenance": [],
      "collapsed_sections": [],
      "include_colab_link": true
    },
    "kernelspec": {
      "display_name": "Python 3",
      "name": "python3"
    }
  },
  "cells": [
    {
      "cell_type": "markdown",
      "metadata": {
        "id": "view-in-github",
        "colab_type": "text"
      },
      "source": [
        "<a href=\"https://colab.research.google.com/github/MatthewYancey/16-9GAN/blob/master/src/process_frames.ipynb\" target=\"_parent\"><img src=\"https://colab.research.google.com/assets/colab-badge.svg\" alt=\"Open In Colab\"/></a>"
      ]
    },
    {
      "cell_type": "markdown",
      "metadata": {
        "id": "Uv_Hsd_xSby-"
      },
      "source": [
        "# Data Processing\n",
        "\n",
        "This notebook takes the video files in a folder and saves the individual frames."
      ]
    },
    {
      "cell_type": "markdown",
      "metadata": {
        "id": "7jTVB-DOJsfR"
      },
      "source": [
        "## Imports and Parameters"
      ]
    },
    {
      "cell_type": "code",
      "metadata": {
        "id": "p8U3uYZgT7cJ"
      },
      "source": [
        "import os\n",
        "import glob\n",
        "import cv2\n",
        "import shutil\n",
        "from google.colab import drive\n",
        "import zipfile"
      ],
      "execution_count": 1,
      "outputs": []
    },
    {
      "cell_type": "code",
      "metadata": {
        "id": "oizpkeLYSn-G",
        "colab": {
          "base_uri": "https://localhost:8080/"
        },
        "outputId": "228a8805-2a81-4ac9-9f92-f1a1e282114d"
      },
      "source": [
        "# parameters\n",
        "drive.mount('/content/gdrive')\n",
        "VIDEO_PATH = '/content/gdrive/My Drive/16:9GAN/data_raw/FMA - 16:9/'\n",
        "TEST_PATH = '/content/gdrive/My Drive/16:9GAN/data_raw/FMA - 4:3/'\n",
        "FRAME_PATH = '/content/frames/'\n",
        "ZIP_FOLDER = '/content/gdrive/My Drive/16:9GAN/data_out/'\n",
        "\n",
        "FRAME_SECONDS_SKIP = 0.5\n",
        "IMAGE_HEIGHT = 256\n",
        "SINGLE_SIDE = 32\n",
        "# IMAGE_WIDTH = 456\n",
        "IMAGE_WIDTH = 256\n",
        "SKIP_SECONDS_BEGINNING = 120\n",
        "SKIP_SECONDS_END = 120\n",
        "TEST_SPLIT = 0.25"
      ],
      "execution_count": 2,
      "outputs": [
        {
          "output_type": "stream",
          "name": "stdout",
          "text": [
            "Drive already mounted at /content/gdrive; to attempt to forcibly remount, call drive.mount(\"/content/gdrive\", force_remount=True).\n"
          ]
        }
      ]
    },
    {
      "cell_type": "markdown",
      "metadata": {
        "id": "p8J3fsm2KDFb"
      },
      "source": [
        "## Video loop and frame saving"
      ]
    },
    {
      "cell_type": "code",
      "metadata": {
        "id": "V3NUGPIiUCKz"
      },
      "source": [
        "def save_frames(video_list, zip_path, test_video=False):\n",
        "\n",
        "    try:\n",
        "        shutil.rmtree(FRAME_PATH)\n",
        "    except FileNotFoundError:\n",
        "        pass\n",
        "    \n",
        "    os.mkdir(FRAME_PATH)\n",
        "\n",
        "    frame_count = 0\n",
        "    for f in video_list:\n",
        "        print(f)\n",
        "        vidcap = cv2.VideoCapture(f)\n",
        "        video_length = int(vidcap.get(cv2.CAP_PROP_FRAME_COUNT) / 24)\n",
        "        success, image = vidcap.read()\n",
        "\n",
        "        # loops through and save the frames\n",
        "        while success:\n",
        "            current_frame = vidcap.get(cv2.CAP_PROP_POS_FRAMES)\n",
        "\n",
        "            # skips the intro, outtro, and every 24 frames\n",
        "            if test_video:\n",
        "                if current_frame % (FRAME_SECONDS_SKIP * 24) == 0:                    \n",
        "                    # resizes and save the frame\n",
        "                    image = cv2.resize(image, (IMAGE_WIDTH - (2 * SINGLE_SIDE), IMAGE_HEIGHT))\n",
        "                    cv2.imwrite(f'{FRAME_PATH}{frame_count}.jpg', image)\n",
        "                    frame_count += 1\n",
        "\n",
        "            else:\n",
        "                if (current_frame >= (SKIP_SECONDS_BEGINNING * 24) and current_frame <= (video_length - SKIP_SECONDS_END) * 24 and current_frame % (FRAME_SECONDS_SKIP * 24) == 0):\n",
        "                    # resizes and save the frame\n",
        "                    image = cv2.resize(image, (IMAGE_WIDTH, IMAGE_HEIGHT))\n",
        "                    cv2.imwrite(f'{FRAME_PATH}{frame_count}.jpg', image)\n",
        "                    frame_count += 1\n",
        "\n",
        "            # loop to the next frame\n",
        "            success, image = vidcap.read()\n",
        "                \n",
        "        print(f'Number of images saved: {frame_count}')\n",
        "\n",
        "    shutil.make_archive(zip_path, 'zip', FRAME_PATH)\n",
        "    print(f'Saved zip {zip_path}')\n",
        "\n",
        "# keeps one video out for testing\n",
        "video_files = glob.glob(VIDEO_PATH + '*')\n",
        "video_files.sort()\n",
        "train_files = video_files[int(len(video_files) * TEST_SPLIT):]\n",
        "val_files = video_files[:int(len(video_files) * TEST_SPLIT)]\n",
        "test_files = glob.glob(TEST_PATH + '*')\n",
        "\n",
        "print(f'Train videos: {len(train_files)}')\n",
        "print(f'Validate videos: {len(val_files)}')\n",
        "print(f'Test videos: {len(test_files)}')\n",
        "\n",
        "# saves a train an test zip file\n",
        "save_frames(test_files, ZIP_FOLDER + 'test', True)\n",
        "save_frames(val_files, ZIP_FOLDER + 'validate')\n",
        "save_frames(train_files, ZIP_FOLDER + 'train')\n"
      ],
      "execution_count": null,
      "outputs": []
    }
  ]
}