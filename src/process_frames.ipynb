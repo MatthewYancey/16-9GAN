{
  "nbformat": 4,
  "nbformat_minor": 0,
  "metadata": {
    "colab": {
      "name": "process_frames.ipynb",
      "provenance": [],
      "collapsed_sections": [],
      "toc_visible": true,
      "include_colab_link": true
    },
    "kernelspec": {
      "display_name": "Python 3",
      "name": "python3"
    }
  },
  "cells": [
    {
      "cell_type": "markdown",
      "metadata": {
        "id": "view-in-github",
        "colab_type": "text"
      },
      "source": [
        "<a href=\"https://colab.research.google.com/github/MatthewYancey/16-9GAN/blob/master/src/process_frames.ipynb\" target=\"_parent\"><img src=\"https://colab.research.google.com/assets/colab-badge.svg\" alt=\"Open In Colab\"/></a>"
      ]
    },
    {
      "cell_type": "markdown",
      "metadata": {
        "id": "Uv_Hsd_xSby-"
      },
      "source": [
        "# Data Processing\n",
        "\n",
        "This notebook takes the video files in a folder and saves the individual frames."
      ]
    },
    {
      "cell_type": "markdown",
      "metadata": {
        "id": "7jTVB-DOJsfR"
      },
      "source": [
        "## Imports and Parameters"
      ]
    },
    {
      "cell_type": "code",
      "metadata": {
        "id": "p8U3uYZgT7cJ"
      },
      "source": [
        "import os\n",
        "import glob\n",
        "import cv2\n",
        "import shutil\n",
        "from google.colab import drive\n",
        "import zipfile"
      ],
      "execution_count": 1,
      "outputs": []
    },
    {
      "cell_type": "code",
      "metadata": {
        "id": "oizpkeLYSn-G",
        "colab": {
          "base_uri": "https://localhost:8080/"
        },
        "outputId": "513fc708-a40f-49fa-830a-2a99a711b586"
      },
      "source": [
        "# parameters\n",
        "drive.mount('/content/gdrive')\n",
        "VIDEO_PATH = '/content/gdrive/My Drive/16:9GAN/data_raw/FMA - 16:9/'\n",
        "FRAME_PATH = '/content/frames/'\n",
        "ZIP_FOLDER = '/content/gdrive/My Drive/16:9GAN/data_out/'\n",
        "\n",
        "FRAME_SECONDS_SKIP = 0.5\n",
        "IMAGE_SIZE = 256\n",
        "SKIP_SECONDS_BEGINNING = 120\n",
        "SKIP_SECONDS_END = 120\n",
        "TEST_SPLIT = 0.25"
      ],
      "execution_count": 2,
      "outputs": [
        {
          "output_type": "stream",
          "name": "stdout",
          "text": [
            "Drive already mounted at /content/gdrive; to attempt to forcibly remount, call drive.mount(\"/content/gdrive\", force_remount=True).\n"
          ]
        }
      ]
    },
    {
      "cell_type": "markdown",
      "metadata": {
        "id": "p8J3fsm2KDFb"
      },
      "source": [
        "## Video loop and frame saving"
      ]
    },
    {
      "cell_type": "code",
      "metadata": {
        "colab": {
          "base_uri": "https://localhost:8080/"
        },
        "id": "V3NUGPIiUCKz",
        "outputId": "c2200571-8d41-4c3e-e741-45169833034f"
      },
      "source": [
        "def save_frames(video_list, zip_path):\n",
        "\n",
        "    try:\n",
        "        shutil.rmtree(FRAME_PATH)\n",
        "    except FileNotFoundError:\n",
        "        pass\n",
        "    \n",
        "    os.mkdir(FRAME_PATH)\n",
        "\n",
        "    frame_count = 0\n",
        "    for f in video_list:\n",
        "        print(f)\n",
        "        vidcap = cv2.VideoCapture(f)\n",
        "        video_length = int(vidcap.get(cv2.CAP_PROP_FRAME_COUNT) / 24)\n",
        "        success, image = vidcap.read()\n",
        "\n",
        "        # loops through and save the frames\n",
        "        while success:\n",
        "            current_frame = vidcap.get(cv2.CAP_PROP_POS_FRAMES)\n",
        "            # skips the intro, outtro, and every 24 frames\n",
        "            if (current_frame >= (SKIP_SECONDS_BEGINNING * 24) and current_frame <= (video_length - SKIP_SECONDS_END) * 24 and current_frame % (FRAME_SECONDS_SKIP * 24) == 0):\n",
        "                    \n",
        "                # resizes and save the frame\n",
        "                image = cv2.resize(image, (IMAGE_SIZE, IMAGE_SIZE))\n",
        "                cv2.imwrite(f'{FRAME_PATH}{frame_count}.jpg', image)\n",
        "                frame_count += 1\n",
        "\n",
        "            # loop to the next frame\n",
        "            success, image = vidcap.read()\n",
        "                \n",
        "        print(f'Number of images saved: {frame_count}')\n",
        "\n",
        "    shutil.make_archive(zip_path, 'zip', FRAME_PATH)\n",
        "    print(f'Saved zip {zip_path}')\n",
        "\n",
        "# keeps one video out for testing\n",
        "video_files = glob.glob(VIDEO_PATH + '*')[:10]\n",
        "train_files = video_files[int(len(video_files) * TEST_SPLIT):]\n",
        "test_files = video_files[:int(len(video_files) * TEST_SPLIT)]\n",
        "\n",
        "# saves a train an test zip file\n",
        "save_frames(test_files, ZIP_FOLDER + 'test')\n",
        "save_frames(train_files, ZIP_FOLDER + 'train')\n"
      ],
      "execution_count": 4,
      "outputs": [
        {
          "output_type": "stream",
          "name": "stdout",
          "text": [
            "/content/gdrive/My Drive/16:9GAN/data_raw/FMA - 16:9/Full Metal Alchemist Brotherhood.E28.Father.flv\n",
            "Number of images saved: 2473\n",
            "/content/gdrive/My Drive/16:9GAN/data_raw/FMA - 16:9/Full Metal Alchemist Brotherhood.E47.Emissary of Darkness.mp4\n",
            "Number of images saved: 4948\n",
            "Saved zip /content/gdrive/My Drive/16:9GAN/data_out/test\n",
            "/content/gdrive/My Drive/16:9GAN/data_raw/FMA - 16:9/Full Metal Alchemist Brotherhood.E33.The Northern Wall of Briggs.flv\n",
            "Number of images saved: 2473\n",
            "/content/gdrive/My Drive/16:9GAN/data_raw/FMA - 16:9/Full Metal Alchemist Brotherhood.E57.Eternal Leave.mp4\n",
            "Number of images saved: 4886\n",
            "/content/gdrive/My Drive/16:9GAN/data_raw/FMA - 16:9/Full Metal Alchemist Brotherhood.E35.The Shape of This Country.flv\n",
            "Number of images saved: 7359\n",
            "/content/gdrive/My Drive/16:9GAN/data_raw/FMA - 16:9/Full Metal Alchemist Brotherhood.E58.Sacrifices.mp4\n",
            "Number of images saved: 9780\n",
            "/content/gdrive/My Drive/16:9GAN/data_raw/FMA - 16:9/Full Metal Alchemist Brotherhood.E34.Ice Queen.flv\n",
            "Number of images saved: 12253\n",
            "/content/gdrive/My Drive/16:9GAN/data_raw/FMA - 16:9/Full Metal Alchemist Brotherhood.E24.Inside the Belly.avi\n",
            "Number of images saved: 14444\n",
            "/content/gdrive/My Drive/16:9GAN/data_raw/FMA - 16:9/Full Metal Alchemist Brotherhood.E61.He Who Would Swallow God.mp4\n",
            "Number of images saved: 16847\n",
            "/content/gdrive/My Drive/16:9GAN/data_raw/FMA - 16:9/Full Metal Alchemist Brotherhood.E46.Looming Shadows.mp4\n",
            "Number of images saved: 19302\n",
            "Saved zip /content/gdrive/My Drive/16:9GAN/data_out/train\n"
          ]
        }
      ]
    }
  ]
}