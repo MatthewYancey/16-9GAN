{
  "nbformat": 4,
  "nbformat_minor": 0,
  "metadata": {
    "colab": {
      "name": "process_frames_43.ipynb",
      "provenance": [],
      "mount_file_id": "1egy0JloDufI-d_Yn00FV-VqGVYHtS13O",
      "authorship_tag": "ABX9TyPL3z68NwpdfKdkCK9kSYou",
      "include_colab_link": true
    },
    "kernelspec": {
      "name": "python3",
      "display_name": "Python 3"
    },
    "language_info": {
      "name": "python"
    }
  },
  "cells": [
    {
      "cell_type": "markdown",
      "metadata": {
        "id": "view-in-github",
        "colab_type": "text"
      },
      "source": [
        "<a href=\"https://colab.research.google.com/github/MatthewYancey/GANime/blob/master/src/process_frames_43.ipynb\" target=\"_parent\"><img src=\"https://colab.research.google.com/assets/colab-badge.svg\" alt=\"Open In Colab\"/></a>"
      ]
    },
    {
      "cell_type": "markdown",
      "source": [
        "# Process Frames 4:3\n",
        "This notebook takes in 4:3 example video and gets the frames."
      ],
      "metadata": {
        "id": "YDaWuX6v9Lnb"
      }
    },
    {
      "cell_type": "code",
      "source": [
        "import cv2\n",
        "import numpy as np\n",
        "\n",
        "from google.colab.patches import cv2_imshow\n",
        "from google.colab import drive\n",
        "drive.mount('/content/gdrive')"
      ],
      "metadata": {
        "colab": {
          "base_uri": "https://localhost:8080/"
        },
        "id": "RyOmWQnH9kFh",
        "outputId": "6fc21cf3-479a-4869-fed3-3a970e42cfb1"
      },
      "execution_count": 1,
      "outputs": [
        {
          "output_type": "stream",
          "name": "stdout",
          "text": [
            "Mounted at /content/gdrive\n"
          ]
        }
      ]
    },
    {
      "cell_type": "code",
      "source": [
        "INPUT_FILE = '/content/gdrive/MyDrive/repos/GANime/data_raw/example_input/pokemon_1997.mov'\n",
        "OUTPUT_DIR = '/content/gdrive/MyDrive/repos/GANime/data_out/example_output/pokemon/'\n",
        "IMG_WIDTH = 384\n",
        "IMG_HEIGHT = 288\n",
        "SINGLE_SIDE = 64"
      ],
      "metadata": {
        "id": "sCjjoLQx_U8L"
      },
      "execution_count": 2,
      "outputs": []
    },
    {
      "cell_type": "code",
      "source": [
        "def get_frames(input_file, output_dir):\n",
        "    frame_count = 0\n",
        "    outsides = np.zeros((IMG_HEIGHT, SINGLE_SIDE, 3), np.uint8) * 255\n",
        "\n",
        "    vidcap = cv2.VideoCapture(input_file)\n",
        "    success, image = vidcap.read()\n",
        "\n",
        "    while success:\n",
        "\n",
        "            if frame_count % 6 == 0:\n",
        "                # resizes and save the frame\n",
        "                image = cv2.resize(image, (IMG_WIDTH, IMG_HEIGHT))\n",
        "                new_image = cv2.hconcat([outsides, image, outsides])\n",
        "\n",
        "                frame_path = f'{output_dir}{frame_count}.jpg'\n",
        "                cv2.imwrite(frame_path, new_image)\n",
        "            frame_count += 1\n",
        "\n",
        "            # loop to the next frame\n",
        "            success, image = vidcap.read()\n",
        "    \n",
        "    print(f'Max frame: {frame_count // 6}')"
      ],
      "metadata": {
        "id": "hzVmohe2_12U"
      },
      "execution_count": 3,
      "outputs": []
    },
    {
      "cell_type": "code",
      "source": [
        "get_frames(INPUT_FILE, OUTPUT_DIR)"
      ],
      "metadata": {
        "colab": {
          "base_uri": "https://localhost:8080/"
        },
        "id": "UCMhA0xxDgKd",
        "outputId": "745f6ba8-4048-4bf5-cd3c-ab120c301180"
      },
      "execution_count": 4,
      "outputs": [
        {
          "output_type": "stream",
          "name": "stdout",
          "text": [
            "Max frame: 413\n"
          ]
        }
      ]
    }
  ]
}