{
  "nbformat": 4,
  "nbformat_minor": 0,
  "metadata": {
    "colab": {
      "name": "model_context_encoders.ipynb",
      "provenance": [],
      "authorship_tag": "ABX9TyNiSIjJK3xUo+eNgPSEnXrm",
      "include_colab_link": true
    },
    "kernelspec": {
      "name": "python3",
      "display_name": "Python 3"
    },
    "language_info": {
      "name": "python"
    },
    "accelerator": "GPU"
  },
  "cells": [
    {
      "cell_type": "markdown",
      "metadata": {
        "id": "view-in-github",
        "colab_type": "text"
      },
      "source": [
        "<a href=\"https://colab.research.google.com/github/MatthewYancey/GANime/blob/master/src/model_context_encoders.ipynb\" target=\"_parent\"><img src=\"https://colab.research.google.com/assets/colab-badge.svg\" alt=\"Open In Colab\"/></a>"
      ]
    },
    {
      "cell_type": "markdown",
      "metadata": {
        "id": "NfxMXJnq_kzW"
      },
      "source": [
        "# GANime - Context Encoder\n",
        "This notebook applies the context encoder paper."
      ]
    },
    {
      "cell_type": "markdown",
      "metadata": {
        "id": "bouI0_AzCRZy"
      },
      "source": [
        "## Imports and Parameters"
      ]
    },
    {
      "cell_type": "code",
      "metadata": {
        "id": "885wpFfz2zLh",
        "colab": {
          "base_uri": "https://localhost:8080/"
        },
        "outputId": "c585ab51-112d-4890-d1d2-0771cdc0575d"
      },
      "source": [
        "import os\n",
        "import sys\n",
        "import shutil\n",
        "import glob\n",
        "import random\n",
        "import pandas as pd\n",
        "import numpy as np\n",
        "from PIL import Image\n",
        "import matplotlib.pyplot as plt\n",
        "\n",
        "import torch\n",
        "import torch.nn as nn\n",
        "import torch.optim as optim\n",
        "\n",
        "import torchvision\n",
        "import torchvision.transforms as transforms\n",
        "import torchvision.utils as vutils\n",
        "\n",
        "from google.colab import drive\n",
        "drive.mount('/content/gdrive')\n",
        "\n",
        "sys.path.append('/content/gdrive/MyDrive/repos/GANime/src')\n",
        "from helper_functions import apply_mask, apply_padding, apply_comp, apply_scale, load_checkpoint, checkpoint, gpu_memory\n",
        "from data_loaders import create_dataloaders\n",
        "from networks_context_encoders import Generator, Discriminator, weights_init"
      ],
      "execution_count": 1,
      "outputs": [
        {
          "output_type": "stream",
          "name": "stdout",
          "text": [
            "Mounted at /content/gdrive\n"
          ]
        }
      ]
    },
    {
      "cell_type": "code",
      "metadata": {
        "id": "rw3URZEO3MZm",
        "colab": {
          "base_uri": "https://localhost:8080/"
        },
        "outputId": "c60f0785-c59c-46bb-ac6a-abac19b093c9"
      },
      "source": [
        "# network parameters\n",
        "BATCH_SIZE = 15\n",
        "DATASET_SIZE = 100000\n",
        "N_BATCHES = DATASET_SIZE // BATCH_SIZE\n",
        "N_GPU = 1\n",
        "N_WORKERS = 1\n",
        "N_EPOCHS = 100\n",
        "GEN_LEARNING_RATE = 0.001\n",
        "DISC_LEARNING_RATE = 0.0001\n",
        "ALPHA_WEIGHT = 0.9\n",
        "DROPOUT_RATE = 0.1\n",
        "\n",
        "# image\n",
        "IMG_HEIGHT = 288\n",
        "IMG_WIDTH = 512\n",
        "SINGLE_SIDE = 64\n",
        "\n",
        "# tensorboard\n",
        "TRAIN_REFERENCE_INDEX = 200\n",
        "VAL_REFERENCE_INDEX = 100\n",
        "TEST_REFERENCE_INDEX = 20\n",
        "\n",
        "# cost weights\n",
        "WEIGHT_DECAY = 0.05\n",
        "\n",
        "# directories\n",
        "ZIP_PATH_TRAIN = '/content/gdrive/My Drive/repos/GANime/data_out/pokemon/train.zip'\n",
        "IMG_DIR_TRAIN = '/content/frames/train/'\n",
        "ZIP_PATH_VAL = '/content/gdrive/My Drive/repos/GANime/data_out/pokemon/validate.zip'\n",
        "IMG_DIR_VAL = '/content/frames/validate/'\n",
        "ZIP_PATH_TEST = '/content/gdrive/My Drive/repos/GANime/data_out/pokemon/test.zip'\n",
        "IMG_DIR_TEST = '/content/frames/test/'\n",
        "LOG_DIR = '/content/gdrive/My Drive/repos/GANime/data_out/logs/model_context_encoders/'\n",
        "# PREV_CHECKPOINT = '/content/gdrive/My Drive/repos/GANime/data_out/logs/model_context_encoders/checkpoint.pt' # set to none to not load and create a new log folder\n",
        "PREV_CHECKPOINT = None # set to none to not load and create a new log folder\n",
        "\n",
        "!nvidia-smi -L"
      ],
      "execution_count": 2,
      "outputs": [
        {
          "output_type": "stream",
          "name": "stdout",
          "text": [
            "GPU 0: Tesla V100-SXM2-16GB (UUID: GPU-131d564f-338c-1914-6553-8665bacf10f1)\n"
          ]
        }
      ]
    },
    {
      "cell_type": "code",
      "source": [
        "# unzips images\n",
        "if os.path.exists(IMG_DIR_TRAIN) == False:\n",
        "    shutil.unpack_archive(ZIP_PATH_TRAIN, IMG_DIR_TRAIN, 'zip')\n",
        "    shutil.unpack_archive(ZIP_PATH_VAL, IMG_DIR_VAL, 'zip')\n",
        "    shutil.unpack_archive(ZIP_PATH_TEST, IMG_DIR_TEST, 'zip')"
      ],
      "metadata": {
        "id": "lM3AjT6K7gHK"
      },
      "execution_count": 3,
      "outputs": []
    },
    {
      "cell_type": "code",
      "source": [
        "# sets what device to run on\n",
        "device = torch.device(\"cuda:0\" if (torch.cuda.is_available() and N_GPU > 0) else \"cpu\")\n",
        "print(f'Device: {device}')"
      ],
      "metadata": {
        "colab": {
          "base_uri": "https://localhost:8080/"
        },
        "id": "E0tVJnSA72ht",
        "outputId": "7fabca73-74ec-47d2-8f4e-92a8d9e09635"
      },
      "execution_count": 4,
      "outputs": [
        {
          "output_type": "stream",
          "name": "stdout",
          "text": [
            "Device: cuda:0\n"
          ]
        }
      ]
    },
    {
      "cell_type": "code",
      "source": [
        "dataloader_train, dataloader_val, dataloader_test = create_dataloaders(BATCH_SIZE, N_WORKERS, IMG_DIR_TRAIN, IMG_DIR_VAL, IMG_DIR_TEST, DATASET_SIZE)"
      ],
      "metadata": {
        "colab": {
          "base_uri": "https://localhost:8080/"
        },
        "id": "Mi4wVo_075gD",
        "outputId": "171bbd08-a80d-4c24-dd09-e673c439245a"
      },
      "execution_count": 5,
      "outputs": [
        {
          "output_type": "stream",
          "name": "stdout",
          "text": [
            "Training Dataset\n",
            "Number of images: 21623\n",
            "Size of dataset: 21623\n",
            "Validation Dataset\n",
            "Number of images: 6178\n",
            "Size of dataset: 6178\n",
            "Testing Dataset\n",
            "Number of images: 3089\n",
            "Size of dataset: 3089\n"
          ]
        }
      ]
    },
    {
      "cell_type": "code",
      "source": [
        "gen = Generator(IMG_WIDTH, SINGLE_SIDE).to(device)\n",
        "gen.apply(weights_init)\n",
        "disc = Discriminator().to(device)\n",
        "disc.apply(weights_init)\n",
        "gpu_memory()"
      ],
      "metadata": {
        "colab": {
          "base_uri": "https://localhost:8080/"
        },
        "id": "Wu0EwLAf78i2",
        "outputId": "2caf4fcf-9879-4d54-eb0b-d480949a47e4"
      },
      "execution_count": 6,
      "outputs": [
        {
          "output_type": "stream",
          "name": "stdout",
          "text": [
            "Allocated memory: 2.3949184\n"
          ]
        }
      ]
    },
    {
      "cell_type": "code",
      "source": [
        "loss_bce = nn.BCELoss()\n",
        "loss_mse = nn.MSELoss()\n",
        "optimizer_gen = optim.Adam(gen.parameters(), lr=GEN_LEARNING_RATE, betas=(0.5, 0.9))\n",
        "optimizer_disc = optim.Adam(disc.parameters(), lr=DISC_LEARNING_RATE, betas=(0.5, 0.9), weight_decay=WEIGHT_DECAY)"
      ],
      "metadata": {
        "id": "EQTRkGdX-vtX"
      },
      "execution_count": 7,
      "outputs": []
    },
    {
      "cell_type": "code",
      "source": [
        "# loads the checkpoint\n",
        "gen, optimizer_gen, disc, optimizer_disc, batch_counter = load_checkpoint(PREV_CHECKPOINT, LOG_DIR, gen, optimizer_gen, disc, optimizer_disc)\n",
        "gpu_memory()"
      ],
      "metadata": {
        "colab": {
          "base_uri": "https://localhost:8080/"
        },
        "id": "Jrn_SZo4_m_-",
        "outputId": "cea2834f-fa33-4264-d42a-979e391b7784"
      },
      "execution_count": 8,
      "outputs": [
        {
          "output_type": "stream",
          "name": "stdout",
          "text": [
            "Folders removed\n",
            "Allocated memory: 2.3949184\n"
          ]
        }
      ]
    },
    {
      "cell_type": "code",
      "source": [
        "for epoch in range(N_EPOCHS):\n",
        "    # gets data for the generator\n",
        "    for i, batch in enumerate(dataloader_train, 0):\n",
        "        batch = batch.to(device)\n",
        "        #############################\n",
        "        # Discriminator\n",
        "        #############################\n",
        "        disc.zero_grad()\n",
        "        disc_output = disc(batch)\n",
        "        disc_loss_real = loss_bce(disc_output, torch.ones(disc_output.shape[0], 1).cuda())\n",
        "        disc_accuracy = (disc_output.round() == torch.ones(disc_output.shape[0], 1).cuda()).sum()\n",
        "        disc_loss_real.backward()\n",
        "\n",
        "        # apply mask to the images\n",
        "        batch_mask = batch.clone()\n",
        "        batch_mask = apply_mask(batch_mask, IMG_WIDTH, SINGLE_SIDE)\n",
        "\n",
        "        # passes fake images to feed the discriminator\n",
        "        gen_output = gen(batch_mask)\n",
        "        gen_output = apply_comp(batch, gen_output, IMG_WIDTH, SINGLE_SIDE)\n",
        "        disc_output = disc(gen_output)\n",
        "\n",
        "        # calcualtes accuracy and loss on the fake images\n",
        "        disc_accuracy += (disc_output.round() == torch.zeros(disc_output.shape[0], 1).cuda()).sum()\n",
        "        disc_accuracy = disc_accuracy / (BATCH_SIZE * 2)\n",
        "        disc_loss_fake = loss_bce(disc_output, torch.zeros(disc_output.shape[0], 1).to(device))\n",
        "        disc_loss_fake.backward()\n",
        "\n",
        "        # optimized the discriminator\n",
        "        disc_loss = (disc_loss_real + disc_loss_fake) / 200  # scale the loss between 0 and 1\n",
        "        optimizer_disc.step()\n",
        "\n",
        "        #############################\n",
        "        # Generater\n",
        "        #############################\n",
        "        gen.zero_grad()\n",
        "        gen_output = gen(batch_mask)\n",
        "\n",
        "        # combines the sides from the generator with the 4:3\n",
        "        gen_output = apply_comp(batch, gen_output, IMG_WIDTH, SINGLE_SIDE)\n",
        "        disc_output = disc(gen_output)\n",
        "        \n",
        "        # calculates the loss\n",
        "        gen_train_loss_l2 = loss_mse(gen_output, batch)\n",
        "        gen_train_loss_bce = loss_bce(disc_output, torch.ones(disc_output.shape[0], 1).cuda())\n",
        "        gen_train_loss = gen_train_loss_l2*ALPHA_WEIGHT + gen_train_loss_bce*(1-ALPHA_WEIGHT)\n",
        "\n",
        "        # error and optimize\n",
        "        gen_train_loss.backward()\n",
        "        optimizer_gen.step()\n",
        "\n",
        "        # prints the status and checkpoints every so often\n",
        "        if i % 10 == 0:\n",
        "            # gets the validation loss\n",
        "            batch = next(iter(dataloader_val))\n",
        "            batch = batch.to(device)\n",
        "            batch_mask = batch.clone()\n",
        "            batch_mask = apply_mask(batch_mask, IMG_WIDTH, SINGLE_SIDE)\n",
        "            with torch.no_grad():\n",
        "                gen_output = gen(batch_mask)\n",
        "            gen_output = apply_comp(batch, gen_output, IMG_WIDTH, SINGLE_SIDE)\n",
        "\n",
        "            # calcuates the validation loss\n",
        "            disc_output = disc(gen_output)\n",
        "            gen_val_loss_bce = loss_bce(disc_output, torch.ones(disc_output.shape[0], 1).cuda())\n",
        "            gen_val_loss_l2 = loss_mse(gen_output, batch)\n",
        "            gen_val_loss = gen_val_loss_l2*ALPHA_WEIGHT + gen_val_loss_bce*(1-ALPHA_WEIGHT)\n",
        "\n",
        "            print(f'Epoch: {epoch}/{N_EPOCHS}, Batch: {i}/{N_BATCHES}, Total Images {batch_counter * BATCH_SIZE}, Gen Train Loss: {gen_train_loss:.4f}, Gen Val Loss: {gen_val_loss:.4f}, Disc Accuracy: {disc_accuracy:.4f}, CUDA Memory: {torch.cuda.memory_allocated() / 10**9}')\n",
        "\n",
        "            if i % 1000 == 0:\n",
        "                checkpoint(batch_counter,\n",
        "                           disc_loss.item(),\n",
        "                           disc_accuracy,\n",
        "                           gen_train_loss.item(),\n",
        "                           gen_train_loss_l2.item(),\n",
        "                           gen_val_loss.item(),\n",
        "                           gen_val_loss_l2.item(),\n",
        "                           LOG_DIR,\n",
        "                           gen,\n",
        "                           optimizer_gen,\n",
        "                           disc,\n",
        "                           optimizer_disc,\n",
        "                           dataloader_train,\n",
        "                           TRAIN_REFERENCE_INDEX,\n",
        "                           dataloader_val,\n",
        "                           VAL_REFERENCE_INDEX,\n",
        "                           IMG_HEIGHT,\n",
        "                           IMG_WIDTH,\n",
        "                           SINGLE_SIDE)\n",
        "\n",
        "        batch_counter += 1"
      ],
      "metadata": {
        "colab": {
          "base_uri": "https://localhost:8080/",
          "height": 1000
        },
        "id": "uCycYGQeAHRV",
        "outputId": "d07aa96a-2d00-4a3d-984d-a18bd7c890ee"
      },
      "execution_count": 9,
      "outputs": [
        {
          "output_type": "stream",
          "name": "stdout",
          "text": [
            "Epoch: 0/100, Batch: 0/6666, Total Images 0, Gen Train Loss: 0.1600, Gen Val Loss: 0.1361, Disc Accuracy: 0.3667, CUDA Memory: 10.05320704\n",
            "Saving reference images\n",
            "Saved checkpoint\n",
            "Epoch: 0/100, Batch: 10/6666, Total Images 150, Gen Train Loss: 0.1190, Gen Val Loss: 0.1194, Disc Accuracy: 0.1000, CUDA Memory: 10.549736448\n",
            "Epoch: 0/100, Batch: 20/6666, Total Images 300, Gen Train Loss: 0.1360, Gen Val Loss: 0.1394, Disc Accuracy: 0.1333, CUDA Memory: 10.550260736\n",
            "Epoch: 0/100, Batch: 30/6666, Total Images 450, Gen Train Loss: 0.1225, Gen Val Loss: 0.1252, Disc Accuracy: 0.2000, CUDA Memory: 10.523718656\n",
            "Epoch: 0/100, Batch: 40/6666, Total Images 600, Gen Train Loss: 0.1317, Gen Val Loss: 0.1301, Disc Accuracy: 0.2333, CUDA Memory: 10.549736448\n",
            "Epoch: 0/100, Batch: 50/6666, Total Images 750, Gen Train Loss: 0.1137, Gen Val Loss: 0.1402, Disc Accuracy: 0.4000, CUDA Memory: 10.550260736\n",
            "Epoch: 0/100, Batch: 60/6666, Total Images 900, Gen Train Loss: 0.1284, Gen Val Loss: 0.1150, Disc Accuracy: 0.6333, CUDA Memory: 10.550260736\n",
            "Epoch: 0/100, Batch: 70/6666, Total Images 1050, Gen Train Loss: 0.1353, Gen Val Loss: 0.1402, Disc Accuracy: 0.7333, CUDA Memory: 10.470633984\n",
            "Epoch: 0/100, Batch: 80/6666, Total Images 1200, Gen Train Loss: 0.1534, Gen Val Loss: 0.1210, Disc Accuracy: 0.7000, CUDA Memory: 10.497176576\n",
            "Epoch: 0/100, Batch: 90/6666, Total Images 1350, Gen Train Loss: 0.1728, Gen Val Loss: 0.1677, Disc Accuracy: 0.6000, CUDA Memory: 10.550260736\n",
            "Epoch: 0/100, Batch: 100/6666, Total Images 1500, Gen Train Loss: 0.1480, Gen Val Loss: 0.1283, Disc Accuracy: 0.4000, CUDA Memory: 10.549277696\n",
            "Saved checkpoint\n",
            "Epoch: 0/100, Batch: 110/6666, Total Images 1650, Gen Train Loss: 0.1343, Gen Val Loss: 0.1114, Disc Accuracy: 0.5333, CUDA Memory: 10.550260736\n",
            "Epoch: 0/100, Batch: 120/6666, Total Images 1800, Gen Train Loss: 0.1320, Gen Val Loss: 0.1238, Disc Accuracy: 0.5333, CUDA Memory: 10.550260736\n",
            "Epoch: 0/100, Batch: 130/6666, Total Images 1950, Gen Train Loss: 0.1365, Gen Val Loss: 0.1201, Disc Accuracy: 0.6000, CUDA Memory: 10.550260736\n",
            "Epoch: 0/100, Batch: 140/6666, Total Images 2100, Gen Train Loss: 0.1602, Gen Val Loss: 0.1300, Disc Accuracy: 0.5000, CUDA Memory: 10.550260736\n",
            "Epoch: 0/100, Batch: 150/6666, Total Images 2250, Gen Train Loss: 0.1256, Gen Val Loss: 0.1232, Disc Accuracy: 0.4000, CUDA Memory: 10.550260736\n",
            "Epoch: 0/100, Batch: 160/6666, Total Images 2400, Gen Train Loss: 0.1323, Gen Val Loss: 0.1261, Disc Accuracy: 0.4667, CUDA Memory: 10.550260736\n",
            "Epoch: 0/100, Batch: 170/6666, Total Images 2550, Gen Train Loss: 0.1181, Gen Val Loss: 0.1172, Disc Accuracy: 0.5333, CUDA Memory: 10.550260736\n",
            "Epoch: 0/100, Batch: 180/6666, Total Images 2700, Gen Train Loss: 0.1215, Gen Val Loss: 0.1149, Disc Accuracy: 0.2667, CUDA Memory: 10.54921216\n",
            "Epoch: 0/100, Batch: 190/6666, Total Images 2850, Gen Train Loss: 0.1175, Gen Val Loss: 0.1199, Disc Accuracy: 0.5667, CUDA Memory: 10.548687872\n",
            "Epoch: 0/100, Batch: 200/6666, Total Images 3000, Gen Train Loss: 0.1355, Gen Val Loss: 0.1272, Disc Accuracy: 0.5333, CUDA Memory: 10.522211328\n",
            "Saved checkpoint\n",
            "Epoch: 0/100, Batch: 210/6666, Total Images 3150, Gen Train Loss: 0.1384, Gen Val Loss: 0.1204, Disc Accuracy: 0.5333, CUDA Memory: 10.470633984\n",
            "Epoch: 0/100, Batch: 220/6666, Total Images 3300, Gen Train Loss: 0.1221, Gen Val Loss: 0.1166, Disc Accuracy: 0.4667, CUDA Memory: 10.550260736\n",
            "Epoch: 0/100, Batch: 230/6666, Total Images 3450, Gen Train Loss: 0.1310, Gen Val Loss: 0.1153, Disc Accuracy: 0.5667, CUDA Memory: 10.496128\n",
            "Epoch: 0/100, Batch: 240/6666, Total Images 3600, Gen Train Loss: 0.1375, Gen Val Loss: 0.1132, Disc Accuracy: 0.5667, CUDA Memory: 10.550260736\n",
            "Epoch: 0/100, Batch: 250/6666, Total Images 3750, Gen Train Loss: 0.1305, Gen Val Loss: 0.1124, Disc Accuracy: 0.6000, CUDA Memory: 10.523718656\n",
            "Epoch: 0/100, Batch: 260/6666, Total Images 3900, Gen Train Loss: 0.1222, Gen Val Loss: 0.1123, Disc Accuracy: 0.5000, CUDA Memory: 10.496128\n",
            "Epoch: 0/100, Batch: 270/6666, Total Images 4050, Gen Train Loss: 0.1162, Gen Val Loss: 0.1012, Disc Accuracy: 0.4000, CUDA Memory: 10.54921216\n",
            "Epoch: 0/100, Batch: 280/6666, Total Images 4200, Gen Train Loss: 0.1275, Gen Val Loss: 0.1204, Disc Accuracy: 0.6000, CUDA Memory: 10.550260736\n",
            "Epoch: 0/100, Batch: 290/6666, Total Images 4350, Gen Train Loss: 0.1191, Gen Val Loss: 0.1327, Disc Accuracy: 0.4667, CUDA Memory: 10.470633984\n",
            "Epoch: 0/100, Batch: 300/6666, Total Images 4500, Gen Train Loss: 0.1184, Gen Val Loss: 0.1187, Disc Accuracy: 0.7667, CUDA Memory: 10.54921216\n",
            "Saved checkpoint\n",
            "Epoch: 0/100, Batch: 310/6666, Total Images 4650, Gen Train Loss: 0.1057, Gen Val Loss: 0.1187, Disc Accuracy: 0.3333, CUDA Memory: 10.54822912\n",
            "Epoch: 0/100, Batch: 320/6666, Total Images 4800, Gen Train Loss: 0.1156, Gen Val Loss: 0.1226, Disc Accuracy: 0.5333, CUDA Memory: 10.54921216\n",
            "Epoch: 0/100, Batch: 330/6666, Total Images 4950, Gen Train Loss: 0.1240, Gen Val Loss: 0.1315, Disc Accuracy: 0.6667, CUDA Memory: 10.550260736\n",
            "Epoch: 0/100, Batch: 340/6666, Total Images 5100, Gen Train Loss: 0.1214, Gen Val Loss: 0.1125, Disc Accuracy: 0.3667, CUDA Memory: 10.54921216\n",
            "Epoch: 0/100, Batch: 350/6666, Total Images 5250, Gen Train Loss: 0.1237, Gen Val Loss: 0.1144, Disc Accuracy: 0.5000, CUDA Memory: 10.548687872\n",
            "Epoch: 0/100, Batch: 360/6666, Total Images 5400, Gen Train Loss: 0.1127, Gen Val Loss: 0.0974, Disc Accuracy: 0.5000, CUDA Memory: 10.549736448\n",
            "Epoch: 0/100, Batch: 370/6666, Total Images 5550, Gen Train Loss: 0.1247, Gen Val Loss: 0.1102, Disc Accuracy: 0.7000, CUDA Memory: 10.549736448\n",
            "Epoch: 0/100, Batch: 380/6666, Total Images 5700, Gen Train Loss: 0.1202, Gen Val Loss: 0.1159, Disc Accuracy: 0.6000, CUDA Memory: 10.549736448\n",
            "Epoch: 0/100, Batch: 390/6666, Total Images 5850, Gen Train Loss: 0.1204, Gen Val Loss: 0.0980, Disc Accuracy: 0.6000, CUDA Memory: 10.549277696\n",
            "Epoch: 0/100, Batch: 400/6666, Total Images 6000, Gen Train Loss: 0.1153, Gen Val Loss: 0.1045, Disc Accuracy: 0.5333, CUDA Memory: 10.549277696\n",
            "Saved checkpoint\n",
            "Epoch: 0/100, Batch: 410/6666, Total Images 6150, Gen Train Loss: 0.1121, Gen Val Loss: 0.1085, Disc Accuracy: 0.4333, CUDA Memory: 10.550260736\n",
            "Epoch: 0/100, Batch: 420/6666, Total Images 6300, Gen Train Loss: 0.1163, Gen Val Loss: 0.1009, Disc Accuracy: 0.6667, CUDA Memory: 10.550260736\n",
            "Epoch: 0/100, Batch: 430/6666, Total Images 6450, Gen Train Loss: 0.1107, Gen Val Loss: 0.1100, Disc Accuracy: 0.6000, CUDA Memory: 10.550260736\n",
            "Epoch: 0/100, Batch: 440/6666, Total Images 6600, Gen Train Loss: 0.1053, Gen Val Loss: 0.1005, Disc Accuracy: 0.2333, CUDA Memory: 10.54921216\n",
            "Epoch: 0/100, Batch: 450/6666, Total Images 6750, Gen Train Loss: 0.1184, Gen Val Loss: 0.1067, Disc Accuracy: 0.6000, CUDA Memory: 10.548163584\n",
            "Epoch: 0/100, Batch: 460/6666, Total Images 6900, Gen Train Loss: 0.1137, Gen Val Loss: 0.1110, Disc Accuracy: 0.5000, CUDA Memory: 10.54921216\n",
            "Epoch: 0/100, Batch: 470/6666, Total Images 7050, Gen Train Loss: 0.1122, Gen Val Loss: 0.1148, Disc Accuracy: 0.4667, CUDA Memory: 10.54921216\n",
            "Epoch: 0/100, Batch: 480/6666, Total Images 7200, Gen Train Loss: 0.1138, Gen Val Loss: 0.1090, Disc Accuracy: 0.4000, CUDA Memory: 10.549277696\n",
            "Epoch: 0/100, Batch: 490/6666, Total Images 7350, Gen Train Loss: 0.1238, Gen Val Loss: 0.1116, Disc Accuracy: 0.5000, CUDA Memory: 10.549736448\n",
            "Epoch: 0/100, Batch: 500/6666, Total Images 7500, Gen Train Loss: 0.1176, Gen Val Loss: 0.1008, Disc Accuracy: 0.5333, CUDA Memory: 10.548753408\n",
            "Saved checkpoint\n",
            "Epoch: 0/100, Batch: 510/6666, Total Images 7650, Gen Train Loss: 0.1196, Gen Val Loss: 0.1012, Disc Accuracy: 0.5333, CUDA Memory: 10.550260736\n",
            "Epoch: 0/100, Batch: 520/6666, Total Images 7800, Gen Train Loss: 0.1076, Gen Val Loss: 0.1122, Disc Accuracy: 0.5667, CUDA Memory: 10.54921216\n",
            "Epoch: 0/100, Batch: 530/6666, Total Images 7950, Gen Train Loss: 0.1031, Gen Val Loss: 0.1025, Disc Accuracy: 0.4000, CUDA Memory: 10.54921216\n",
            "Epoch: 0/100, Batch: 540/6666, Total Images 8100, Gen Train Loss: 0.1111, Gen Val Loss: 0.0978, Disc Accuracy: 0.5000, CUDA Memory: 10.550260736\n",
            "Epoch: 0/100, Batch: 550/6666, Total Images 8250, Gen Train Loss: 0.1338, Gen Val Loss: 0.0978, Disc Accuracy: 0.4333, CUDA Memory: 10.550260736\n",
            "Epoch: 0/100, Batch: 560/6666, Total Images 8400, Gen Train Loss: 0.1195, Gen Val Loss: 0.1049, Disc Accuracy: 0.5000, CUDA Memory: 10.54921216\n",
            "Epoch: 0/100, Batch: 570/6666, Total Images 8550, Gen Train Loss: 0.1124, Gen Val Loss: 0.1060, Disc Accuracy: 0.6333, CUDA Memory: 10.548687872\n",
            "Epoch: 0/100, Batch: 580/6666, Total Images 8700, Gen Train Loss: 0.1230, Gen Val Loss: 0.1052, Disc Accuracy: 0.5333, CUDA Memory: 10.54921216\n",
            "Epoch: 0/100, Batch: 590/6666, Total Images 8850, Gen Train Loss: 0.1104, Gen Val Loss: 0.0980, Disc Accuracy: 0.4667, CUDA Memory: 10.548687872\n",
            "Epoch: 0/100, Batch: 600/6666, Total Images 9000, Gen Train Loss: 0.1095, Gen Val Loss: 0.0984, Disc Accuracy: 0.6333, CUDA Memory: 10.548163584\n",
            "Saved checkpoint\n",
            "Epoch: 0/100, Batch: 610/6666, Total Images 9150, Gen Train Loss: 0.1018, Gen Val Loss: 0.0964, Disc Accuracy: 0.4333, CUDA Memory: 10.548163584\n",
            "Epoch: 0/100, Batch: 620/6666, Total Images 9300, Gen Train Loss: 0.1079, Gen Val Loss: 0.0992, Disc Accuracy: 0.6333, CUDA Memory: 10.549277696\n",
            "Epoch: 0/100, Batch: 630/6666, Total Images 9450, Gen Train Loss: 0.1144, Gen Val Loss: 0.1044, Disc Accuracy: 0.5667, CUDA Memory: 10.550260736\n",
            "Epoch: 0/100, Batch: 640/6666, Total Images 9600, Gen Train Loss: 0.1081, Gen Val Loss: 0.1002, Disc Accuracy: 0.5000, CUDA Memory: 10.54921216\n",
            "Epoch: 0/100, Batch: 650/6666, Total Images 9750, Gen Train Loss: 0.1192, Gen Val Loss: 0.1034, Disc Accuracy: 0.5000, CUDA Memory: 10.54921216\n",
            "Epoch: 0/100, Batch: 660/6666, Total Images 9900, Gen Train Loss: 0.1081, Gen Val Loss: 0.1058, Disc Accuracy: 0.5667, CUDA Memory: 10.54921216\n",
            "Epoch: 0/100, Batch: 670/6666, Total Images 10050, Gen Train Loss: 0.1117, Gen Val Loss: 0.0980, Disc Accuracy: 0.6333, CUDA Memory: 10.54921216\n",
            "Epoch: 0/100, Batch: 680/6666, Total Images 10200, Gen Train Loss: 0.1185, Gen Val Loss: 0.1113, Disc Accuracy: 0.6000, CUDA Memory: 10.549736448\n",
            "Epoch: 0/100, Batch: 690/6666, Total Images 10350, Gen Train Loss: 0.1054, Gen Val Loss: 0.1019, Disc Accuracy: 0.4667, CUDA Memory: 10.522145792\n",
            "Epoch: 0/100, Batch: 700/6666, Total Images 10500, Gen Train Loss: 0.1070, Gen Val Loss: 0.0991, Disc Accuracy: 0.6333, CUDA Memory: 10.46906112\n",
            "Saved checkpoint\n",
            "Epoch: 0/100, Batch: 710/6666, Total Images 10650, Gen Train Loss: 0.1171, Gen Val Loss: 0.1106, Disc Accuracy: 0.7000, CUDA Memory: 10.547704832\n",
            "Epoch: 0/100, Batch: 720/6666, Total Images 10800, Gen Train Loss: 0.1024, Gen Val Loss: 0.0984, Disc Accuracy: 0.5000, CUDA Memory: 10.547704832\n",
            "Epoch: 0/100, Batch: 730/6666, Total Images 10950, Gen Train Loss: 0.0984, Gen Val Loss: 0.0943, Disc Accuracy: 0.4333, CUDA Memory: 10.548687872\n",
            "Epoch: 0/100, Batch: 740/6666, Total Images 11100, Gen Train Loss: 0.1069, Gen Val Loss: 0.0937, Disc Accuracy: 0.5667, CUDA Memory: 10.548163584\n",
            "Epoch: 0/100, Batch: 750/6666, Total Images 11250, Gen Train Loss: 0.1165, Gen Val Loss: 0.1048, Disc Accuracy: 0.6000, CUDA Memory: 10.54921216\n",
            "Epoch: 0/100, Batch: 760/6666, Total Images 11400, Gen Train Loss: 0.1002, Gen Val Loss: 0.0910, Disc Accuracy: 0.5333, CUDA Memory: 10.523718656\n",
            "Epoch: 0/100, Batch: 770/6666, Total Images 11550, Gen Train Loss: 0.1096, Gen Val Loss: 0.0921, Disc Accuracy: 0.5667, CUDA Memory: 10.550260736\n",
            "Epoch: 0/100, Batch: 780/6666, Total Images 11700, Gen Train Loss: 0.1041, Gen Val Loss: 0.0980, Disc Accuracy: 0.4667, CUDA Memory: 10.550260736\n",
            "Epoch: 0/100, Batch: 790/6666, Total Images 11850, Gen Train Loss: 0.1099, Gen Val Loss: 0.1092, Disc Accuracy: 0.6000, CUDA Memory: 10.550260736\n",
            "Epoch: 0/100, Batch: 800/6666, Total Images 12000, Gen Train Loss: 0.1064, Gen Val Loss: 0.1133, Disc Accuracy: 0.5000, CUDA Memory: 10.54921216\n",
            "Saved checkpoint\n",
            "Epoch: 0/100, Batch: 810/6666, Total Images 12150, Gen Train Loss: 0.1042, Gen Val Loss: 0.0967, Disc Accuracy: 0.6333, CUDA Memory: 10.54921216\n",
            "Epoch: 0/100, Batch: 820/6666, Total Images 12300, Gen Train Loss: 0.1206, Gen Val Loss: 0.1062, Disc Accuracy: 0.4333, CUDA Memory: 10.550260736\n",
            "Epoch: 0/100, Batch: 830/6666, Total Images 12450, Gen Train Loss: 0.1102, Gen Val Loss: 0.1002, Disc Accuracy: 0.3333, CUDA Memory: 10.54921216\n",
            "Epoch: 0/100, Batch: 840/6666, Total Images 12600, Gen Train Loss: 0.1188, Gen Val Loss: 0.1268, Disc Accuracy: 0.6333, CUDA Memory: 10.550260736\n",
            "Epoch: 0/100, Batch: 850/6666, Total Images 12750, Gen Train Loss: 0.1093, Gen Val Loss: 0.1034, Disc Accuracy: 0.5000, CUDA Memory: 10.550260736\n",
            "Epoch: 0/100, Batch: 860/6666, Total Images 12900, Gen Train Loss: 0.1165, Gen Val Loss: 0.0983, Disc Accuracy: 0.6667, CUDA Memory: 10.550260736\n",
            "Epoch: 0/100, Batch: 870/6666, Total Images 13050, Gen Train Loss: 0.1304, Gen Val Loss: 0.1096, Disc Accuracy: 0.6667, CUDA Memory: 10.550260736\n",
            "Epoch: 0/100, Batch: 880/6666, Total Images 13200, Gen Train Loss: 0.1103, Gen Val Loss: 0.1043, Disc Accuracy: 0.5000, CUDA Memory: 10.549736448\n",
            "Epoch: 0/100, Batch: 890/6666, Total Images 13350, Gen Train Loss: 0.1065, Gen Val Loss: 0.0957, Disc Accuracy: 0.6000, CUDA Memory: 10.548753408\n",
            "Epoch: 0/100, Batch: 900/6666, Total Images 13500, Gen Train Loss: 0.0929, Gen Val Loss: 0.0841, Disc Accuracy: 0.5333, CUDA Memory: 10.469650944\n",
            "Saved checkpoint\n",
            "Epoch: 0/100, Batch: 910/6666, Total Images 13650, Gen Train Loss: 0.1165, Gen Val Loss: 0.0934, Disc Accuracy: 0.8333, CUDA Memory: 10.549277696\n",
            "Epoch: 0/100, Batch: 920/6666, Total Images 13800, Gen Train Loss: 0.1046, Gen Val Loss: 0.0935, Disc Accuracy: 0.7000, CUDA Memory: 10.549736448\n",
            "Epoch: 0/100, Batch: 930/6666, Total Images 13950, Gen Train Loss: 0.1201, Gen Val Loss: 0.0983, Disc Accuracy: 0.9333, CUDA Memory: 10.550260736\n",
            "Epoch: 0/100, Batch: 940/6666, Total Images 14100, Gen Train Loss: 0.1236, Gen Val Loss: 0.0874, Disc Accuracy: 1.0000, CUDA Memory: 10.470633984\n",
            "Epoch: 0/100, Batch: 950/6666, Total Images 14250, Gen Train Loss: 0.1246, Gen Val Loss: 0.1026, Disc Accuracy: 0.9000, CUDA Memory: 10.54921216\n",
            "Epoch: 0/100, Batch: 960/6666, Total Images 14400, Gen Train Loss: 0.1614, Gen Val Loss: 0.0927, Disc Accuracy: 1.0000, CUDA Memory: 10.54921216\n",
            "Epoch: 0/100, Batch: 970/6666, Total Images 14550, Gen Train Loss: 0.1444, Gen Val Loss: 0.1007, Disc Accuracy: 0.7667, CUDA Memory: 10.550260736\n",
            "Epoch: 0/100, Batch: 980/6666, Total Images 14700, Gen Train Loss: 0.1499, Gen Val Loss: 0.1299, Disc Accuracy: 0.8667, CUDA Memory: 10.550260736\n",
            "Epoch: 0/100, Batch: 990/6666, Total Images 14850, Gen Train Loss: 0.1702, Gen Val Loss: 0.1501, Disc Accuracy: 1.0000, CUDA Memory: 10.550260736\n",
            "Epoch: 0/100, Batch: 1000/6666, Total Images 15000, Gen Train Loss: 0.1617, Gen Val Loss: 0.1117, Disc Accuracy: 1.0000, CUDA Memory: 10.549736448\n",
            "Saved checkpoint\n",
            "Epoch: 0/100, Batch: 1010/6666, Total Images 15150, Gen Train Loss: 0.1507, Gen Val Loss: 0.1207, Disc Accuracy: 0.8333, CUDA Memory: 10.496652288\n",
            "Epoch: 0/100, Batch: 1020/6666, Total Images 15300, Gen Train Loss: 0.1782, Gen Val Loss: 0.1741, Disc Accuracy: 0.9333, CUDA Memory: 10.549736448\n",
            "Epoch: 0/100, Batch: 1030/6666, Total Images 15450, Gen Train Loss: 0.1857, Gen Val Loss: 0.1936, Disc Accuracy: 0.9333, CUDA Memory: 10.550260736\n",
            "Epoch: 0/100, Batch: 1040/6666, Total Images 15600, Gen Train Loss: 0.2183, Gen Val Loss: 0.1741, Disc Accuracy: 1.0000, CUDA Memory: 10.550260736\n",
            "Epoch: 0/100, Batch: 1050/6666, Total Images 15750, Gen Train Loss: 0.2114, Gen Val Loss: 0.1863, Disc Accuracy: 1.0000, CUDA Memory: 10.470633984\n",
            "Epoch: 0/100, Batch: 1060/6666, Total Images 15900, Gen Train Loss: 0.1900, Gen Val Loss: 0.1620, Disc Accuracy: 0.9333, CUDA Memory: 10.549277696\n",
            "Epoch: 0/100, Batch: 1070/6666, Total Images 16050, Gen Train Loss: 0.1904, Gen Val Loss: 0.1530, Disc Accuracy: 0.9333, CUDA Memory: 10.548753408\n",
            "Epoch: 0/100, Batch: 1080/6666, Total Images 16200, Gen Train Loss: 0.1322, Gen Val Loss: 0.1107, Disc Accuracy: 0.9000, CUDA Memory: 10.470109696\n",
            "Epoch: 0/100, Batch: 1090/6666, Total Images 16350, Gen Train Loss: 0.2070, Gen Val Loss: 0.1666, Disc Accuracy: 1.0000, CUDA Memory: 10.46906112\n",
            "Epoch: 0/100, Batch: 1100/6666, Total Images 16500, Gen Train Loss: 0.2015, Gen Val Loss: 0.1708, Disc Accuracy: 1.0000, CUDA Memory: 10.52267008\n",
            "Saved checkpoint\n",
            "Epoch: 0/100, Batch: 1110/6666, Total Images 16650, Gen Train Loss: 0.2044, Gen Val Loss: 0.1245, Disc Accuracy: 1.0000, CUDA Memory: 10.550260736\n",
            "Epoch: 0/100, Batch: 1120/6666, Total Images 16800, Gen Train Loss: 0.2298, Gen Val Loss: 0.1965, Disc Accuracy: 1.0000, CUDA Memory: 10.549277696\n",
            "Epoch: 0/100, Batch: 1130/6666, Total Images 16950, Gen Train Loss: 0.1788, Gen Val Loss: 0.1958, Disc Accuracy: 0.9000, CUDA Memory: 10.468602368\n",
            "Epoch: 0/100, Batch: 1140/6666, Total Images 17100, Gen Train Loss: 0.1769, Gen Val Loss: 0.1880, Disc Accuracy: 0.9000, CUDA Memory: 10.548687872\n",
            "Epoch: 0/100, Batch: 1150/6666, Total Images 17250, Gen Train Loss: 0.2147, Gen Val Loss: 0.1916, Disc Accuracy: 1.0000, CUDA Memory: 10.549736448\n",
            "Epoch: 0/100, Batch: 1160/6666, Total Images 17400, Gen Train Loss: 0.2309, Gen Val Loss: 0.1555, Disc Accuracy: 1.0000, CUDA Memory: 10.549736448\n",
            "Epoch: 0/100, Batch: 1170/6666, Total Images 17550, Gen Train Loss: 0.2222, Gen Val Loss: 0.1929, Disc Accuracy: 0.9667, CUDA Memory: 10.549736448\n",
            "Epoch: 0/100, Batch: 1180/6666, Total Images 17700, Gen Train Loss: 0.1865, Gen Val Loss: 0.1694, Disc Accuracy: 0.9667, CUDA Memory: 10.550260736\n",
            "Epoch: 0/100, Batch: 1190/6666, Total Images 17850, Gen Train Loss: 0.2319, Gen Val Loss: 0.2232, Disc Accuracy: 1.0000, CUDA Memory: 10.550260736\n",
            "Epoch: 0/100, Batch: 1200/6666, Total Images 18000, Gen Train Loss: 0.2029, Gen Val Loss: 0.2102, Disc Accuracy: 0.8667, CUDA Memory: 10.550260736\n",
            "Saved checkpoint\n",
            "Epoch: 0/100, Batch: 1210/6666, Total Images 18150, Gen Train Loss: 0.2604, Gen Val Loss: 0.1733, Disc Accuracy: 1.0000, CUDA Memory: 10.549736448\n",
            "Epoch: 0/100, Batch: 1220/6666, Total Images 18300, Gen Train Loss: 0.2744, Gen Val Loss: 0.2394, Disc Accuracy: 1.0000, CUDA Memory: 10.550260736\n",
            "Epoch: 0/100, Batch: 1230/6666, Total Images 18450, Gen Train Loss: 0.2316, Gen Val Loss: 0.1967, Disc Accuracy: 1.0000, CUDA Memory: 10.470633984\n",
            "Epoch: 0/100, Batch: 1240/6666, Total Images 18600, Gen Train Loss: 0.2535, Gen Val Loss: 0.2341, Disc Accuracy: 1.0000, CUDA Memory: 10.549277696\n",
            "Epoch: 0/100, Batch: 1250/6666, Total Images 18750, Gen Train Loss: 0.2199, Gen Val Loss: 0.2105, Disc Accuracy: 0.9667, CUDA Memory: 10.550260736\n",
            "Epoch: 0/100, Batch: 1260/6666, Total Images 18900, Gen Train Loss: 0.1675, Gen Val Loss: 0.1258, Disc Accuracy: 0.9667, CUDA Memory: 10.549736448\n",
            "Epoch: 0/100, Batch: 1270/6666, Total Images 19050, Gen Train Loss: 0.2593, Gen Val Loss: 0.1971, Disc Accuracy: 0.9333, CUDA Memory: 10.470633984\n",
            "Epoch: 0/100, Batch: 1280/6666, Total Images 19200, Gen Train Loss: 0.2824, Gen Val Loss: 0.2406, Disc Accuracy: 1.0000, CUDA Memory: 10.470633984\n",
            "Epoch: 0/100, Batch: 1290/6666, Total Images 19350, Gen Train Loss: 0.2521, Gen Val Loss: 0.1859, Disc Accuracy: 1.0000, CUDA Memory: 10.523718656\n",
            "Epoch: 0/100, Batch: 1300/6666, Total Images 19500, Gen Train Loss: 0.2363, Gen Val Loss: 0.1864, Disc Accuracy: 1.0000, CUDA Memory: 10.550260736\n",
            "Saved checkpoint\n",
            "Epoch: 0/100, Batch: 1310/6666, Total Images 19650, Gen Train Loss: 0.2671, Gen Val Loss: 0.2459, Disc Accuracy: 0.9667, CUDA Memory: 10.549277696\n",
            "Epoch: 0/100, Batch: 1320/6666, Total Images 19800, Gen Train Loss: 0.1754, Gen Val Loss: 0.1586, Disc Accuracy: 0.6667, CUDA Memory: 10.549277696\n",
            "Epoch: 0/100, Batch: 1330/6666, Total Images 19950, Gen Train Loss: 0.2529, Gen Val Loss: 0.2177, Disc Accuracy: 1.0000, CUDA Memory: 10.549277696\n",
            "Epoch: 0/100, Batch: 1340/6666, Total Images 20100, Gen Train Loss: 0.2790, Gen Val Loss: 0.2463, Disc Accuracy: 1.0000, CUDA Memory: 10.54921216\n",
            "Epoch: 0/100, Batch: 1350/6666, Total Images 20250, Gen Train Loss: 0.1909, Gen Val Loss: 0.1946, Disc Accuracy: 0.8333, CUDA Memory: 10.470633984\n",
            "Epoch: 0/100, Batch: 1360/6666, Total Images 20400, Gen Train Loss: 0.3129, Gen Val Loss: 0.2756, Disc Accuracy: 0.9333, CUDA Memory: 10.470633984\n",
            "Epoch: 0/100, Batch: 1370/6666, Total Images 20550, Gen Train Loss: 0.2718, Gen Val Loss: 0.1890, Disc Accuracy: 1.0000, CUDA Memory: 10.550260736\n",
            "Epoch: 0/100, Batch: 1380/6666, Total Images 20700, Gen Train Loss: 0.2250, Gen Val Loss: 0.0983, Disc Accuracy: 1.0000, CUDA Memory: 10.550260736\n",
            "Epoch: 0/100, Batch: 1390/6666, Total Images 20850, Gen Train Loss: 0.3020, Gen Val Loss: 0.2720, Disc Accuracy: 1.0000, CUDA Memory: 10.550260736\n",
            "Epoch: 0/100, Batch: 1400/6666, Total Images 21000, Gen Train Loss: 0.3414, Gen Val Loss: 0.2667, Disc Accuracy: 1.0000, CUDA Memory: 10.549736448\n",
            "Saved checkpoint\n",
            "Epoch: 0/100, Batch: 1410/6666, Total Images 21150, Gen Train Loss: 0.2763, Gen Val Loss: 0.1911, Disc Accuracy: 1.0000, CUDA Memory: 10.549736448\n",
            "Epoch: 0/100, Batch: 1420/6666, Total Images 21300, Gen Train Loss: 0.2971, Gen Val Loss: 0.2240, Disc Accuracy: 0.9667, CUDA Memory: 10.550260736\n",
            "Epoch: 0/100, Batch: 1430/6666, Total Images 21450, Gen Train Loss: 0.3240, Gen Val Loss: 0.2960, Disc Accuracy: 1.0000, CUDA Memory: 10.550260736\n",
            "Epoch: 0/100, Batch: 1440/6666, Total Images 21600, Gen Train Loss: 0.3252, Gen Val Loss: 0.2777, Disc Accuracy: 1.0000, CUDA Memory: 10.549277696\n",
            "Epoch: 1/100, Batch: 0/6666, Total Images 21630, Gen Train Loss: 0.2260, Gen Val Loss: 0.2436, Disc Accuracy: 1.0000, CUDA Memory: 10.54921216\n",
            "Saved checkpoint\n",
            "Epoch: 1/100, Batch: 10/6666, Total Images 21780, Gen Train Loss: 0.3438, Gen Val Loss: 0.2941, Disc Accuracy: 1.0000, CUDA Memory: 10.549736448\n",
            "Epoch: 1/100, Batch: 20/6666, Total Images 21930, Gen Train Loss: 0.3633, Gen Val Loss: 0.3088, Disc Accuracy: 1.0000, CUDA Memory: 10.496652288\n",
            "Epoch: 1/100, Batch: 30/6666, Total Images 22080, Gen Train Loss: 0.3304, Gen Val Loss: 0.2617, Disc Accuracy: 1.0000, CUDA Memory: 10.54921216\n",
            "Epoch: 1/100, Batch: 40/6666, Total Images 22230, Gen Train Loss: 0.3545, Gen Val Loss: 0.3193, Disc Accuracy: 1.0000, CUDA Memory: 10.54921216\n",
            "Epoch: 1/100, Batch: 50/6666, Total Images 22380, Gen Train Loss: 0.3739, Gen Val Loss: 0.3270, Disc Accuracy: 1.0000, CUDA Memory: 10.54921216\n",
            "Epoch: 1/100, Batch: 60/6666, Total Images 22530, Gen Train Loss: 0.4106, Gen Val Loss: 0.3521, Disc Accuracy: 1.0000, CUDA Memory: 10.54921216\n",
            "Epoch: 1/100, Batch: 70/6666, Total Images 22680, Gen Train Loss: 0.4088, Gen Val Loss: 0.3737, Disc Accuracy: 1.0000, CUDA Memory: 10.548687872\n",
            "Epoch: 1/100, Batch: 80/6666, Total Images 22830, Gen Train Loss: 0.3830, Gen Val Loss: 0.3506, Disc Accuracy: 1.0000, CUDA Memory: 10.549736448\n",
            "Epoch: 1/100, Batch: 90/6666, Total Images 22980, Gen Train Loss: 0.4276, Gen Val Loss: 0.3779, Disc Accuracy: 1.0000, CUDA Memory: 10.497176576\n",
            "Epoch: 1/100, Batch: 100/6666, Total Images 23130, Gen Train Loss: 0.4330, Gen Val Loss: 0.3909, Disc Accuracy: 1.0000, CUDA Memory: 10.550260736\n",
            "Saved checkpoint\n",
            "Epoch: 1/100, Batch: 110/6666, Total Images 23280, Gen Train Loss: 0.4272, Gen Val Loss: 0.3737, Disc Accuracy: 1.0000, CUDA Memory: 10.550260736\n",
            "Epoch: 1/100, Batch: 120/6666, Total Images 23430, Gen Train Loss: 0.4538, Gen Val Loss: 0.4022, Disc Accuracy: 1.0000, CUDA Memory: 10.550260736\n",
            "Epoch: 1/100, Batch: 130/6666, Total Images 23580, Gen Train Loss: 0.4284, Gen Val Loss: 0.4199, Disc Accuracy: 1.0000, CUDA Memory: 10.550260736\n",
            "Epoch: 1/100, Batch: 140/6666, Total Images 23730, Gen Train Loss: 0.4652, Gen Val Loss: 0.4225, Disc Accuracy: 1.0000, CUDA Memory: 10.54921216\n",
            "Epoch: 1/100, Batch: 150/6666, Total Images 23880, Gen Train Loss: 0.4698, Gen Val Loss: 0.3816, Disc Accuracy: 1.0000, CUDA Memory: 10.549277696\n",
            "Epoch: 1/100, Batch: 160/6666, Total Images 24030, Gen Train Loss: 0.4646, Gen Val Loss: 0.4073, Disc Accuracy: 1.0000, CUDA Memory: 10.550260736\n",
            "Epoch: 1/100, Batch: 170/6666, Total Images 24180, Gen Train Loss: 0.4217, Gen Val Loss: 0.3905, Disc Accuracy: 1.0000, CUDA Memory: 10.548753408\n",
            "Epoch: 1/100, Batch: 180/6666, Total Images 24330, Gen Train Loss: 0.4589, Gen Val Loss: 0.4216, Disc Accuracy: 1.0000, CUDA Memory: 10.470633984\n",
            "Epoch: 1/100, Batch: 190/6666, Total Images 24480, Gen Train Loss: 0.4923, Gen Val Loss: 0.4590, Disc Accuracy: 1.0000, CUDA Memory: 10.470633984\n",
            "Epoch: 1/100, Batch: 200/6666, Total Images 24630, Gen Train Loss: 0.4796, Gen Val Loss: 0.4322, Disc Accuracy: 1.0000, CUDA Memory: 10.550260736\n",
            "Saved checkpoint\n",
            "Epoch: 1/100, Batch: 210/6666, Total Images 24780, Gen Train Loss: 0.4581, Gen Val Loss: 0.4135, Disc Accuracy: 1.0000, CUDA Memory: 10.54921216\n",
            "Epoch: 1/100, Batch: 220/6666, Total Images 24930, Gen Train Loss: 0.5024, Gen Val Loss: 0.4601, Disc Accuracy: 1.0000, CUDA Memory: 10.469585408\n",
            "Epoch: 1/100, Batch: 230/6666, Total Images 25080, Gen Train Loss: 0.4383, Gen Val Loss: 0.4281, Disc Accuracy: 1.0000, CUDA Memory: 10.469585408\n",
            "Epoch: 1/100, Batch: 240/6666, Total Images 25230, Gen Train Loss: 0.2768, Gen Val Loss: 0.2512, Disc Accuracy: 1.0000, CUDA Memory: 10.470633984\n",
            "Epoch: 1/100, Batch: 250/6666, Total Images 25380, Gen Train Loss: 0.2604, Gen Val Loss: 0.2715, Disc Accuracy: 0.8333, CUDA Memory: 10.470633984\n",
            "Epoch: 1/100, Batch: 260/6666, Total Images 25530, Gen Train Loss: 0.3358, Gen Val Loss: 0.3258, Disc Accuracy: 1.0000, CUDA Memory: 10.550260736\n",
            "Epoch: 1/100, Batch: 270/6666, Total Images 25680, Gen Train Loss: 0.3095, Gen Val Loss: 0.2462, Disc Accuracy: 0.9667, CUDA Memory: 10.550260736\n",
            "Epoch: 1/100, Batch: 280/6666, Total Images 25830, Gen Train Loss: 0.2549, Gen Val Loss: 0.2358, Disc Accuracy: 0.9667, CUDA Memory: 10.54822912\n",
            "Epoch: 1/100, Batch: 290/6666, Total Images 25980, Gen Train Loss: 0.3272, Gen Val Loss: 0.3504, Disc Accuracy: 1.0000, CUDA Memory: 10.496193536\n",
            "Epoch: 1/100, Batch: 300/6666, Total Images 26130, Gen Train Loss: 0.3053, Gen Val Loss: 0.2951, Disc Accuracy: 0.8333, CUDA Memory: 10.550260736\n",
            "Saved checkpoint\n",
            "Epoch: 1/100, Batch: 310/6666, Total Images 26280, Gen Train Loss: 0.3488, Gen Val Loss: 0.2442, Disc Accuracy: 1.0000, CUDA Memory: 10.470633984\n",
            "Epoch: 1/100, Batch: 320/6666, Total Images 26430, Gen Train Loss: 0.3490, Gen Val Loss: 0.3484, Disc Accuracy: 0.9667, CUDA Memory: 10.550260736\n",
            "Epoch: 1/100, Batch: 330/6666, Total Images 26580, Gen Train Loss: 0.2129, Gen Val Loss: 0.0991, Disc Accuracy: 0.8333, CUDA Memory: 10.550260736\n",
            "Epoch: 1/100, Batch: 340/6666, Total Images 26730, Gen Train Loss: 0.3501, Gen Val Loss: 0.3468, Disc Accuracy: 1.0000, CUDA Memory: 10.469585408\n",
            "Epoch: 1/100, Batch: 350/6666, Total Images 26880, Gen Train Loss: 0.4372, Gen Val Loss: 0.3752, Disc Accuracy: 1.0000, CUDA Memory: 10.550260736\n",
            "Epoch: 1/100, Batch: 360/6666, Total Images 27030, Gen Train Loss: 0.4197, Gen Val Loss: 0.3837, Disc Accuracy: 0.9333, CUDA Memory: 10.54921216\n",
            "Epoch: 1/100, Batch: 370/6666, Total Images 27180, Gen Train Loss: 0.4149, Gen Val Loss: 0.3591, Disc Accuracy: 1.0000, CUDA Memory: 10.52267008\n",
            "Epoch: 1/100, Batch: 380/6666, Total Images 27330, Gen Train Loss: 0.3513, Gen Val Loss: 0.3358, Disc Accuracy: 0.9667, CUDA Memory: 10.550260736\n",
            "Epoch: 1/100, Batch: 390/6666, Total Images 27480, Gen Train Loss: 0.3771, Gen Val Loss: 0.3017, Disc Accuracy: 1.0000, CUDA Memory: 10.523718656\n",
            "Epoch: 1/100, Batch: 400/6666, Total Images 27630, Gen Train Loss: 0.1267, Gen Val Loss: 0.2043, Disc Accuracy: 0.7667, CUDA Memory: 10.470633984\n",
            "Saved checkpoint\n",
            "Epoch: 1/100, Batch: 410/6666, Total Images 27780, Gen Train Loss: 0.4112, Gen Val Loss: 0.2758, Disc Accuracy: 0.9333, CUDA Memory: 10.52267008\n",
            "Epoch: 1/100, Batch: 420/6666, Total Images 27930, Gen Train Loss: 0.4491, Gen Val Loss: 0.2636, Disc Accuracy: 1.0000, CUDA Memory: 10.54921216\n",
            "Epoch: 1/100, Batch: 430/6666, Total Images 28080, Gen Train Loss: 0.3473, Gen Val Loss: 0.2472, Disc Accuracy: 1.0000, CUDA Memory: 10.469585408\n",
            "Epoch: 1/100, Batch: 440/6666, Total Images 28230, Gen Train Loss: 0.3953, Gen Val Loss: 0.3278, Disc Accuracy: 1.0000, CUDA Memory: 10.54921216\n",
            "Epoch: 1/100, Batch: 450/6666, Total Images 28380, Gen Train Loss: 0.4995, Gen Val Loss: 0.4295, Disc Accuracy: 1.0000, CUDA Memory: 10.469585408\n",
            "Epoch: 1/100, Batch: 460/6666, Total Images 28530, Gen Train Loss: 0.4551, Gen Val Loss: 0.4160, Disc Accuracy: 1.0000, CUDA Memory: 10.52267008\n",
            "Epoch: 1/100, Batch: 470/6666, Total Images 28680, Gen Train Loss: 0.2566, Gen Val Loss: 0.2184, Disc Accuracy: 0.9667, CUDA Memory: 10.54921216\n",
            "Epoch: 1/100, Batch: 480/6666, Total Images 28830, Gen Train Loss: 0.4301, Gen Val Loss: 0.2868, Disc Accuracy: 0.9333, CUDA Memory: 10.54921216\n",
            "Epoch: 1/100, Batch: 490/6666, Total Images 28980, Gen Train Loss: 0.4751, Gen Val Loss: 0.4105, Disc Accuracy: 1.0000, CUDA Memory: 10.54921216\n",
            "Epoch: 1/100, Batch: 500/6666, Total Images 29130, Gen Train Loss: 0.4870, Gen Val Loss: 0.4690, Disc Accuracy: 1.0000, CUDA Memory: 10.52267008\n"
          ]
        },
        {
          "output_type": "error",
          "ename": "RuntimeError",
          "evalue": "ignored",
          "traceback": [
            "\u001b[0;31m---------------------------------------------------------------------------\u001b[0m",
            "\u001b[0;31mKeyboardInterrupt\u001b[0m                         Traceback (most recent call last)",
            "\u001b[0;32m/usr/local/lib/python3.7/dist-packages/torch/serialization.py\u001b[0m in \u001b[0;36msave\u001b[0;34m(obj, f, pickle_module, pickle_protocol, _use_new_zipfile_serialization)\u001b[0m\n\u001b[1;32m    378\u001b[0m             \u001b[0;32mwith\u001b[0m \u001b[0m_open_zipfile_writer\u001b[0m\u001b[0;34m(\u001b[0m\u001b[0mopened_file\u001b[0m\u001b[0;34m)\u001b[0m \u001b[0;32mas\u001b[0m \u001b[0mopened_zipfile\u001b[0m\u001b[0;34m:\u001b[0m\u001b[0;34m\u001b[0m\u001b[0;34m\u001b[0m\u001b[0m\n\u001b[0;32m--> 379\u001b[0;31m                 \u001b[0m_save\u001b[0m\u001b[0;34m(\u001b[0m\u001b[0mobj\u001b[0m\u001b[0;34m,\u001b[0m \u001b[0mopened_zipfile\u001b[0m\u001b[0;34m,\u001b[0m \u001b[0mpickle_module\u001b[0m\u001b[0;34m,\u001b[0m \u001b[0mpickle_protocol\u001b[0m\u001b[0;34m)\u001b[0m\u001b[0;34m\u001b[0m\u001b[0;34m\u001b[0m\u001b[0m\n\u001b[0m\u001b[1;32m    380\u001b[0m                 \u001b[0;32mreturn\u001b[0m\u001b[0;34m\u001b[0m\u001b[0;34m\u001b[0m\u001b[0m\n",
            "\u001b[0;32m/usr/local/lib/python3.7/dist-packages/torch/serialization.py\u001b[0m in \u001b[0;36m_save\u001b[0;34m(obj, zip_file, pickle_module, pickle_protocol)\u001b[0m\n\u001b[1;32m    498\u001b[0m         \u001b[0mnum_bytes\u001b[0m \u001b[0;34m=\u001b[0m \u001b[0mstorage\u001b[0m\u001b[0;34m.\u001b[0m\u001b[0msize\u001b[0m\u001b[0;34m(\u001b[0m\u001b[0;34m)\u001b[0m \u001b[0;34m*\u001b[0m \u001b[0mstorage\u001b[0m\u001b[0;34m.\u001b[0m\u001b[0melement_size\u001b[0m\u001b[0;34m(\u001b[0m\u001b[0;34m)\u001b[0m\u001b[0;34m\u001b[0m\u001b[0;34m\u001b[0m\u001b[0m\n\u001b[0;32m--> 499\u001b[0;31m         \u001b[0mzip_file\u001b[0m\u001b[0;34m.\u001b[0m\u001b[0mwrite_record\u001b[0m\u001b[0;34m(\u001b[0m\u001b[0mname\u001b[0m\u001b[0;34m,\u001b[0m \u001b[0mstorage\u001b[0m\u001b[0;34m.\u001b[0m\u001b[0mdata_ptr\u001b[0m\u001b[0;34m(\u001b[0m\u001b[0;34m)\u001b[0m\u001b[0;34m,\u001b[0m \u001b[0mnum_bytes\u001b[0m\u001b[0;34m)\u001b[0m\u001b[0;34m\u001b[0m\u001b[0;34m\u001b[0m\u001b[0m\n\u001b[0m\u001b[1;32m    500\u001b[0m \u001b[0;34m\u001b[0m\u001b[0m\n",
            "\u001b[0;31mKeyboardInterrupt\u001b[0m: ",
            "\nDuring handling of the above exception, another exception occurred:\n",
            "\u001b[0;31mRuntimeError\u001b[0m                              Traceback (most recent call last)",
            "\u001b[0;32m<ipython-input-9-07c86db16018>\u001b[0m in \u001b[0;36m<module>\u001b[0;34m()\u001b[0m\n\u001b[1;32m     88\u001b[0m                            \u001b[0mIMG_HEIGHT\u001b[0m\u001b[0;34m,\u001b[0m\u001b[0;34m\u001b[0m\u001b[0;34m\u001b[0m\u001b[0m\n\u001b[1;32m     89\u001b[0m                            \u001b[0mIMG_WIDTH\u001b[0m\u001b[0;34m,\u001b[0m\u001b[0;34m\u001b[0m\u001b[0;34m\u001b[0m\u001b[0m\n\u001b[0;32m---> 90\u001b[0;31m                            SINGLE_SIDE)\n\u001b[0m\u001b[1;32m     91\u001b[0m \u001b[0;34m\u001b[0m\u001b[0m\n\u001b[1;32m     92\u001b[0m         \u001b[0mbatch_counter\u001b[0m \u001b[0;34m+=\u001b[0m \u001b[0;36m1\u001b[0m\u001b[0;34m\u001b[0m\u001b[0;34m\u001b[0m\u001b[0m\n",
            "\u001b[0;32m/content/gdrive/MyDrive/repos/GANime/src/helper_functions.py\u001b[0m in \u001b[0;36mcheckpoint\u001b[0;34m(batch_counter, disc_loss, disc_accuracy, gen_train_loss, gen_train_loss_l2, gen_val_loss, gen_val_loss_l2, log_dir, gen, optimizer_gen, disc, optimizer_disc, dataloader_train, train_reference_index, dataloader_val, val_reference_index, img_height, img_width, single_side)\u001b[0m\n\u001b[1;32m    103\u001b[0m                   \u001b[0;34m'disc_optimizer'\u001b[0m\u001b[0;34m:\u001b[0m \u001b[0moptimizer_disc\u001b[0m\u001b[0;34m.\u001b[0m\u001b[0mstate_dict\u001b[0m\u001b[0;34m(\u001b[0m\u001b[0;34m)\u001b[0m\u001b[0;34m,\u001b[0m\u001b[0;34m\u001b[0m\u001b[0;34m\u001b[0m\u001b[0m\n\u001b[1;32m    104\u001b[0m                   'batch_counter': batch_counter}\n\u001b[0;32m--> 105\u001b[0;31m     \u001b[0mtorch\u001b[0m\u001b[0;34m.\u001b[0m\u001b[0msave\u001b[0m\u001b[0;34m(\u001b[0m\u001b[0mcheckpoint\u001b[0m\u001b[0;34m,\u001b[0m \u001b[0mlog_dir\u001b[0m \u001b[0;34m+\u001b[0m \u001b[0;34m'checkpoint.pt'\u001b[0m\u001b[0;34m)\u001b[0m\u001b[0;34m\u001b[0m\u001b[0;34m\u001b[0m\u001b[0m\n\u001b[0m\u001b[1;32m    106\u001b[0m \u001b[0;34m\u001b[0m\u001b[0m\n\u001b[1;32m    107\u001b[0m     \u001b[0;31m# gets images from the dataloader\u001b[0m\u001b[0;34m\u001b[0m\u001b[0;34m\u001b[0m\u001b[0;34m\u001b[0m\u001b[0m\n",
            "\u001b[0;32m/usr/local/lib/python3.7/dist-packages/torch/serialization.py\u001b[0m in \u001b[0;36msave\u001b[0;34m(obj, f, pickle_module, pickle_protocol, _use_new_zipfile_serialization)\u001b[0m\n\u001b[1;32m    378\u001b[0m             \u001b[0;32mwith\u001b[0m \u001b[0m_open_zipfile_writer\u001b[0m\u001b[0;34m(\u001b[0m\u001b[0mopened_file\u001b[0m\u001b[0;34m)\u001b[0m \u001b[0;32mas\u001b[0m \u001b[0mopened_zipfile\u001b[0m\u001b[0;34m:\u001b[0m\u001b[0;34m\u001b[0m\u001b[0;34m\u001b[0m\u001b[0m\n\u001b[1;32m    379\u001b[0m                 \u001b[0m_save\u001b[0m\u001b[0;34m(\u001b[0m\u001b[0mobj\u001b[0m\u001b[0;34m,\u001b[0m \u001b[0mopened_zipfile\u001b[0m\u001b[0;34m,\u001b[0m \u001b[0mpickle_module\u001b[0m\u001b[0;34m,\u001b[0m \u001b[0mpickle_protocol\u001b[0m\u001b[0;34m)\u001b[0m\u001b[0;34m\u001b[0m\u001b[0;34m\u001b[0m\u001b[0m\n\u001b[0;32m--> 380\u001b[0;31m                 \u001b[0;32mreturn\u001b[0m\u001b[0;34m\u001b[0m\u001b[0;34m\u001b[0m\u001b[0m\n\u001b[0m\u001b[1;32m    381\u001b[0m         \u001b[0m_legacy_save\u001b[0m\u001b[0;34m(\u001b[0m\u001b[0mobj\u001b[0m\u001b[0;34m,\u001b[0m \u001b[0mopened_file\u001b[0m\u001b[0;34m,\u001b[0m \u001b[0mpickle_module\u001b[0m\u001b[0;34m,\u001b[0m \u001b[0mpickle_protocol\u001b[0m\u001b[0;34m)\u001b[0m\u001b[0;34m\u001b[0m\u001b[0;34m\u001b[0m\u001b[0m\n\u001b[1;32m    382\u001b[0m \u001b[0;34m\u001b[0m\u001b[0m\n",
            "\u001b[0;32m/usr/local/lib/python3.7/dist-packages/torch/serialization.py\u001b[0m in \u001b[0;36m__exit__\u001b[0;34m(self, *args)\u001b[0m\n\u001b[1;32m    257\u001b[0m \u001b[0;34m\u001b[0m\u001b[0m\n\u001b[1;32m    258\u001b[0m     \u001b[0;32mdef\u001b[0m \u001b[0m__exit__\u001b[0m\u001b[0;34m(\u001b[0m\u001b[0mself\u001b[0m\u001b[0;34m,\u001b[0m \u001b[0;34m*\u001b[0m\u001b[0margs\u001b[0m\u001b[0;34m)\u001b[0m \u001b[0;34m->\u001b[0m \u001b[0;32mNone\u001b[0m\u001b[0;34m:\u001b[0m\u001b[0;34m\u001b[0m\u001b[0;34m\u001b[0m\u001b[0m\n\u001b[0;32m--> 259\u001b[0;31m         \u001b[0mself\u001b[0m\u001b[0;34m.\u001b[0m\u001b[0mfile_like\u001b[0m\u001b[0;34m.\u001b[0m\u001b[0mwrite_end_of_file\u001b[0m\u001b[0;34m(\u001b[0m\u001b[0;34m)\u001b[0m\u001b[0;34m\u001b[0m\u001b[0;34m\u001b[0m\u001b[0m\n\u001b[0m\u001b[1;32m    260\u001b[0m         \u001b[0mself\u001b[0m\u001b[0;34m.\u001b[0m\u001b[0mbuffer\u001b[0m\u001b[0;34m.\u001b[0m\u001b[0mflush\u001b[0m\u001b[0;34m(\u001b[0m\u001b[0;34m)\u001b[0m\u001b[0;34m\u001b[0m\u001b[0;34m\u001b[0m\u001b[0m\n\u001b[1;32m    261\u001b[0m \u001b[0;34m\u001b[0m\u001b[0m\n",
            "\u001b[0;31mRuntimeError\u001b[0m: [enforce fail at inline_container.cc:300] . unexpected pos 1212557248 vs 1212557136"
          ]
        }
      ]
    }
  ]
}