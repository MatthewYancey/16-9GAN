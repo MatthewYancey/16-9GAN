{
  "nbformat": 4,
  "nbformat_minor": 0,
  "metadata": {
    "colab": {
      "name": "model_context_encoders.ipynb",
      "provenance": [],
      "authorship_tag": "ABX9TyMolOe/qdDUi1+HtBeCnTdJ",
      "include_colab_link": true
    },
    "kernelspec": {
      "name": "python3",
      "display_name": "Python 3"
    },
    "language_info": {
      "name": "python"
    },
    "accelerator": "GPU"
  },
  "cells": [
    {
      "cell_type": "markdown",
      "metadata": {
        "id": "view-in-github",
        "colab_type": "text"
      },
      "source": [
        "<a href=\"https://colab.research.google.com/github/MatthewYancey/GANime/blob/master/src/model_context_encoders.ipynb\" target=\"_parent\"><img src=\"https://colab.research.google.com/assets/colab-badge.svg\" alt=\"Open In Colab\"/></a>"
      ]
    },
    {
      "cell_type": "markdown",
      "metadata": {
        "id": "NfxMXJnq_kzW"
      },
      "source": [
        "# GANime - Context Encoder\n",
        "This notebook applies the context encoder paper."
      ]
    },
    {
      "cell_type": "markdown",
      "metadata": {
        "id": "bouI0_AzCRZy"
      },
      "source": [
        "## Imports and Parameters"
      ]
    },
    {
      "cell_type": "code",
      "metadata": {
        "id": "885wpFfz2zLh",
        "colab": {
          "base_uri": "https://localhost:8080/"
        },
        "outputId": "ec879d91-423d-4961-81fb-cbc62d8eeb90"
      },
      "source": [
        "import os\n",
        "import sys\n",
        "import shutil\n",
        "import glob\n",
        "import random\n",
        "import pandas as pd\n",
        "import numpy as np\n",
        "from PIL import Image\n",
        "import matplotlib.pyplot as plt\n",
        "\n",
        "import torch\n",
        "import torch.nn as nn\n",
        "import torch.optim as optim\n",
        "\n",
        "import torchvision\n",
        "import torchvision.transforms as transforms\n",
        "import torchvision.utils as vutils\n",
        "\n",
        "from google.colab import drive\n",
        "drive.mount('/content/gdrive')\n",
        "\n",
        "sys.path.append('/content/gdrive/MyDrive/repos/GANime/src')\n",
        "from helper_functions import apply_mask, apply_padding, apply_comp, apply_scale, load_checkpoint, checkpoint, gpu_memory\n",
        "from data_loaders import create_dataloaders\n",
        "from networks_context_encoders import Generator, Discriminator, weights_init"
      ],
      "execution_count": 1,
      "outputs": [
        {
          "output_type": "stream",
          "name": "stdout",
          "text": [
            "Drive already mounted at /content/gdrive; to attempt to forcibly remount, call drive.mount(\"/content/gdrive\", force_remount=True).\n"
          ]
        }
      ]
    },
    {
      "cell_type": "code",
      "metadata": {
        "id": "rw3URZEO3MZm",
        "colab": {
          "base_uri": "https://localhost:8080/"
        },
        "outputId": "d7470e32-24d7-4137-b4b4-c5ce1720ad20"
      },
      "source": [
        "# network parameters\n",
        "BATCH_SIZE = 100\n",
        "DATASET_SIZE = 100000\n",
        "N_BATCHES = DATASET_SIZE // BATCH_SIZE\n",
        "N_GPU = 1\n",
        "N_WORKERS = 1\n",
        "N_EPOCHS = 100\n",
        "LEARNING_RATE = 0.0002\n",
        "DROPOUT_RATE = 0.1\n",
        "\n",
        "# image\n",
        "IMG_HEIGHT = 288\n",
        "IMG_WIDTH = 512\n",
        "SINGLE_SIDE = 64\n",
        "\n",
        "# tensorboard\n",
        "TRAIN_REFERENCE_INDEX = 200\n",
        "VAL_REFERENCE_INDEX = 100\n",
        "TEST_REFERENCE_INDEX = 20\n",
        "\n",
        "# cost weights\n",
        "WEIGHT_DECAY = 0.05\n",
        "\n",
        "# directories\n",
        "ZIP_PATH_TRAIN = '/content/gdrive/My Drive/repos/GANime/data_out/pokemon/train.zip'\n",
        "IMG_DIR_TRAIN = '/content/frames/train/'\n",
        "ZIP_PATH_VAL = '/content/gdrive/My Drive/repos/GANime/data_out/pokemon/validate.zip'\n",
        "IMG_DIR_VAL = '/content/frames/validate/'\n",
        "ZIP_PATH_TEST = '/content/gdrive/My Drive/repos/GANime/data_out/pokemon/test.zip'\n",
        "IMG_DIR_TEST = '/content/frames/test/'\n",
        "LOG_DIR = '/content/gdrive/My Drive/repos/GANime/data_out/logs/model_context_encoders/'\n",
        "# PREV_CHECKPOINT = '/content/gdrive/My Drive/repos/GANime/data_out/logs/model_context_encoders/checkpoint.pt' # set to none to not load and create a new log folder\n",
        "PREV_CHECKPOINT = None # set to none to not load and create a new log folder\n",
        "\n",
        "!nvidia-smi -L"
      ],
      "execution_count": 2,
      "outputs": [
        {
          "output_type": "stream",
          "name": "stdout",
          "text": [
            "GPU 0: Tesla V100-SXM2-16GB (UUID: GPU-d8a0156a-6407-fb7b-deea-65298da1416b)\n"
          ]
        }
      ]
    },
    {
      "cell_type": "code",
      "source": [
        "# unzips images\n",
        "if os.path.exists(IMG_DIR_TRAIN) == False:\n",
        "    shutil.unpack_archive(ZIP_PATH_TRAIN, IMG_DIR_TRAIN, 'zip')\n",
        "    shutil.unpack_archive(ZIP_PATH_VAL, IMG_DIR_VAL, 'zip')\n",
        "    shutil.unpack_archive(ZIP_PATH_TEST, IMG_DIR_TEST, 'zip')"
      ],
      "metadata": {
        "id": "lM3AjT6K7gHK"
      },
      "execution_count": 3,
      "outputs": []
    },
    {
      "cell_type": "code",
      "source": [
        "# sets what device to run on\n",
        "device = torch.device(\"cuda:0\" if (torch.cuda.is_available() and N_GPU > 0) else \"cpu\")\n",
        "print(f'Device: {device}')"
      ],
      "metadata": {
        "colab": {
          "base_uri": "https://localhost:8080/"
        },
        "id": "E0tVJnSA72ht",
        "outputId": "ae1a8066-b845-4c76-c28b-70f520f2739c"
      },
      "execution_count": 4,
      "outputs": [
        {
          "output_type": "stream",
          "name": "stdout",
          "text": [
            "Device: cuda:0\n"
          ]
        }
      ]
    },
    {
      "cell_type": "code",
      "source": [
        "dataloader_train, dataloader_val, dataloader_test = create_dataloaders(BATCH_SIZE, N_WORKERS, IMG_DIR_TRAIN, IMG_DIR_VAL, IMG_DIR_TEST, DATASET_SIZE)"
      ],
      "metadata": {
        "colab": {
          "base_uri": "https://localhost:8080/"
        },
        "id": "Mi4wVo_075gD",
        "outputId": "5c88bd0e-ac2e-4936-a3c1-5365c7c87ea2"
      },
      "execution_count": 5,
      "outputs": [
        {
          "output_type": "stream",
          "name": "stdout",
          "text": [
            "Training Dataset\n",
            "Number of images: 21623\n",
            "Size of dataset: 21623\n",
            "Validation Dataset\n",
            "Number of images: 6178\n",
            "Size of dataset: 6178\n",
            "Testing Dataset\n",
            "Number of images: 3089\n",
            "Size of dataset: 3089\n"
          ]
        }
      ]
    },
    {
      "cell_type": "code",
      "source": [
        "gen = Generator(IMG_WIDTH, SINGLE_SIDE).to(device)\n",
        "gen.apply(weights_init)\n",
        "disc = Discriminator().to(device)\n",
        "disc.apply(weights_init)\n",
        "gpu_memory()"
      ],
      "metadata": {
        "colab": {
          "base_uri": "https://localhost:8080/"
        },
        "id": "Wu0EwLAf78i2",
        "outputId": "1a578437-2a57-498a-cad7-523b7a1f810e"
      },
      "execution_count": 6,
      "outputs": [
        {
          "output_type": "stream",
          "name": "stdout",
          "text": [
            "Allocated memory: 0.038541312\n"
          ]
        }
      ]
    },
    {
      "cell_type": "code",
      "source": [
        "loss_bce = nn.BCELoss()\n",
        "loss_mse = nn.MSELoss()\n",
        "optimizer_gen = optim.Adam(gen.parameters(), lr=LEARNING_RATE, betas=(0.5, 0.9))\n",
        "optimizer_disc = optim.Adam(disc.parameters(), lr=LEARNING_RATE, betas=(0.5, 0.9), weight_decay=WEIGHT_DECAY)"
      ],
      "metadata": {
        "id": "EQTRkGdX-vtX"
      },
      "execution_count": 7,
      "outputs": []
    },
    {
      "cell_type": "code",
      "source": [
        "# loads the checkpoint\n",
        "gen, optimizer_gen, disc, optimizer_disc, batch_counter = load_checkpoint(PREV_CHECKPOINT, LOG_DIR, gen, optimizer_gen, disc, optimizer_disc)\n",
        "gpu_memory()"
      ],
      "metadata": {
        "colab": {
          "base_uri": "https://localhost:8080/"
        },
        "id": "Jrn_SZo4_m_-",
        "outputId": "9d656434-840f-4a25-a791-b5f4ed37dfa4"
      },
      "execution_count": 8,
      "outputs": [
        {
          "output_type": "stream",
          "name": "stdout",
          "text": [
            "Folders removed\n",
            "Allocated memory: 0.038541312\n"
          ]
        }
      ]
    },
    {
      "cell_type": "code",
      "source": [
        "for epoch in range(N_EPOCHS):\n",
        "    # gets data for the generator\n",
        "    for i, batch in enumerate(dataloader_train, 0):\n",
        "        batch = batch.to(device)\n",
        "        #############################\n",
        "        # Discriminator\n",
        "        #############################\n",
        "        disc.zero_grad()\n",
        "        disc_output = disc(batch)\n",
        "        disc_loss_real = loss_bce(disc_output, torch.ones(disc_output.shape[0], 1).cuda())\n",
        "        disc_loss_real.backward()\n",
        "\n",
        "        # apply mask to the images\n",
        "        batch_mask = batch.clone()\n",
        "        batch_mask = apply_mask(batch_mask, IMG_WIDTH, SINGLE_SIDE)\n",
        "\n",
        "        # passes fake images to feed the discriminator\n",
        "        gen_output = gen(batch_mask)\n",
        "        gen_output = apply_comp(batch, gen_output, IMG_WIDTH, SINGLE_SIDE)\n",
        "        disc_output = disc(gen_output) # try taking detach off\n",
        "        disc_loss_fake = loss_bce(disc_output, torch.zeros(disc_output.shape[0], 1).to(device))\n",
        "        disc_loss_fake.backward()\n",
        "\n",
        "        # optimized the discriminator\n",
        "        disc_loss = (disc_loss_real + disc_loss_fake) / 200  # scale the loss between 0 and 1\n",
        "        optimizer_disc.step()\n",
        "\n",
        "        #############################\n",
        "        # Generater\n",
        "        #############################\n",
        "        gen.zero_grad()\n",
        "        gen_output = gen(batch_mask)\n",
        "\n",
        "        # combines the sides from the generator with the 4:3 image and calculates the mse loss against the orginal full image\n",
        "        gen_output = apply_comp(batch, gen_output, IMG_WIDTH, SINGLE_SIDE)\n",
        "        disc_output = disc(gen_output)\n",
        "        \n",
        "        # calculates the loss\n",
        "        gen_train_loss_mse = loss_mse(gen_output, batch)\n",
        "        gen_train_loss_bce = loss_bce(disc_output, torch.ones(disc_output.shape[0], 1).cuda())\n",
        "        gen_train_loss = (gen_train_loss_mse + gen_train_loss_bce * 0.01) / 2\n",
        "\n",
        "        # error and optimize\n",
        "        gen_train_loss.backward()\n",
        "        optimizer_gen.step()\n",
        "\n",
        "        # prints the status and checkpoints every so often\n",
        "        if i % 10 == 0:\n",
        "            # gets the testing MSE\n",
        "            batch = next(iter(dataloader_val))\n",
        "            batch = batch.to(device)\n",
        "            batch_mask = batch.clone()\n",
        "            batch_mask = apply_mask(batch_mask, IMG_WIDTH, SINGLE_SIDE)\n",
        "            with torch.no_grad():\n",
        "                gen_output = gen(batch_mask)\n",
        "            gen_output = apply_comp(batch, gen_output, IMG_WIDTH, SINGLE_SIDE)\n",
        "            val_loss = loss_mse(gen_output, batch)            \n",
        "            print(f'Epoch: {epoch}/{N_EPOCHS}, Batch in Epoch: {i}/{N_BATCHES}, Total Images {batch_counter * BATCH_SIZE}, Gen Train Loss: {gen_train_loss:.4f}, Gen Val Loss: {val_loss:.4f}, Disc Train Loss: {disc_loss:.4f}, CUDA Memory: {torch.cuda.memory_allocated() / 10**9}')\n",
        "\n",
        "            if i % 100 == 0:\n",
        "                checkpoint(batch_counter,\n",
        "                           disc_loss.item(),\n",
        "                           gen_train_loss.item(),\n",
        "                           val_loss.item(),\n",
        "                           LOG_DIR,\n",
        "                           gen,\n",
        "                           optimizer_gen,\n",
        "                           disc,\n",
        "                           optimizer_disc,\n",
        "                           dataloader_train,\n",
        "                           TRAIN_REFERENCE_INDEX,\n",
        "                           dataloader_val,\n",
        "                           VAL_REFERENCE_INDEX,\n",
        "                           dataloader_test,\n",
        "                           TEST_REFERENCE_INDEX,\n",
        "                           IMG_HEIGHT,\n",
        "                           IMG_WIDTH,\n",
        "                           SINGLE_SIDE)\n",
        "\n",
        "        batch_counter += 1"
      ],
      "metadata": {
        "colab": {
          "base_uri": "https://localhost:8080/"
        },
        "id": "uCycYGQeAHRV",
        "outputId": "44624228-2702-4438-a5d8-3beeaa56cca2"
      },
      "execution_count": null,
      "outputs": [
        {
          "output_type": "stream",
          "name": "stdout",
          "text": [
            "Epoch: 0/100, Batch in Epoch: 0/1000, Total Images 0, Gen Train Loss: 0.0515, Gen Val Loss: 0.0868, Disc Train Loss: 0.0074, CUDA Memory: 0.68542208\n",
            "Saving reference images\n",
            "Saved checkpoint\n",
            "Epoch: 0/100, Batch in Epoch: 10/1000, Total Images 1000, Gen Train Loss: 0.0312, Gen Val Loss: 0.0542, Disc Train Loss: 0.0042, CUDA Memory: 0.68542208\n",
            "Epoch: 0/100, Batch in Epoch: 20/1000, Total Images 2000, Gen Train Loss: 0.0266, Gen Val Loss: 0.0432, Disc Train Loss: 0.0040, CUDA Memory: 1.039316992\n",
            "Epoch: 0/100, Batch in Epoch: 30/1000, Total Images 3000, Gen Train Loss: 0.0259, Gen Val Loss: 0.0413, Disc Train Loss: 0.0046, CUDA Memory: 1.039316992\n",
            "Epoch: 0/100, Batch in Epoch: 40/1000, Total Images 4000, Gen Train Loss: 0.0216, Gen Val Loss: 0.0372, Disc Train Loss: 0.0054, CUDA Memory: 1.039316992\n",
            "Epoch: 0/100, Batch in Epoch: 50/1000, Total Images 5000, Gen Train Loss: 0.0217, Gen Val Loss: 0.0317, Disc Train Loss: 0.0047, CUDA Memory: 1.039316992\n",
            "Epoch: 0/100, Batch in Epoch: 60/1000, Total Images 6000, Gen Train Loss: 0.0212, Gen Val Loss: 0.0314, Disc Train Loss: 0.0042, CUDA Memory: 1.039316992\n",
            "Epoch: 0/100, Batch in Epoch: 70/1000, Total Images 7000, Gen Train Loss: 0.0198, Gen Val Loss: 0.0294, Disc Train Loss: 0.0041, CUDA Memory: 0.68542208\n",
            "Epoch: 0/100, Batch in Epoch: 80/1000, Total Images 8000, Gen Train Loss: 0.0214, Gen Val Loss: 0.0283, Disc Train Loss: 0.0051, CUDA Memory: 0.68542208\n",
            "Epoch: 0/100, Batch in Epoch: 90/1000, Total Images 9000, Gen Train Loss: 0.0239, Gen Val Loss: 0.0291, Disc Train Loss: 0.0037, CUDA Memory: 1.039316992\n",
            "Epoch: 0/100, Batch in Epoch: 100/1000, Total Images 10000, Gen Train Loss: 0.0219, Gen Val Loss: 0.0298, Disc Train Loss: 0.0039, CUDA Memory: 1.039316992\n",
            "Saved checkpoint\n",
            "Epoch: 0/100, Batch in Epoch: 110/1000, Total Images 11000, Gen Train Loss: 0.0229, Gen Val Loss: 0.0271, Disc Train Loss: 0.0031, CUDA Memory: 1.039316992\n",
            "Epoch: 0/100, Batch in Epoch: 120/1000, Total Images 12000, Gen Train Loss: 0.0214, Gen Val Loss: 0.0267, Disc Train Loss: 0.0032, CUDA Memory: 1.039316992\n",
            "Epoch: 0/100, Batch in Epoch: 130/1000, Total Images 13000, Gen Train Loss: 0.0213, Gen Val Loss: 0.0247, Disc Train Loss: 0.0034, CUDA Memory: 1.039316992\n",
            "Epoch: 0/100, Batch in Epoch: 140/1000, Total Images 14000, Gen Train Loss: 0.0211, Gen Val Loss: 0.0267, Disc Train Loss: 0.0030, CUDA Memory: 1.039316992\n",
            "Epoch: 0/100, Batch in Epoch: 150/1000, Total Images 15000, Gen Train Loss: 0.0235, Gen Val Loss: 0.0259, Disc Train Loss: 0.0050, CUDA Memory: 1.039316992\n",
            "Epoch: 0/100, Batch in Epoch: 160/1000, Total Images 16000, Gen Train Loss: 0.0215, Gen Val Loss: 0.0253, Disc Train Loss: 0.0034, CUDA Memory: 1.039316992\n",
            "Epoch: 0/100, Batch in Epoch: 170/1000, Total Images 17000, Gen Train Loss: 0.0225, Gen Val Loss: 0.0257, Disc Train Loss: 0.0031, CUDA Memory: 1.039316992\n",
            "Epoch: 0/100, Batch in Epoch: 180/1000, Total Images 18000, Gen Train Loss: 0.0210, Gen Val Loss: 0.0212, Disc Train Loss: 0.0042, CUDA Memory: 0.68542208\n"
          ]
        }
      ]
    },
    {
      "cell_type": "markdown",
      "source": [
        ""
      ],
      "metadata": {
        "id": "CGgQKRehipqP"
      }
    }
  ]
}