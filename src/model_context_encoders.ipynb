{
  "nbformat": 4,
  "nbformat_minor": 0,
  "metadata": {
    "colab": {
      "name": "model_context_encoders.ipynb",
      "provenance": [],
      "authorship_tag": "ABX9TyNY4HYgl+INj5KorqFanKLE",
      "include_colab_link": true
    },
    "kernelspec": {
      "name": "python3",
      "display_name": "Python 3"
    },
    "language_info": {
      "name": "python"
    },
    "accelerator": "GPU"
  },
  "cells": [
    {
      "cell_type": "markdown",
      "metadata": {
        "id": "view-in-github",
        "colab_type": "text"
      },
      "source": [
        "<a href=\"https://colab.research.google.com/github/MatthewYancey/GANime/blob/master/src/model_context_encoders.ipynb\" target=\"_parent\"><img src=\"https://colab.research.google.com/assets/colab-badge.svg\" alt=\"Open In Colab\"/></a>"
      ]
    },
    {
      "cell_type": "markdown",
      "metadata": {
        "id": "NfxMXJnq_kzW"
      },
      "source": [
        "# GANime - Context Encoder\n",
        "This notebook applies the context encoder paper."
      ]
    },
    {
      "cell_type": "markdown",
      "metadata": {
        "id": "bouI0_AzCRZy"
      },
      "source": [
        "## Imports and Parameters"
      ]
    },
    {
      "cell_type": "code",
      "metadata": {
        "id": "885wpFfz2zLh",
        "colab": {
          "base_uri": "https://localhost:8080/"
        },
        "outputId": "9c76ad44-8f17-49d8-ea56-e97d9e1fa260"
      },
      "source": [
        "import os\n",
        "import sys\n",
        "import shutil\n",
        "import glob\n",
        "import random\n",
        "import pandas as pd\n",
        "import numpy as np\n",
        "from PIL import Image\n",
        "import matplotlib.pyplot as plt\n",
        "\n",
        "import torch\n",
        "import torch.nn as nn\n",
        "import torch.optim as optim\n",
        "\n",
        "import torchvision\n",
        "import torchvision.transforms as transforms\n",
        "import torchvision.utils as vutils\n",
        "\n",
        "from google.colab import drive\n",
        "drive.mount('/content/gdrive')\n",
        "\n",
        "sys.path.append('/content/gdrive/MyDrive/repos/GANime/src')\n",
        "from helper_functions import apply_mask, apply_padding, apply_comp, apply_scale, load_checkpoint, checkpoint, gpu_memory\n",
        "from data_loaders import create_dataloaders\n",
        "from networks_context_encoders import Generator, Discriminator, weights_init"
      ],
      "execution_count": 1,
      "outputs": [
        {
          "output_type": "stream",
          "name": "stdout",
          "text": [
            "Drive already mounted at /content/gdrive; to attempt to forcibly remount, call drive.mount(\"/content/gdrive\", force_remount=True).\n"
          ]
        }
      ]
    },
    {
      "cell_type": "code",
      "metadata": {
        "id": "rw3URZEO3MZm"
      },
      "source": [
        "# network parameters\n",
        "BATCH_SIZE = 15\n",
        "DATASET_SIZE = 1000000\n",
        "N_BATCHES = DATASET_SIZE // BATCH_SIZE\n",
        "N_GPU = 1\n",
        "N_WORKERS = 1\n",
        "N_EPOCHS = 100\n",
        "GEN_LEARNING_RATE = 0.001\n",
        "DISC_LEARNING_RATE = 0.0001\n",
        "ALPHA_WEIGHT = 0.999\n",
        "DROPOUT_RATE = 0.1\n",
        "\n",
        "# image\n",
        "IMG_HEIGHT = 288\n",
        "IMG_WIDTH = 512\n",
        "SINGLE_SIDE = 64\n",
        "\n",
        "# tensorboard\n",
        "# TRAIN_REFERENCE_INDEX = 200\n",
        "# VAL_REFERENCE_INDEX = 100\n",
        "TEST_REFERENCES = [2800, 8000, 17850, 3000]\n",
        "\n",
        "# cost weights\n",
        "WEIGHT_DECAY = 0.05\n",
        "\n",
        "# directories\n",
        "ZIP_PATH_TRAIN = '/content/gdrive/My Drive/repos/GANime/data_out/pokemon/train.zip'\n",
        "IMG_DIR_TRAIN = '/content/frames/train/'\n",
        "ZIP_PATH_VAL = '/content/gdrive/My Drive/repos/GANime/data_out/pokemon/validate.zip'\n",
        "IMG_DIR_VAL = '/content/frames/validate/'\n",
        "ZIP_PATH_TEST = '/content/gdrive/My Drive/repos/GANime/data_out/pokemon/test.zip'\n",
        "IMG_DIR_TEST = '/content/frames/test/'\n",
        "LOG_DIR = '/content/gdrive/My Drive/repos/GANime/data_out/logs/model_context_encoders/'\n",
        "PREV_CHECKPOINT = '/content/gdrive/My Drive/repos/GANime/data_out/logs/model_context_encoders/checkpoint.pt' # set to none to not load and create a new log folder\n",
        "# PREV_CHECKPOINT = None # set to none to not load and create a new log folder"
      ],
      "execution_count": 2,
      "outputs": []
    },
    {
      "cell_type": "code",
      "source": [
        "# unzips images\n",
        "if os.path.exists(IMG_DIR_TRAIN) == False:\n",
        "    shutil.unpack_archive(ZIP_PATH_TRAIN, IMG_DIR_TRAIN, 'zip')\n",
        "    shutil.unpack_archive(ZIP_PATH_VAL, IMG_DIR_VAL, 'zip')\n",
        "    shutil.unpack_archive(ZIP_PATH_TEST, IMG_DIR_TEST, 'zip')"
      ],
      "metadata": {
        "id": "lM3AjT6K7gHK"
      },
      "execution_count": 3,
      "outputs": []
    },
    {
      "cell_type": "code",
      "source": [
        "# sets what device to run on\n",
        "device = torch.device(\"cuda:0\" if (torch.cuda.is_available() and N_GPU > 0) else \"cpu\")\n",
        "print(f'Device: {device}')\n",
        "!nvidia-smi -L"
      ],
      "metadata": {
        "colab": {
          "base_uri": "https://localhost:8080/"
        },
        "id": "E0tVJnSA72ht",
        "outputId": "d722ad5f-cbcd-4536-9a99-eca0d44325eb"
      },
      "execution_count": 4,
      "outputs": [
        {
          "output_type": "stream",
          "name": "stdout",
          "text": [
            "Device: cuda:0\n",
            "GPU 0: Tesla V100-SXM2-16GB (UUID: GPU-ed9a6da3-733c-fcb8-5afb-96e175173c35)\n"
          ]
        }
      ]
    },
    {
      "cell_type": "code",
      "source": [
        "dataloader_train, dataloader_val, dataloader_test = create_dataloaders(BATCH_SIZE, N_WORKERS, IMG_DIR_TRAIN, IMG_DIR_VAL, IMG_DIR_TEST, DATASET_SIZE)"
      ],
      "metadata": {
        "colab": {
          "base_uri": "https://localhost:8080/"
        },
        "id": "Mi4wVo_075gD",
        "outputId": "5068607b-5370-4ba3-ec8a-dd7e2c98220d"
      },
      "execution_count": 5,
      "outputs": [
        {
          "output_type": "stream",
          "name": "stdout",
          "text": [
            "Training Dataset\n",
            "Number of images: 429979\n",
            "Size of dataset: 429979\n",
            "Validation Dataset\n",
            "Number of images: 122851\n",
            "Size of dataset: 122851\n",
            "Testing Dataset\n",
            "Number of images: 61426\n",
            "Size of dataset: 61426\n"
          ]
        }
      ]
    },
    {
      "cell_type": "code",
      "source": [
        "gen = Generator(IMG_WIDTH, SINGLE_SIDE).to(device)\n",
        "gen.apply(weights_init)\n",
        "disc = Discriminator().to(device)\n",
        "disc.apply(weights_init)\n",
        "gpu_memory()"
      ],
      "metadata": {
        "colab": {
          "base_uri": "https://localhost:8080/"
        },
        "id": "Wu0EwLAf78i2",
        "outputId": "e4d14351-300f-478b-c096-1a612e485ab1"
      },
      "execution_count": 6,
      "outputs": [
        {
          "output_type": "stream",
          "name": "stdout",
          "text": [
            "Allocated memory: 2.3949\n"
          ]
        }
      ]
    },
    {
      "cell_type": "code",
      "source": [
        "loss_bce = nn.BCELoss()\n",
        "loss_mse = nn.MSELoss()\n",
        "optimizer_gen = optim.Adam(gen.parameters(), lr=GEN_LEARNING_RATE, betas=(0.5, 0.9))\n",
        "optimizer_disc = optim.Adam(disc.parameters(), lr=DISC_LEARNING_RATE, betas=(0.5, 0.9), weight_decay=WEIGHT_DECAY)"
      ],
      "metadata": {
        "id": "EQTRkGdX-vtX"
      },
      "execution_count": 7,
      "outputs": []
    },
    {
      "cell_type": "code",
      "source": [
        "# loads the checkpoint\n",
        "gen, optimizer_gen, disc, optimizer_disc, batch_counter = load_checkpoint(PREV_CHECKPOINT, LOG_DIR, gen, optimizer_gen, disc, optimizer_disc)"
      ],
      "metadata": {
        "colab": {
          "base_uri": "https://localhost:8080/"
        },
        "id": "Jrn_SZo4_m_-",
        "outputId": "b0d5813b-4ff3-41dd-ab28-65d90eb1b04c"
      },
      "execution_count": 8,
      "outputs": [
        {
          "output_type": "stream",
          "name": "stdout",
          "text": [
            "Allocated memory: 2.3949\n",
            "Loaded checkpoint from /content/gdrive/My Drive/repos/GANime/data_out/logs/model_context_encoders/checkpoint.pt\n",
            "Allocated memory: 7.1847\n"
          ]
        }
      ]
    },
    {
      "cell_type": "code",
      "source": [
        "for epoch in range(N_EPOCHS):\n",
        "    # gets data for the generator\n",
        "    for i, batch in enumerate(dataloader_train, 0):\n",
        "        batch = batch.to(device)\n",
        "        #############################\n",
        "        # Discriminator\n",
        "        #############################\n",
        "        disc.zero_grad()\n",
        "        disc_output = disc(batch)\n",
        "        disc_loss_real = loss_bce(disc_output, torch.ones(disc_output.shape[0], 1).cuda())\n",
        "        disc_accuracy = (disc_output.round() == torch.ones(disc_output.shape[0], 1).cuda()).sum()\n",
        "        disc_loss_real.backward()\n",
        "\n",
        "        # apply mask to the images\n",
        "        batch_mask = batch.clone()\n",
        "        batch_mask = apply_mask(batch_mask, IMG_WIDTH, SINGLE_SIDE)\n",
        "\n",
        "        # passes fake images to feed the discriminator\n",
        "        gen_output = gen(batch_mask)\n",
        "        gen_output = apply_comp(batch, gen_output, IMG_WIDTH, SINGLE_SIDE)\n",
        "        disc_output = disc(gen_output)\n",
        "\n",
        "        # calcualtes accuracy and loss on the fake images\n",
        "        disc_accuracy += (disc_output.round() == torch.zeros(disc_output.shape[0], 1).cuda()).sum()\n",
        "        disc_accuracy = disc_accuracy / (BATCH_SIZE * 2)\n",
        "        disc_loss_fake = loss_bce(disc_output, torch.zeros(disc_output.shape[0], 1).to(device))\n",
        "        disc_loss_fake.backward()\n",
        "\n",
        "        # optimized the discriminator\n",
        "        disc_loss = (disc_loss_real + disc_loss_fake) / 200  # scale the loss between 0 and 1\n",
        "        optimizer_disc.step()\n",
        "\n",
        "        #############################\n",
        "        # Generater\n",
        "        #############################\n",
        "        gen.zero_grad()\n",
        "        gen_output = gen(batch_mask)\n",
        "\n",
        "        # combines the sides from the generator with the 4:3\n",
        "        gen_output = apply_comp(batch, gen_output, IMG_WIDTH, SINGLE_SIDE)\n",
        "        disc_output = disc(gen_output)\n",
        "        \n",
        "        # calculates the loss\n",
        "        gen_train_loss_l2 = loss_mse(gen_output, batch)\n",
        "        gen_train_loss_bce = loss_bce(disc_output, torch.ones(disc_output.shape[0], 1).cuda())\n",
        "        gen_train_loss = gen_train_loss_l2*ALPHA_WEIGHT + gen_train_loss_bce*(1-ALPHA_WEIGHT)\n",
        "\n",
        "        # error and optimize\n",
        "        gen_train_loss.backward()\n",
        "        optimizer_gen.step()\n",
        "\n",
        "        # prints the status and checkpoints every so often\n",
        "        if i % 100 == 0:\n",
        "            print(f'Epoch: {epoch}/{N_EPOCHS}, Batch: {i}/{N_BATCHES}, Total Images {batch_counter * BATCH_SIZE}, Gen Train Loss: {gen_train_loss:.4f}, Disc Accuracy: {disc_accuracy:.4f}, CUDA Memory: {(torch.cuda.memory_allocated() / 10**9):.4f}')\n",
        "\n",
        "            if i % 200 == 0:\n",
        "\n",
        "                # gets the validation loss\n",
        "                batch = next(iter(dataloader_val))\n",
        "                batch = batch.to(device)\n",
        "                batch_mask = batch.clone()\n",
        "                batch_mask = apply_mask(batch_mask, IMG_WIDTH, SINGLE_SIDE)\n",
        "                with torch.no_grad():\n",
        "                    gen_output = gen(batch_mask)\n",
        "                gen_output = apply_comp(batch, gen_output, IMG_WIDTH, SINGLE_SIDE)\n",
        "\n",
        "                # calcuates the validation loss\n",
        "                disc_output = disc(gen_output)\n",
        "                gen_val_loss_bce = loss_bce(disc_output, torch.ones(disc_output.shape[0], 1).cuda())\n",
        "                gen_val_loss_l2 = loss_mse(gen_output, batch)\n",
        "                gen_val_loss = gen_val_loss_l2*ALPHA_WEIGHT + gen_val_loss_bce*(1-ALPHA_WEIGHT)\n",
        "\n",
        "                torch.cuda.empty_cache()\n",
        "                checkpoint(i,\n",
        "                           batch_counter,\n",
        "                           disc_loss.item(),\n",
        "                           disc_accuracy,\n",
        "                           gen_train_loss.item(),\n",
        "                           gen_train_loss_l2.item(),\n",
        "                           gen_val_loss.item(),\n",
        "                           gen_val_loss_l2.item(),\n",
        "                           LOG_DIR,\n",
        "                           gen,\n",
        "                           optimizer_gen,\n",
        "                           disc,\n",
        "                           optimizer_disc,\n",
        "                           dataloader_test,\n",
        "                           TEST_REFERENCES,\n",
        "                           IMG_HEIGHT,\n",
        "                           IMG_WIDTH,\n",
        "                           SINGLE_SIDE)\n",
        "                torch.cuda.empty_cache()\n",
        "\n",
        "        batch_counter += 1"
      ],
      "metadata": {
        "colab": {
          "base_uri": "https://localhost:8080/"
        },
        "id": "uCycYGQeAHRV",
        "outputId": "e36b0f4c-abc4-428c-c53d-55f20cf061cc"
      },
      "execution_count": null,
      "outputs": [
        {
          "output_type": "stream",
          "name": "stdout",
          "text": [
            "Epoch: 0/100, Batch: 0/66666, Total Images 430005, Gen Train Loss: 0.0532, Disc Accuracy: 1.0000, CUDA Memory: 9.6592\n",
            "Saving checkpoint at new epoch\n",
            "Saved to tensorboard\n",
            "Epoch: 0/100, Batch: 10/66666, Total Images 430155, Gen Train Loss: 0.0332, Disc Accuracy: 1.0000, CUDA Memory: 10.0751\n",
            "Epoch: 0/100, Batch: 20/66666, Total Images 430305, Gen Train Loss: 0.0385, Disc Accuracy: 1.0000, CUDA Memory: 10.0751\n",
            "Epoch: 0/100, Batch: 30/66666, Total Images 430455, Gen Train Loss: 0.0314, Disc Accuracy: 0.9667, CUDA Memory: 10.0751\n",
            "Epoch: 0/100, Batch: 40/66666, Total Images 430605, Gen Train Loss: 0.0367, Disc Accuracy: 1.0000, CUDA Memory: 10.0751\n",
            "Epoch: 0/100, Batch: 50/66666, Total Images 430755, Gen Train Loss: 0.0348, Disc Accuracy: 1.0000, CUDA Memory: 10.0751\n",
            "Epoch: 0/100, Batch: 60/66666, Total Images 430905, Gen Train Loss: 0.0323, Disc Accuracy: 1.0000, CUDA Memory: 10.0751\n",
            "Epoch: 0/100, Batch: 70/66666, Total Images 431055, Gen Train Loss: 0.0286, Disc Accuracy: 0.9333, CUDA Memory: 10.0751\n",
            "Epoch: 0/100, Batch: 80/66666, Total Images 431205, Gen Train Loss: 0.0348, Disc Accuracy: 1.0000, CUDA Memory: 10.0751\n",
            "Epoch: 0/100, Batch: 90/66666, Total Images 431355, Gen Train Loss: 0.0328, Disc Accuracy: 1.0000, CUDA Memory: 10.0751\n",
            "Epoch: 0/100, Batch: 100/66666, Total Images 431505, Gen Train Loss: 0.0391, Disc Accuracy: 1.0000, CUDA Memory: 10.0751\n",
            "Epoch: 0/100, Batch: 110/66666, Total Images 431655, Gen Train Loss: 0.0274, Disc Accuracy: 0.9667, CUDA Memory: 10.0751\n",
            "Epoch: 0/100, Batch: 120/66666, Total Images 431805, Gen Train Loss: 0.0278, Disc Accuracy: 1.0000, CUDA Memory: 10.0751\n",
            "Epoch: 0/100, Batch: 130/66666, Total Images 431955, Gen Train Loss: 0.0266, Disc Accuracy: 1.0000, CUDA Memory: 10.0751\n",
            "Epoch: 0/100, Batch: 140/66666, Total Images 432105, Gen Train Loss: 0.0392, Disc Accuracy: 1.0000, CUDA Memory: 10.0751\n",
            "Epoch: 0/100, Batch: 150/66666, Total Images 432255, Gen Train Loss: 0.0379, Disc Accuracy: 1.0000, CUDA Memory: 10.0751\n",
            "Epoch: 0/100, Batch: 160/66666, Total Images 432405, Gen Train Loss: 0.0249, Disc Accuracy: 1.0000, CUDA Memory: 10.0751\n",
            "Epoch: 0/100, Batch: 170/66666, Total Images 432555, Gen Train Loss: 0.0272, Disc Accuracy: 1.0000, CUDA Memory: 10.0751\n",
            "Epoch: 0/100, Batch: 180/66666, Total Images 432705, Gen Train Loss: 0.0351, Disc Accuracy: 1.0000, CUDA Memory: 10.0751\n",
            "Epoch: 0/100, Batch: 190/66666, Total Images 432855, Gen Train Loss: 0.0279, Disc Accuracy: 1.0000, CUDA Memory: 10.0751\n",
            "Epoch: 0/100, Batch: 200/66666, Total Images 433005, Gen Train Loss: 0.0349, Disc Accuracy: 1.0000, CUDA Memory: 10.0751\n",
            "Saved to tensorboard\n",
            "Epoch: 0/100, Batch: 210/66666, Total Images 433155, Gen Train Loss: 0.0353, Disc Accuracy: 1.0000, CUDA Memory: 10.0767\n",
            "Epoch: 0/100, Batch: 220/66666, Total Images 433305, Gen Train Loss: 0.0354, Disc Accuracy: 1.0000, CUDA Memory: 10.0767\n",
            "Epoch: 0/100, Batch: 230/66666, Total Images 433455, Gen Train Loss: 0.0301, Disc Accuracy: 1.0000, CUDA Memory: 10.0767\n",
            "Epoch: 0/100, Batch: 240/66666, Total Images 433605, Gen Train Loss: 0.0367, Disc Accuracy: 0.9667, CUDA Memory: 10.0767\n",
            "Epoch: 0/100, Batch: 250/66666, Total Images 433755, Gen Train Loss: 0.0334, Disc Accuracy: 1.0000, CUDA Memory: 10.0767\n",
            "Epoch: 0/100, Batch: 260/66666, Total Images 433905, Gen Train Loss: 0.0331, Disc Accuracy: 1.0000, CUDA Memory: 10.0767\n",
            "Epoch: 0/100, Batch: 270/66666, Total Images 434055, Gen Train Loss: 0.0299, Disc Accuracy: 1.0000, CUDA Memory: 10.0767\n",
            "Epoch: 0/100, Batch: 280/66666, Total Images 434205, Gen Train Loss: 0.0304, Disc Accuracy: 1.0000, CUDA Memory: 10.0767\n",
            "Epoch: 0/100, Batch: 290/66666, Total Images 434355, Gen Train Loss: 0.0293, Disc Accuracy: 1.0000, CUDA Memory: 10.0767\n",
            "Epoch: 0/100, Batch: 300/66666, Total Images 434505, Gen Train Loss: 0.0464, Disc Accuracy: 0.9667, CUDA Memory: 10.0767\n",
            "Epoch: 0/100, Batch: 310/66666, Total Images 434655, Gen Train Loss: 0.0326, Disc Accuracy: 1.0000, CUDA Memory: 10.0767\n",
            "Epoch: 0/100, Batch: 320/66666, Total Images 434805, Gen Train Loss: 0.0347, Disc Accuracy: 1.0000, CUDA Memory: 10.0767\n",
            "Epoch: 0/100, Batch: 330/66666, Total Images 434955, Gen Train Loss: 0.0296, Disc Accuracy: 1.0000, CUDA Memory: 10.0767\n",
            "Epoch: 0/100, Batch: 340/66666, Total Images 435105, Gen Train Loss: 0.0285, Disc Accuracy: 1.0000, CUDA Memory: 10.0767\n",
            "Epoch: 0/100, Batch: 350/66666, Total Images 435255, Gen Train Loss: 0.0438, Disc Accuracy: 1.0000, CUDA Memory: 10.0767\n",
            "Epoch: 0/100, Batch: 360/66666, Total Images 435405, Gen Train Loss: 0.0347, Disc Accuracy: 1.0000, CUDA Memory: 10.0767\n",
            "Epoch: 0/100, Batch: 370/66666, Total Images 435555, Gen Train Loss: 0.0313, Disc Accuracy: 0.9333, CUDA Memory: 10.0767\n",
            "Epoch: 0/100, Batch: 380/66666, Total Images 435705, Gen Train Loss: 0.0320, Disc Accuracy: 1.0000, CUDA Memory: 10.0767\n",
            "Epoch: 0/100, Batch: 390/66666, Total Images 435855, Gen Train Loss: 0.0346, Disc Accuracy: 1.0000, CUDA Memory: 10.0767\n",
            "Epoch: 0/100, Batch: 400/66666, Total Images 436005, Gen Train Loss: 0.0342, Disc Accuracy: 1.0000, CUDA Memory: 10.0767\n",
            "Saved to tensorboard\n",
            "Epoch: 0/100, Batch: 410/66666, Total Images 436155, Gen Train Loss: 0.0387, Disc Accuracy: 1.0000, CUDA Memory: 10.0751\n",
            "Epoch: 0/100, Batch: 420/66666, Total Images 436305, Gen Train Loss: 0.0416, Disc Accuracy: 1.0000, CUDA Memory: 10.0751\n",
            "Epoch: 0/100, Batch: 430/66666, Total Images 436455, Gen Train Loss: 0.0346, Disc Accuracy: 1.0000, CUDA Memory: 10.0751\n",
            "Epoch: 0/100, Batch: 440/66666, Total Images 436605, Gen Train Loss: 0.0434, Disc Accuracy: 1.0000, CUDA Memory: 10.0751\n",
            "Epoch: 0/100, Batch: 450/66666, Total Images 436755, Gen Train Loss: 0.0342, Disc Accuracy: 1.0000, CUDA Memory: 10.0751\n",
            "Epoch: 0/100, Batch: 460/66666, Total Images 436905, Gen Train Loss: 0.0243, Disc Accuracy: 1.0000, CUDA Memory: 10.0751\n",
            "Epoch: 0/100, Batch: 470/66666, Total Images 437055, Gen Train Loss: 0.0455, Disc Accuracy: 1.0000, CUDA Memory: 10.0751\n",
            "Epoch: 0/100, Batch: 480/66666, Total Images 437205, Gen Train Loss: 0.0280, Disc Accuracy: 1.0000, CUDA Memory: 10.0751\n",
            "Epoch: 0/100, Batch: 490/66666, Total Images 437355, Gen Train Loss: 0.0327, Disc Accuracy: 1.0000, CUDA Memory: 10.0751\n",
            "Epoch: 0/100, Batch: 500/66666, Total Images 437505, Gen Train Loss: 0.0373, Disc Accuracy: 1.0000, CUDA Memory: 10.0751\n",
            "Epoch: 0/100, Batch: 510/66666, Total Images 437655, Gen Train Loss: 0.0266, Disc Accuracy: 0.9667, CUDA Memory: 10.0751\n",
            "Epoch: 0/100, Batch: 520/66666, Total Images 437805, Gen Train Loss: 0.0317, Disc Accuracy: 1.0000, CUDA Memory: 10.0751\n",
            "Epoch: 0/100, Batch: 530/66666, Total Images 437955, Gen Train Loss: 0.0350, Disc Accuracy: 1.0000, CUDA Memory: 10.0751\n",
            "Epoch: 0/100, Batch: 540/66666, Total Images 438105, Gen Train Loss: 0.0307, Disc Accuracy: 1.0000, CUDA Memory: 10.0751\n",
            "Epoch: 0/100, Batch: 550/66666, Total Images 438255, Gen Train Loss: 0.0296, Disc Accuracy: 1.0000, CUDA Memory: 10.0751\n",
            "Epoch: 0/100, Batch: 560/66666, Total Images 438405, Gen Train Loss: 0.0350, Disc Accuracy: 1.0000, CUDA Memory: 10.0751\n",
            "Epoch: 0/100, Batch: 570/66666, Total Images 438555, Gen Train Loss: 0.0335, Disc Accuracy: 1.0000, CUDA Memory: 10.0751\n",
            "Epoch: 0/100, Batch: 580/66666, Total Images 438705, Gen Train Loss: 0.0256, Disc Accuracy: 1.0000, CUDA Memory: 10.0751\n",
            "Epoch: 0/100, Batch: 590/66666, Total Images 438855, Gen Train Loss: 0.0280, Disc Accuracy: 1.0000, CUDA Memory: 10.0751\n",
            "Epoch: 0/100, Batch: 600/66666, Total Images 439005, Gen Train Loss: 0.0268, Disc Accuracy: 1.0000, CUDA Memory: 10.0751\n",
            "Saved to tensorboard\n",
            "Epoch: 0/100, Batch: 610/66666, Total Images 439155, Gen Train Loss: 0.0286, Disc Accuracy: 1.0000, CUDA Memory: 10.0761\n",
            "Epoch: 0/100, Batch: 620/66666, Total Images 439305, Gen Train Loss: 0.0273, Disc Accuracy: 1.0000, CUDA Memory: 10.0761\n",
            "Epoch: 0/100, Batch: 630/66666, Total Images 439455, Gen Train Loss: 0.0319, Disc Accuracy: 1.0000, CUDA Memory: 10.0761\n",
            "Epoch: 0/100, Batch: 640/66666, Total Images 439605, Gen Train Loss: 0.0254, Disc Accuracy: 1.0000, CUDA Memory: 10.0761\n",
            "Epoch: 0/100, Batch: 650/66666, Total Images 439755, Gen Train Loss: 0.0290, Disc Accuracy: 0.8000, CUDA Memory: 10.0761\n",
            "Epoch: 0/100, Batch: 660/66666, Total Images 439905, Gen Train Loss: 0.0309, Disc Accuracy: 1.0000, CUDA Memory: 10.0761\n",
            "Epoch: 0/100, Batch: 670/66666, Total Images 440055, Gen Train Loss: 0.0273, Disc Accuracy: 1.0000, CUDA Memory: 10.0761\n",
            "Epoch: 0/100, Batch: 680/66666, Total Images 440205, Gen Train Loss: 0.0349, Disc Accuracy: 1.0000, CUDA Memory: 10.0761\n",
            "Epoch: 0/100, Batch: 690/66666, Total Images 440355, Gen Train Loss: 0.0389, Disc Accuracy: 1.0000, CUDA Memory: 10.0761\n",
            "Epoch: 0/100, Batch: 700/66666, Total Images 440505, Gen Train Loss: 0.0323, Disc Accuracy: 1.0000, CUDA Memory: 10.0761\n",
            "Epoch: 0/100, Batch: 710/66666, Total Images 440655, Gen Train Loss: 0.0454, Disc Accuracy: 1.0000, CUDA Memory: 10.0761\n",
            "Epoch: 0/100, Batch: 720/66666, Total Images 440805, Gen Train Loss: 0.0295, Disc Accuracy: 1.0000, CUDA Memory: 10.0761\n",
            "Epoch: 0/100, Batch: 730/66666, Total Images 440955, Gen Train Loss: 0.0293, Disc Accuracy: 1.0000, CUDA Memory: 10.0761\n",
            "Epoch: 0/100, Batch: 740/66666, Total Images 441105, Gen Train Loss: 0.0269, Disc Accuracy: 1.0000, CUDA Memory: 10.0761\n",
            "Epoch: 0/100, Batch: 750/66666, Total Images 441255, Gen Train Loss: 0.0320, Disc Accuracy: 1.0000, CUDA Memory: 10.0761\n",
            "Epoch: 0/100, Batch: 760/66666, Total Images 441405, Gen Train Loss: 0.0354, Disc Accuracy: 1.0000, CUDA Memory: 10.0761\n",
            "Epoch: 0/100, Batch: 770/66666, Total Images 441555, Gen Train Loss: 0.0268, Disc Accuracy: 1.0000, CUDA Memory: 10.0761\n",
            "Epoch: 0/100, Batch: 780/66666, Total Images 441705, Gen Train Loss: 0.0313, Disc Accuracy: 1.0000, CUDA Memory: 10.0761\n",
            "Epoch: 0/100, Batch: 790/66666, Total Images 441855, Gen Train Loss: 0.0320, Disc Accuracy: 1.0000, CUDA Memory: 10.0761\n",
            "Epoch: 0/100, Batch: 800/66666, Total Images 442005, Gen Train Loss: 0.0318, Disc Accuracy: 1.0000, CUDA Memory: 10.0761\n",
            "Saved to tensorboard\n",
            "Epoch: 0/100, Batch: 810/66666, Total Images 442155, Gen Train Loss: 0.0321, Disc Accuracy: 1.0000, CUDA Memory: 10.0751\n",
            "Epoch: 0/100, Batch: 820/66666, Total Images 442305, Gen Train Loss: 0.0278, Disc Accuracy: 1.0000, CUDA Memory: 10.0751\n",
            "Epoch: 0/100, Batch: 830/66666, Total Images 442455, Gen Train Loss: 0.0318, Disc Accuracy: 1.0000, CUDA Memory: 10.0751\n",
            "Epoch: 0/100, Batch: 840/66666, Total Images 442605, Gen Train Loss: 0.0421, Disc Accuracy: 1.0000, CUDA Memory: 10.0751\n",
            "Epoch: 0/100, Batch: 850/66666, Total Images 442755, Gen Train Loss: 0.0320, Disc Accuracy: 1.0000, CUDA Memory: 10.0751\n",
            "Epoch: 0/100, Batch: 860/66666, Total Images 442905, Gen Train Loss: 0.0304, Disc Accuracy: 1.0000, CUDA Memory: 10.0751\n",
            "Epoch: 0/100, Batch: 870/66666, Total Images 443055, Gen Train Loss: 0.0369, Disc Accuracy: 1.0000, CUDA Memory: 10.0751\n",
            "Epoch: 0/100, Batch: 880/66666, Total Images 443205, Gen Train Loss: 0.0354, Disc Accuracy: 1.0000, CUDA Memory: 10.0751\n",
            "Epoch: 0/100, Batch: 890/66666, Total Images 443355, Gen Train Loss: 0.0265, Disc Accuracy: 1.0000, CUDA Memory: 10.0751\n",
            "Epoch: 0/100, Batch: 900/66666, Total Images 443505, Gen Train Loss: 0.0369, Disc Accuracy: 1.0000, CUDA Memory: 10.0751\n",
            "Epoch: 0/100, Batch: 910/66666, Total Images 443655, Gen Train Loss: 0.0336, Disc Accuracy: 1.0000, CUDA Memory: 10.0751\n",
            "Epoch: 0/100, Batch: 920/66666, Total Images 443805, Gen Train Loss: 0.0288, Disc Accuracy: 1.0000, CUDA Memory: 10.0751\n",
            "Epoch: 0/100, Batch: 930/66666, Total Images 443955, Gen Train Loss: 0.0299, Disc Accuracy: 0.9667, CUDA Memory: 10.0751\n",
            "Epoch: 0/100, Batch: 940/66666, Total Images 444105, Gen Train Loss: 0.0357, Disc Accuracy: 1.0000, CUDA Memory: 10.0751\n",
            "Epoch: 0/100, Batch: 950/66666, Total Images 444255, Gen Train Loss: 0.0317, Disc Accuracy: 1.0000, CUDA Memory: 10.0751\n",
            "Epoch: 0/100, Batch: 960/66666, Total Images 444405, Gen Train Loss: 0.0284, Disc Accuracy: 1.0000, CUDA Memory: 10.0751\n",
            "Epoch: 0/100, Batch: 970/66666, Total Images 444555, Gen Train Loss: 0.0349, Disc Accuracy: 1.0000, CUDA Memory: 10.0751\n",
            "Epoch: 0/100, Batch: 980/66666, Total Images 444705, Gen Train Loss: 0.0351, Disc Accuracy: 1.0000, CUDA Memory: 10.0751\n",
            "Epoch: 0/100, Batch: 990/66666, Total Images 444855, Gen Train Loss: 0.0322, Disc Accuracy: 1.0000, CUDA Memory: 10.0751\n",
            "Epoch: 0/100, Batch: 1000/66666, Total Images 445005, Gen Train Loss: 0.0290, Disc Accuracy: 1.0000, CUDA Memory: 10.0751\n",
            "Saved to tensorboard\n",
            "Epoch: 0/100, Batch: 1010/66666, Total Images 445155, Gen Train Loss: 0.0391, Disc Accuracy: 1.0000, CUDA Memory: 10.0751\n"
          ]
        }
      ]
    }
  ]
}