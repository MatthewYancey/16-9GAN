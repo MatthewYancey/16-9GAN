{
  "nbformat": 4,
  "nbformat_minor": 0,
  "metadata": {
    "colab": {
      "name": "LaMa Inference.ipynb",
      "provenance": [],
      "authorship_tag": "ABX9TyMe4/Nat3VS67lVrtxyYJkb",
      "include_colab_link": true
    },
    "kernelspec": {
      "name": "python3",
      "display_name": "Python 3"
    },
    "language_info": {
      "name": "python"
    },
    "accelerator": "GPU"
  },
  "cells": [
    {
      "cell_type": "markdown",
      "metadata": {
        "id": "view-in-github",
        "colab_type": "text"
      },
      "source": [
        "<a href=\"https://colab.research.google.com/github/MatthewYancey/GANime/blob/master/src/inference_lama.ipynb\" target=\"_parent\"><img src=\"https://colab.research.google.com/assets/colab-badge.svg\" alt=\"Open In Colab\"/></a>"
      ]
    },
    {
      "cell_type": "markdown",
      "source": [
        "# Lama Inference\n",
        "This notebook takes a given lama model and runs inference on images"
      ],
      "metadata": {
        "id": "Pn3_BoW2OyzE"
      }
    },
    {
      "cell_type": "code",
      "source": [
        "print('\\n> Cloning the repo')\n",
        "!git clone https://github.com/saic-mdal/lama.git\n",
        "\n",
        "print('\\n> Install dependencies')\n",
        "!pip install -r lama/requirements.txt --quiet\n",
        "!pip install wget --quiet\n",
        "\n",
        "print('\\n> Changing the dir to:')\n",
        "% cd /content/lama\n",
        "\n",
        "print('\\n> Download the model')\n",
        "!curl -L $(yadisk-direct https://disk.yandex.ru/d/EgqaSnLohjuzAg) -o lama-models.zip\n",
        "!unzip lama-models.zip\n",
        "\n",
        "print('>fixing opencv')\n",
        "!pip uninstall opencv-python-headless -y --quiet\n",
        "!pip install opencv-python-headless==4.1.2.30 --quiet\n",
        "\n",
        "\n",
        "print('\\n> Init mask-drawing code')\n",
        "import base64, os\n",
        "from IPython.display import HTML, Image\n",
        "from google.colab.output import eval_js\n",
        "from base64 import b64decode\n",
        "import matplotlib.pyplot as plt\n",
        "import numpy as np\n",
        "import wget\n",
        "from shutil import copyfile\n",
        "import shutil\n",
        "\n",
        "print('Downloading test data')\n",
        "!curl -L $(yadisk-direct https://disk.yandex.ru/d/xKQJZeVRk5vLlQ) -o LaMa_test_images.zip\n",
        "!unzip LaMa_test_images.zip"
      ],
      "metadata": {
        "id": "ACQUc8OQT4uH"
      },
      "execution_count": null,
      "outputs": []
    },
    {
      "cell_type": "code",
      "source": [
        "import glob\n",
        "import cv2\n",
        "\n",
        "from google.colab import drive\n",
        "drive.mount('/content/gdrive')"
      ],
      "metadata": {
        "id": "_V2kRgnvJSiJ"
      },
      "execution_count": null,
      "outputs": []
    },
    {
      "cell_type": "code",
      "source": [
        "MODEL_PATH = '/content/gdrive/MyDrive/repos/GANime/data_out/lama_model/custom_lama_v2'\n",
        "\n",
        "# INPUT_ZIP = '/content/gdrive/MyDrive/repos/GANime/data_out/pokemon/test_masks.zip'\n",
        "# INPUT_ZIP = '/content/gdrive/MyDrive/repos/GANime/data_out/example_output/pokemon.zip'\n",
        "INPUT_ZIP = '/content/gdrive/MyDrive/repos/GANime/data_out/example_output/wizard_of_oz.zip'\n",
        "# INPUT_ZIP = '/content/gdrive/MyDrive/repos/GANime/data_out/pokemon/test_masks.zip'\n",
        "INPUT_DIR = '/content/input/'\n",
        "\n",
        "OUTPUT_DIR = '/content/lama/output/'\n",
        "OUTPUT_ZIP = '/content/gdrive/MyDrive/repos/GANime/data_out/example_output_model/wizard_of_oz/lama' # leave off the extention"
      ],
      "metadata": {
        "id": "tElWbry5GbLd"
      },
      "execution_count": null,
      "outputs": []
    },
    {
      "cell_type": "code",
      "source": [
        "if os.path.isdir(INPUT_DIR):\n",
        "    shutil.rmtree(INPUT_DIR)\n",
        "\n",
        "shutil.unpack_archive(INPUT_ZIP, INPUT_DIR)"
      ],
      "metadata": {
        "id": "VXv_60pcYL7C"
      },
      "execution_count": null,
      "outputs": []
    },
    {
      "cell_type": "code",
      "source": [
        "# produces the masks\n",
        "def prep_data(in_dir, out_dir, img_width, img_height, single_side):\n",
        "    # # creates a test set of validaiton\n",
        "    # if os.path.isdir(out_dir):\n",
        "    #     shutil.rmtree(out_dir)\n",
        "    # os.mkdir(out_dir)\n",
        "\n",
        "    img_paths = glob.glob(in_dir + '*')\n",
        "\n",
        "    # makes a mask and saves it to correspond with the names of images\n",
        "    inside = np.zeros((img_height, img_width - 2*single_side, 3), np.uint8)\n",
        "    outsides = np.ones((img_height, single_side, 3), np.uint8) * 255\n",
        "    mask = cv2.hconcat([outsides, inside, outsides])\n",
        "\n",
        "    for img_path in img_paths:\n",
        "        # converts image\n",
        "        img = cv2.imread(img_path)\n",
        "        new_img_path = out_dir + os.path.basename(img_path).replace('.jpg', '.png')\n",
        "        cv2.imwrite(new_img_path, img)\n",
        "\n",
        "        # saves mask\n",
        "        mask_name = img_path.replace('.jpg', '') + '_mask.png'\n",
        "        cv2.imwrite(mask_name, mask)\n",
        "\n",
        "        os.remove(img_path)\n",
        "\n",
        "prep_data(INPUT_DIR, INPUT_DIR, 512, 288, 64)"
      ],
      "metadata": {
        "id": "YCaoQiwQckMB"
      },
      "execution_count": null,
      "outputs": []
    },
    {
      "cell_type": "code",
      "source": [
        "# Runs inference on the lama model\n",
        "if os.path.isdir(OUTPUT_DIR):\n",
        "    shutil.rmtree(OUTPUT_DIR)\n",
        "print('Predicting')\n",
        "!export TORCH_HOME=$(pwd) && export PYTHONPATH=. && python3 bin/predict.py model.path=/content/gdrive/MyDrive/repos/GANime/data_out/lama_model/custom_lama indir=/content/input/ outdir=$(pwd)/output\n",
        "# !export TORCH_HOME=$(pwd) && export PYTHONPATH=. && python3 bin/predict.py model.path={MODEL_PATH} indir=/content/input/ outdir=/content/lama/output/"
      ],
      "metadata": {
        "id": "LoOyVi74B9F-"
      },
      "execution_count": null,
      "outputs": []
    },
    {
      "cell_type": "code",
      "source": [
        "shutil.make_archive(OUTPUT_ZIP, 'zip', OUTPUT_DIR)"
      ],
      "metadata": {
        "id": "avH3Ly-uO2B4"
      },
      "execution_count": null,
      "outputs": []
    }
  ]
}