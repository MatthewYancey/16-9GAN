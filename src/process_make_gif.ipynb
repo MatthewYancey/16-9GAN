{
  "nbformat": 4,
  "nbformat_minor": 0,
  "metadata": {
    "colab": {
      "name": "process_make_gif.ipynb",
      "provenance": [],
      "authorship_tag": "ABX9TyMmIYOt7LD4nRTq+Y+4c/Vh",
      "include_colab_link": true
    },
    "kernelspec": {
      "name": "python3",
      "display_name": "Python 3"
    },
    "language_info": {
      "name": "python"
    }
  },
  "cells": [
    {
      "cell_type": "markdown",
      "metadata": {
        "id": "view-in-github",
        "colab_type": "text"
      },
      "source": [
        "<a href=\"https://colab.research.google.com/github/MatthewYancey/GANime/blob/master/src/process_make_gif.ipynb\" target=\"_parent\"><img src=\"https://colab.research.google.com/assets/colab-badge.svg\" alt=\"Open In Colab\"/></a>"
      ]
    },
    {
      "cell_type": "code",
      "execution_count": 3,
      "metadata": {
        "colab": {
          "base_uri": "https://localhost:8080/"
        },
        "id": "IyqETV69bPrW",
        "outputId": "ea7cae8d-cc15-440f-ccea-7537bb2f870c"
      },
      "outputs": [
        {
          "output_type": "stream",
          "name": "stdout",
          "text": [
            "Drive already mounted at /content/gdrive; to attempt to forcibly remount, call drive.mount(\"/content/gdrive\", force_remount=True).\n"
          ]
        }
      ],
      "source": [
        "import cv2\n",
        "import numpy as np\n",
        "import glob\n",
        "import os\n",
        "\n",
        "from google.colab import drive\n",
        "drive.mount('/content/gdrive')"
      ]
    },
    {
      "cell_type": "code",
      "source": [
        "INPUT_PATH = '/content/gdrive/MyDrive/repos/GANime/data_out/example_output_model/pokemon/lama/'\n",
        "OUTPUT_PATH = '/content/gdrive/MyDrive/repos/GANime/data_out/example_output_model/pokemon/ffc.mp4'"
      ],
      "metadata": {
        "id": "9gQjSrg8lp0C"
      },
      "execution_count": 39,
      "outputs": []
    },
    {
      "cell_type": "code",
      "source": [
        "def fix_numbering(path, split='_', extention='.jpg'):\n",
        "    file_names = glob.glob(path + '*')\n",
        "\n",
        "    # finds the laragest number\n",
        "    max_number_length = [os.path.basename(f).split('_')[1].replace('.jpg', '') for f in file_names]\n",
        "    max_number_length = max([len(f) for f in max_number_length])\n",
        "\n",
        "    for f in file_names:\n",
        "        new_name = os.path.basename(f).split('_')[1].replace('.jpg', '')\n",
        "        new_name = '0' * (max_number_length - len(new_name)) + new_name + '.jpg'\n",
        "        new_name = path + new_name\n",
        "\n",
        "        os.rename(f, new_name)\n",
        "\n",
        "fix_numbering(INPUT_PATH)"
      ],
      "metadata": {
        "id": "cD_YYs7BhqWq"
      },
      "execution_count": 19,
      "outputs": []
    },
    {
      "cell_type": "code",
      "source": [
        "img_array = []\n",
        "file_list = glob.glob(INPUT_PATH + '*')\n",
        "file_list.sort()\n",
        "\n",
        "for file_name in file_list:\n",
        "    img = cv2.imread(file_name)\n",
        "    height, width, layers = img.shape\n",
        "    size = (width,height)\n",
        " \n",
        " \n",
        "out = cv2.VideoWriter(OUTPUT_PATH, cv2.VideoWriter_fourcc(*'DIVX'), 15, size)\n",
        " \n",
        "for i in range(len(img_array)):\n",
        "    out.write(img_array[i])\n",
        "out.release()"
      ],
      "metadata": {
        "id": "OFPeXuBEbtZO"
      },
      "execution_count": 42,
      "outputs": []
    }
  ]
}