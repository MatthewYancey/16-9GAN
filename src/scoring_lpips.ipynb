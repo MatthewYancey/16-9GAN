{
  "nbformat": 4,
  "nbformat_minor": 0,
  "metadata": {
    "colab": {
      "name": "scoring_lpips.ipynb",
      "provenance": [],
      "authorship_tag": "ABX9TyOdesIK9cZsyxOXTQGOUOs6",
      "include_colab_link": true
    },
    "kernelspec": {
      "name": "python3",
      "display_name": "Python 3"
    },
    "language_info": {
      "name": "python"
    },
    "accelerator": "GPU"
  },
  "cells": [
    {
      "cell_type": "markdown",
      "metadata": {
        "id": "view-in-github",
        "colab_type": "text"
      },
      "source": [
        "<a href=\"https://colab.research.google.com/github/MatthewYancey/GANime/blob/master/src/scoring_lpips.ipynb\" target=\"_parent\"><img src=\"https://colab.research.google.com/assets/colab-badge.svg\" alt=\"Open In Colab\"/></a>"
      ]
    },
    {
      "cell_type": "markdown",
      "source": [
        "# Scoring\n",
        "This notebook takes the output test restults from the models and calculates their frechet inception distance"
      ],
      "metadata": {
        "id": "4WN8GU242xZ-"
      }
    },
    {
      "cell_type": "code",
      "execution_count": null,
      "metadata": {
        "id": "Hy6T9hwS2nr8"
      },
      "outputs": [],
      "source": [
        "!git clone https://github.com/richzhang/PerceptualSimilarity\n",
        "!pip install -r PerceptualSimilarity/requirements.txt"
      ]
    },
    {
      "cell_type": "code",
      "source": [
        "import shutil\n",
        "import os\n",
        "import glob\n",
        "import pandas as pd\n",
        "\n",
        "from google.colab import drive\n",
        "drive.mount('/content/gdrive')"
      ],
      "metadata": {
        "colab": {
          "base_uri": "https://localhost:8080/"
        },
        "id": "xLfl-1vp5zPR",
        "outputId": "f41137ec-6271-4695-cf0d-985057ba62dc"
      },
      "execution_count": 8,
      "outputs": [
        {
          "output_type": "stream",
          "name": "stdout",
          "text": [
            "Drive already mounted at /content/gdrive; to attempt to forcibly remount, call drive.mount(\"/content/gdrive\", force_remount=True).\n"
          ]
        }
      ]
    },
    {
      "cell_type": "code",
      "source": [
        "test_output_ce = '/content/gdrive/MyDrive/repos/GANime/data_out/test_output/ce.zip'\n",
        "test_output_gal = '/content/gdrive/MyDrive/repos/GANime/data_out/test_output/gal.zip'\n",
        "test_output_ffc = '/content/gdrive/MyDrive/repos/GANime/data_out/test_output/ffc.zip'\n",
        "test_dataset = '/content/gdrive/MyDrive/repos/GANime/data_out/pokemon/test.zip'\n",
        "\n",
        "temp_dir_1 = '/content/temp_folder_1/'\n",
        "temp_dir_2 = '/content/temp_folder_2/'"
      ],
      "metadata": {
        "id": "Wkd8a6aV8msZ"
      },
      "execution_count": 14,
      "outputs": []
    },
    {
      "cell_type": "code",
      "source": [
        "def get_score(input_zip):\n",
        "    print(input_zip)\n",
        "\n",
        "    print('Copying the zip file over')\n",
        "    if os.path.isdir(temp_dir_1):\n",
        "        shutil.rmtree(temp_dir_1)\n",
        "\n",
        "    print('Unpacking zip file')\n",
        "    shutil.copy(input_zip, '/content/')\n",
        "    shutil.unpack_archive(f'/content/{os.path.basename(input_zip)}', temp_dir_1)\n",
        "\n",
        "    # unpacks the test imagse if they are not already there\n",
        "    if os.path.isdir(temp_dir_2) == False:\n",
        "        shutil.copy(test_dataset, '/content/')\n",
        "        shutil.unpack_archive(f'/content/{os.path.basename(test_dataset)}', temp_dir_2)\n",
        "\n",
        "    # rename the files\n",
        "    temp_1_list = glob.glob(f'{temp_dir_1}*')\n",
        "    temp_2_list = glob.glob(f'{temp_dir_2}*')\n",
        "\n",
        "    temp_1_list.sort()\n",
        "    temp_2_list.sort()\n",
        "\n",
        "    print('Renaming files')\n",
        "    # have to copy and rename the files\n",
        "    for i in range(len(temp_1_list)):\n",
        "        new_file_name = os.path.basename(temp_1_list[i])\n",
        "        new_file_name = new_file_name.split('_')[1]\n",
        "        n_digits = len(new_file_name) - 4\n",
        "        new_file_name = '0' * (5 - n_digits) + new_file_name\n",
        "\n",
        "        # rename the file\n",
        "        os.rename(temp_1_list[i], f'{temp_dir_1}{new_file_name}')    \n",
        "\n",
        "    print('Calculating score')\n",
        "    # have to copy and rename the files\n",
        "    for i in range(len(temp_2_list)):\n",
        "        new_file_name = str(i) + '.jpg'\n",
        "        n_digits = len(new_file_name) - 4\n",
        "        new_file_name = '0' * (5 - n_digits) + new_file_name\n",
        "\n",
        "        # rename the file\n",
        "        os.rename(temp_2_list[i], f'{temp_dir_2}{new_file_name}')\n",
        "\n",
        "\n",
        "    os.system('python PerceptualSimilarity/lpips_2dirs.py -d0 temp_folder_1 -d1 temp_folder_2 -o PerceptualSimilarity/imgs/example_dists.txt --use_gpu')\n",
        "\n",
        "    df = pd.read_csv('/content/PerceptualSimilarity/imgs/example_dists.txt', sep=' ', header=None)\n",
        "    print(df.iloc[:, 1].mean())\n"
      ],
      "metadata": {
        "id": "BJQxKz0M9kYh"
      },
      "execution_count": 16,
      "outputs": []
    },
    {
      "cell_type": "code",
      "source": [
        "for z in [test_output_ce, test_output_gal, test_output_ffc]:\n",
        "    get_score(z)"
      ],
      "metadata": {
        "colab": {
          "base_uri": "https://localhost:8080/"
        },
        "id": "bNoiep16ONWQ",
        "outputId": "56fe25e5-84b6-45fc-9cb9-3897cd3b6da7"
      },
      "execution_count": 18,
      "outputs": [
        {
          "output_type": "stream",
          "name": "stdout",
          "text": [
            "/content/gdrive/MyDrive/repos/GANime/data_out/test_output/ce.zip\n",
            "0.14625632196969704\n",
            "/content/gdrive/MyDrive/repos/GANime/data_out/test_output/gal.zip\n",
            "0.13956444318181815\n",
            "/content/gdrive/MyDrive/repos/GANime/data_out/test_output/ffc.zip\n",
            "0.1371621060606061\n"
          ]
        }
      ]
    }
  ]
}