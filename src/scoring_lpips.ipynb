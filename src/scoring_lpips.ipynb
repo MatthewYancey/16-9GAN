{
  "nbformat": 4,
  "nbformat_minor": 0,
  "metadata": {
    "colab": {
      "name": "scoring_lpips.ipynb",
      "provenance": [],
      "authorship_tag": "ABX9TyOgyUM8D9loV/ymQTMrn8K0",
      "include_colab_link": true
    },
    "kernelspec": {
      "name": "python3",
      "display_name": "Python 3"
    },
    "language_info": {
      "name": "python"
    }
  },
  "cells": [
    {
      "cell_type": "markdown",
      "metadata": {
        "id": "view-in-github",
        "colab_type": "text"
      },
      "source": [
        "<a href=\"https://colab.research.google.com/github/MatthewYancey/GANime/blob/master/src/scoring_lpips.ipynb\" target=\"_parent\"><img src=\"https://colab.research.google.com/assets/colab-badge.svg\" alt=\"Open In Colab\"/></a>"
      ]
    },
    {
      "cell_type": "markdown",
      "source": [
        "# Scoring\n",
        "This notebook takes the output test restults from the models and calculates their frechet inception distance"
      ],
      "metadata": {
        "id": "4WN8GU242xZ-"
      }
    },
    {
      "cell_type": "code",
      "execution_count": null,
      "metadata": {
        "id": "Hy6T9hwS2nr8"
      },
      "outputs": [],
      "source": [
        "!git clone https://github.com/richzhang/PerceptualSimilarity\n",
        "!pip install -r PerceptualSimilarity/requirements.txt"
      ]
    },
    {
      "cell_type": "code",
      "source": [
        "import shutil\n",
        "import os\n",
        "import glob\n",
        "\n",
        "from google.colab import drive\n",
        "drive.mount('/content/gdrive')"
      ],
      "metadata": {
        "colab": {
          "base_uri": "https://localhost:8080/"
        },
        "id": "xLfl-1vp5zPR",
        "outputId": "d3b59a4a-c50a-4c2b-c5d6-9c73265d86d5"
      },
      "execution_count": 8,
      "outputs": [
        {
          "output_type": "stream",
          "name": "stdout",
          "text": [
            "Drive already mounted at /content/gdrive; to attempt to forcibly remount, call drive.mount(\"/content/gdrive\", force_remount=True).\n"
          ]
        }
      ]
    },
    {
      "cell_type": "code",
      "source": [
        "test_output_ce = '/content/gdrive/MyDrive/repos/GANime/data_out/test_output/ce.zip'\n",
        "test_dataset = '/content/gdrive/MyDrive/repos/GANime/data_out/pokemon/test.zip'\n",
        "\n",
        "temp_dir_1 = '/content/temp_folder_1/'\n",
        "temp_dir_2 = '/content/temp_folder_2/'"
      ],
      "metadata": {
        "id": "Wkd8a6aV8msZ"
      },
      "execution_count": 5,
      "outputs": []
    },
    {
      "cell_type": "code",
      "source": [
        "# if os.path.isdir(temp_dir_1):\n",
        "#     shutil.rmtree(temp_dir_1)\n",
        "\n",
        "# shutil.copy(test_output_ce, '/content/')\n",
        "# shutil.unpack_archive(f'/content/{os.path.basename(test_output_ce)}', temp_dir_1)\n",
        "\n",
        "# unpacks the test imagse if they are not already there\n",
        "if os.path.isdir(temp_dir_2) == False:\n",
        "    shutil.copy(test_dataset, '/content/')\n",
        "    shutil.unpack_archive(f'/content/{os.path.basename(test_dataset)}', temp_dir_2)"
      ],
      "metadata": {
        "id": "BJQxKz0M9kYh"
      },
      "execution_count": 7,
      "outputs": []
    },
    {
      "cell_type": "code",
      "source": [
        "\n",
        "# copy over the test output from each model\n",
        "# copy over the test images\n",
        "# unzip and make temp folders for the scoring\n",
        "# create the score "
      ],
      "metadata": {
        "id": "_eFdLAnh6Kov"
      },
      "execution_count": null,
      "outputs": []
    }
  ]
}