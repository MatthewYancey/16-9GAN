{
  "nbformat": 4,
  "nbformat_minor": 0,
  "metadata": {
    "colab": {
      "name": "scoring_lpips.ipynb",
      "provenance": [],
      "authorship_tag": "ABX9TyPwY1l5H5O9UkpH2A90+WUo",
      "include_colab_link": true
    },
    "kernelspec": {
      "name": "python3",
      "display_name": "Python 3"
    },
    "language_info": {
      "name": "python"
    },
    "accelerator": "GPU"
  },
  "cells": [
    {
      "cell_type": "markdown",
      "metadata": {
        "id": "view-in-github",
        "colab_type": "text"
      },
      "source": [
        "<a href=\"https://colab.research.google.com/github/MatthewYancey/GANime/blob/master/src/scoring_lpips_lama.ipynb\" target=\"_parent\"><img src=\"https://colab.research.google.com/assets/colab-badge.svg\" alt=\"Open In Colab\"/></a>"
      ]
    },
    {
      "cell_type": "markdown",
      "source": [
        "# Scoring\n",
        "This notebook takes the output test restults from the models and calculates their frechet inception distance"
      ],
      "metadata": {
        "id": "4WN8GU242xZ-"
      }
    },
    {
      "cell_type": "code",
      "execution_count": 1,
      "metadata": {
        "id": "Hy6T9hwS2nr8",
        "outputId": "c79d0907-3724-4fbd-927f-0f0121aa647f",
        "colab": {
          "base_uri": "https://localhost:8080/"
        }
      },
      "outputs": [
        {
          "output_type": "stream",
          "name": "stdout",
          "text": [
            "fatal: destination path 'PerceptualSimilarity' already exists and is not an empty directory.\n",
            "Requirement already satisfied: torch>=0.4.0 in /usr/local/lib/python3.7/dist-packages (from -r PerceptualSimilarity/requirements.txt (line 1)) (1.10.0+cu111)\n",
            "Requirement already satisfied: torchvision>=0.2.1 in /usr/local/lib/python3.7/dist-packages (from -r PerceptualSimilarity/requirements.txt (line 2)) (0.11.1+cu111)\n",
            "Requirement already satisfied: numpy>=1.14.3 in /usr/local/lib/python3.7/dist-packages (from -r PerceptualSimilarity/requirements.txt (line 3)) (1.21.5)\n",
            "Requirement already satisfied: scipy>=1.0.1 in /usr/local/lib/python3.7/dist-packages (from -r PerceptualSimilarity/requirements.txt (line 4)) (1.4.1)\n",
            "Requirement already satisfied: scikit-image>=0.13.0 in /usr/local/lib/python3.7/dist-packages (from -r PerceptualSimilarity/requirements.txt (line 5)) (0.18.3)\n",
            "Requirement already satisfied: opencv-python>=2.4.11 in /usr/local/lib/python3.7/dist-packages (from -r PerceptualSimilarity/requirements.txt (line 6)) (4.1.2.30)\n",
            "Requirement already satisfied: matplotlib>=1.5.1 in /usr/local/lib/python3.7/dist-packages (from -r PerceptualSimilarity/requirements.txt (line 7)) (3.2.2)\n",
            "Requirement already satisfied: tqdm>=4.28.1 in /usr/local/lib/python3.7/dist-packages (from -r PerceptualSimilarity/requirements.txt (line 8)) (4.62.3)\n",
            "Requirement already satisfied: jupyter in /usr/local/lib/python3.7/dist-packages (from -r PerceptualSimilarity/requirements.txt (line 9)) (1.0.0)\n",
            "Requirement already satisfied: typing-extensions in /usr/local/lib/python3.7/dist-packages (from torch>=0.4.0->-r PerceptualSimilarity/requirements.txt (line 1)) (3.10.0.2)\n",
            "Requirement already satisfied: pillow!=8.3.0,>=5.3.0 in /usr/local/lib/python3.7/dist-packages (from torchvision>=0.2.1->-r PerceptualSimilarity/requirements.txt (line 2)) (7.1.2)\n",
            "Requirement already satisfied: tifffile>=2019.7.26 in /usr/local/lib/python3.7/dist-packages (from scikit-image>=0.13.0->-r PerceptualSimilarity/requirements.txt (line 5)) (2021.11.2)\n",
            "Requirement already satisfied: PyWavelets>=1.1.1 in /usr/local/lib/python3.7/dist-packages (from scikit-image>=0.13.0->-r PerceptualSimilarity/requirements.txt (line 5)) (1.2.0)\n",
            "Requirement already satisfied: networkx>=2.0 in /usr/local/lib/python3.7/dist-packages (from scikit-image>=0.13.0->-r PerceptualSimilarity/requirements.txt (line 5)) (2.6.3)\n",
            "Requirement already satisfied: imageio>=2.3.0 in /usr/local/lib/python3.7/dist-packages (from scikit-image>=0.13.0->-r PerceptualSimilarity/requirements.txt (line 5)) (2.4.1)\n",
            "Requirement already satisfied: python-dateutil>=2.1 in /usr/local/lib/python3.7/dist-packages (from matplotlib>=1.5.1->-r PerceptualSimilarity/requirements.txt (line 7)) (2.8.2)\n",
            "Requirement already satisfied: kiwisolver>=1.0.1 in /usr/local/lib/python3.7/dist-packages (from matplotlib>=1.5.1->-r PerceptualSimilarity/requirements.txt (line 7)) (1.3.2)\n",
            "Requirement already satisfied: pyparsing!=2.0.4,!=2.1.2,!=2.1.6,>=2.0.1 in /usr/local/lib/python3.7/dist-packages (from matplotlib>=1.5.1->-r PerceptualSimilarity/requirements.txt (line 7)) (3.0.7)\n",
            "Requirement already satisfied: cycler>=0.10 in /usr/local/lib/python3.7/dist-packages (from matplotlib>=1.5.1->-r PerceptualSimilarity/requirements.txt (line 7)) (0.11.0)\n",
            "Requirement already satisfied: six>=1.5 in /usr/local/lib/python3.7/dist-packages (from python-dateutil>=2.1->matplotlib>=1.5.1->-r PerceptualSimilarity/requirements.txt (line 7)) (1.15.0)\n",
            "Requirement already satisfied: ipywidgets in /usr/local/lib/python3.7/dist-packages (from jupyter->-r PerceptualSimilarity/requirements.txt (line 9)) (7.6.5)\n",
            "Requirement already satisfied: nbconvert in /usr/local/lib/python3.7/dist-packages (from jupyter->-r PerceptualSimilarity/requirements.txt (line 9)) (5.6.1)\n",
            "Requirement already satisfied: qtconsole in /usr/local/lib/python3.7/dist-packages (from jupyter->-r PerceptualSimilarity/requirements.txt (line 9)) (5.2.2)\n",
            "Requirement already satisfied: ipykernel in /usr/local/lib/python3.7/dist-packages (from jupyter->-r PerceptualSimilarity/requirements.txt (line 9)) (4.10.1)\n",
            "Requirement already satisfied: notebook in /usr/local/lib/python3.7/dist-packages (from jupyter->-r PerceptualSimilarity/requirements.txt (line 9)) (5.3.1)\n",
            "Requirement already satisfied: jupyter-console in /usr/local/lib/python3.7/dist-packages (from jupyter->-r PerceptualSimilarity/requirements.txt (line 9)) (5.2.0)\n",
            "Requirement already satisfied: tornado>=4.0 in /usr/local/lib/python3.7/dist-packages (from ipykernel->jupyter->-r PerceptualSimilarity/requirements.txt (line 9)) (5.1.1)\n",
            "Requirement already satisfied: jupyter-client in /usr/local/lib/python3.7/dist-packages (from ipykernel->jupyter->-r PerceptualSimilarity/requirements.txt (line 9)) (5.3.5)\n",
            "Requirement already satisfied: traitlets>=4.1.0 in /usr/local/lib/python3.7/dist-packages (from ipykernel->jupyter->-r PerceptualSimilarity/requirements.txt (line 9)) (5.1.1)\n",
            "Requirement already satisfied: ipython>=4.0.0 in /usr/local/lib/python3.7/dist-packages (from ipykernel->jupyter->-r PerceptualSimilarity/requirements.txt (line 9)) (5.5.0)\n",
            "Requirement already satisfied: decorator in /usr/local/lib/python3.7/dist-packages (from ipython>=4.0.0->ipykernel->jupyter->-r PerceptualSimilarity/requirements.txt (line 9)) (4.4.2)\n",
            "Requirement already satisfied: pygments in /usr/local/lib/python3.7/dist-packages (from ipython>=4.0.0->ipykernel->jupyter->-r PerceptualSimilarity/requirements.txt (line 9)) (2.6.1)\n",
            "Requirement already satisfied: pickleshare in /usr/local/lib/python3.7/dist-packages (from ipython>=4.0.0->ipykernel->jupyter->-r PerceptualSimilarity/requirements.txt (line 9)) (0.7.5)\n",
            "Requirement already satisfied: setuptools>=18.5 in /usr/local/lib/python3.7/dist-packages (from ipython>=4.0.0->ipykernel->jupyter->-r PerceptualSimilarity/requirements.txt (line 9)) (57.4.0)\n",
            "Requirement already satisfied: prompt-toolkit<2.0.0,>=1.0.4 in /usr/local/lib/python3.7/dist-packages (from ipython>=4.0.0->ipykernel->jupyter->-r PerceptualSimilarity/requirements.txt (line 9)) (1.0.18)\n",
            "Requirement already satisfied: simplegeneric>0.8 in /usr/local/lib/python3.7/dist-packages (from ipython>=4.0.0->ipykernel->jupyter->-r PerceptualSimilarity/requirements.txt (line 9)) (0.8.1)\n",
            "Requirement already satisfied: pexpect in /usr/local/lib/python3.7/dist-packages (from ipython>=4.0.0->ipykernel->jupyter->-r PerceptualSimilarity/requirements.txt (line 9)) (4.8.0)\n",
            "Requirement already satisfied: wcwidth in /usr/local/lib/python3.7/dist-packages (from prompt-toolkit<2.0.0,>=1.0.4->ipython>=4.0.0->ipykernel->jupyter->-r PerceptualSimilarity/requirements.txt (line 9)) (0.2.5)\n",
            "Requirement already satisfied: widgetsnbextension~=3.5.0 in /usr/local/lib/python3.7/dist-packages (from ipywidgets->jupyter->-r PerceptualSimilarity/requirements.txt (line 9)) (3.5.2)\n",
            "Requirement already satisfied: nbformat>=4.2.0 in /usr/local/lib/python3.7/dist-packages (from ipywidgets->jupyter->-r PerceptualSimilarity/requirements.txt (line 9)) (5.1.3)\n",
            "Requirement already satisfied: ipython-genutils~=0.2.0 in /usr/local/lib/python3.7/dist-packages (from ipywidgets->jupyter->-r PerceptualSimilarity/requirements.txt (line 9)) (0.2.0)\n",
            "Requirement already satisfied: jupyterlab-widgets>=1.0.0 in /usr/local/lib/python3.7/dist-packages (from ipywidgets->jupyter->-r PerceptualSimilarity/requirements.txt (line 9)) (1.0.2)\n",
            "Requirement already satisfied: jupyter-core in /usr/local/lib/python3.7/dist-packages (from nbformat>=4.2.0->ipywidgets->jupyter->-r PerceptualSimilarity/requirements.txt (line 9)) (4.9.1)\n",
            "Requirement already satisfied: jsonschema!=2.5.0,>=2.4 in /usr/local/lib/python3.7/dist-packages (from nbformat>=4.2.0->ipywidgets->jupyter->-r PerceptualSimilarity/requirements.txt (line 9)) (4.3.3)\n",
            "Requirement already satisfied: attrs>=17.4.0 in /usr/local/lib/python3.7/dist-packages (from jsonschema!=2.5.0,>=2.4->nbformat>=4.2.0->ipywidgets->jupyter->-r PerceptualSimilarity/requirements.txt (line 9)) (21.4.0)\n",
            "Requirement already satisfied: importlib-metadata in /usr/local/lib/python3.7/dist-packages (from jsonschema!=2.5.0,>=2.4->nbformat>=4.2.0->ipywidgets->jupyter->-r PerceptualSimilarity/requirements.txt (line 9)) (4.11.0)\n",
            "Requirement already satisfied: pyrsistent!=0.17.0,!=0.17.1,!=0.17.2,>=0.14.0 in /usr/local/lib/python3.7/dist-packages (from jsonschema!=2.5.0,>=2.4->nbformat>=4.2.0->ipywidgets->jupyter->-r PerceptualSimilarity/requirements.txt (line 9)) (0.18.1)\n",
            "Requirement already satisfied: importlib-resources>=1.4.0 in /usr/local/lib/python3.7/dist-packages (from jsonschema!=2.5.0,>=2.4->nbformat>=4.2.0->ipywidgets->jupyter->-r PerceptualSimilarity/requirements.txt (line 9)) (5.4.0)\n",
            "Requirement already satisfied: zipp>=3.1.0 in /usr/local/lib/python3.7/dist-packages (from importlib-resources>=1.4.0->jsonschema!=2.5.0,>=2.4->nbformat>=4.2.0->ipywidgets->jupyter->-r PerceptualSimilarity/requirements.txt (line 9)) (3.7.0)\n",
            "Requirement already satisfied: Send2Trash in /usr/local/lib/python3.7/dist-packages (from notebook->jupyter->-r PerceptualSimilarity/requirements.txt (line 9)) (1.8.0)\n",
            "Requirement already satisfied: terminado>=0.8.1 in /usr/local/lib/python3.7/dist-packages (from notebook->jupyter->-r PerceptualSimilarity/requirements.txt (line 9)) (0.13.1)\n",
            "Requirement already satisfied: jinja2 in /usr/local/lib/python3.7/dist-packages (from notebook->jupyter->-r PerceptualSimilarity/requirements.txt (line 9)) (2.11.3)\n",
            "Requirement already satisfied: pyzmq>=13 in /usr/local/lib/python3.7/dist-packages (from jupyter-client->ipykernel->jupyter->-r PerceptualSimilarity/requirements.txt (line 9)) (22.3.0)\n",
            "Requirement already satisfied: ptyprocess in /usr/local/lib/python3.7/dist-packages (from terminado>=0.8.1->notebook->jupyter->-r PerceptualSimilarity/requirements.txt (line 9)) (0.7.0)\n",
            "Requirement already satisfied: MarkupSafe>=0.23 in /usr/local/lib/python3.7/dist-packages (from jinja2->notebook->jupyter->-r PerceptualSimilarity/requirements.txt (line 9)) (2.0.1)\n",
            "Requirement already satisfied: bleach in /usr/local/lib/python3.7/dist-packages (from nbconvert->jupyter->-r PerceptualSimilarity/requirements.txt (line 9)) (4.1.0)\n",
            "Requirement already satisfied: testpath in /usr/local/lib/python3.7/dist-packages (from nbconvert->jupyter->-r PerceptualSimilarity/requirements.txt (line 9)) (0.5.0)\n",
            "Requirement already satisfied: entrypoints>=0.2.2 in /usr/local/lib/python3.7/dist-packages (from nbconvert->jupyter->-r PerceptualSimilarity/requirements.txt (line 9)) (0.4)\n",
            "Requirement already satisfied: defusedxml in /usr/local/lib/python3.7/dist-packages (from nbconvert->jupyter->-r PerceptualSimilarity/requirements.txt (line 9)) (0.7.1)\n",
            "Requirement already satisfied: pandocfilters>=1.4.1 in /usr/local/lib/python3.7/dist-packages (from nbconvert->jupyter->-r PerceptualSimilarity/requirements.txt (line 9)) (1.5.0)\n",
            "Requirement already satisfied: mistune<2,>=0.8.1 in /usr/local/lib/python3.7/dist-packages (from nbconvert->jupyter->-r PerceptualSimilarity/requirements.txt (line 9)) (0.8.4)\n",
            "Requirement already satisfied: webencodings in /usr/local/lib/python3.7/dist-packages (from bleach->nbconvert->jupyter->-r PerceptualSimilarity/requirements.txt (line 9)) (0.5.1)\n",
            "Requirement already satisfied: packaging in /usr/local/lib/python3.7/dist-packages (from bleach->nbconvert->jupyter->-r PerceptualSimilarity/requirements.txt (line 9)) (21.3)\n",
            "Requirement already satisfied: qtpy in /usr/local/lib/python3.7/dist-packages (from qtconsole->jupyter->-r PerceptualSimilarity/requirements.txt (line 9)) (2.0.1)\n"
          ]
        }
      ],
      "source": [
        "!git clone https://github.com/richzhang/PerceptualSimilarity\n",
        "!pip install -r PerceptualSimilarity/requirements.txt"
      ]
    },
    {
      "cell_type": "code",
      "source": [
        "import shutil\n",
        "import os\n",
        "import glob\n",
        "import pandas as pd\n",
        "\n",
        "from google.colab import drive\n",
        "drive.mount('/content/gdrive')"
      ],
      "metadata": {
        "colab": {
          "base_uri": "https://localhost:8080/"
        },
        "id": "xLfl-1vp5zPR",
        "outputId": "35488360-ad7d-4e58-e0d9-61b9b91fce10"
      },
      "execution_count": 2,
      "outputs": [
        {
          "output_type": "stream",
          "name": "stdout",
          "text": [
            "Drive already mounted at /content/gdrive; to attempt to forcibly remount, call drive.mount(\"/content/gdrive\", force_remount=True).\n"
          ]
        }
      ]
    },
    {
      "cell_type": "code",
      "source": [
        "test_output_lama = '/content/gdrive/MyDrive/repos/GANime/data_out/test_output/lama.zip'\n",
        "test_output_ce = '/content/gdrive/MyDrive/repos/GANime/data_out/test_output/ce.zip'\n",
        "test_output_gal = '/content/gdrive/MyDrive/repos/GANime/data_out/test_output/gal.zip'\n",
        "test_output_ffc = '/content/gdrive/MyDrive/repos/GANime/data_out/test_output/ffc.zip'\n",
        "test_dataset = '/content/gdrive/MyDrive/repos/GANime/data_out/pokemon/test.zip'\n",
        "\n",
        "temp_dir_1 = '/content/temp_folder_1/'\n",
        "temp_dir_2 = '/content/temp_folder_2/'"
      ],
      "metadata": {
        "id": "Wkd8a6aV8msZ"
      },
      "execution_count": 3,
      "outputs": []
    },
    {
      "cell_type": "code",
      "source": [
        "def unzip_images(input_zip):\n",
        "    print(input_zip)\n",
        "\n",
        "    print('Removing old folder')\n",
        "    if os.path.isdir(temp_dir_1):\n",
        "        shutil.rmtree(temp_dir_1)\n",
        "\n",
        "    print('Unpacking zip file')\n",
        "    shutil.copy(input_zip, '/content/')\n",
        "    shutil.unpack_archive(f'/content/{os.path.basename(input_zip)}', temp_dir_1)\n",
        "\n",
        "    file_list = glob.glob(temp_dir_1 + '*')\n",
        "    print(f'Number of images: {len(file_list)}')\n",
        "\n",
        "    # unpacks the test imagse if they are not already there\n",
        "    if os.path.isdir(temp_dir_2) == False:\n",
        "        shutil.copy(test_dataset, '/content/')\n",
        "        shutil.unpack_archive(f'/content/{os.path.basename(test_dataset)}', temp_dir_2)\n",
        "    \n",
        "\n",
        "def rename_files(need_leading_zero=True):\n",
        "    # rename the files\n",
        "    temp_1_list = glob.glob(f'{temp_dir_1}*')\n",
        "    temp_2_list = glob.glob(f'{temp_dir_2}*')\n",
        "\n",
        "    temp_1_list.sort()\n",
        "    temp_2_list.sort()\n",
        "\n",
        "    print('Renaming files')\n",
        "\n",
        "    if need_leading_zero:\n",
        "        # have to copy and rename the files\n",
        "        for i in range(len(temp_1_list)):\n",
        "            new_file_name = os.path.basename(temp_1_list[i])\n",
        "            new_file_name = new_file_name.split('_')[1]\n",
        "            n_digits = len(new_file_name) - 4\n",
        "            new_file_name = '0' * (5 - n_digits) + new_file_name\n",
        "\n",
        "            # rename the file\n",
        "            os.rename(temp_1_list[i], f'{temp_dir_1}{new_file_name}')    \n",
        "\n",
        "    else:\n",
        "        # have to copy and rename the files\n",
        "        for i in range(len(temp_1_list)):\n",
        "            new_file_name = str(i) + '.png'\n",
        "            n_digits = len(new_file_name) - 4\n",
        "            new_file_name = '0' * (5 - n_digits) + new_file_name\n",
        "\n",
        "            # rename the file\n",
        "            os.rename(temp_1_list[i], f'{temp_dir_1}{new_file_name}')\n",
        "\n",
        "    # have to copy and rename test files\n",
        "    for i in range(len(temp_2_list)):\n",
        "        new_file_name = str(i) + '.jpg'\n",
        "        n_digits = len(new_file_name) - 4\n",
        "        new_file_name = '0' * (5 - n_digits) + new_file_name\n",
        "\n",
        "        # rename the file\n",
        "        os.rename(temp_2_list[i], f'{temp_dir_2}{new_file_name}')\n",
        "\n",
        "\n",
        "def get_score():\n",
        "\n",
        "    print('Calculating score')\n",
        "    os.system('python PerceptualSimilarity/lpips_2dirs.py -d0 temp_folder_1 -d1 temp_folder_2 -o PerceptualSimilarity/imgs/example_dists.txt --use_gpu')\n",
        "\n",
        "    df = pd.read_csv('/content/PerceptualSimilarity/imgs/example_dists.txt', sep=' ', header=None)\n",
        "    print(df.iloc[:, 1].mean())\n"
      ],
      "metadata": {
        "id": "BJQxKz0M9kYh"
      },
      "execution_count": 35,
      "outputs": []
    },
    {
      "cell_type": "code",
      "source": [
        "# shutil.rmtree(temp_dir_2)\n",
        "shutil.copy(test_dataset, '/content/')\n",
        "shutil.unpack_archive(f'/content/{os.path.basename(test_dataset)}', temp_dir_2)\n",
        "\n",
        "# files = glob.glob('/content/temp_folder_1/*')"
      ],
      "metadata": {
        "id": "9rxl7AIWLg5T"
      },
      "execution_count": 21,
      "outputs": []
    },
    {
      "cell_type": "code",
      "source": [
        "# for z in [test_output_lama, test_output_ce, test_output_gal, test_output_ffc]:\n",
        "unzip_images(test_output_lama)\n",
        "# rename_files(False)"
      ],
      "metadata": {
        "colab": {
          "base_uri": "https://localhost:8080/"
        },
        "id": "bNoiep16ONWQ",
        "outputId": "90592fad-c7a5-4635-9beb-01b358d0f0c0"
      },
      "execution_count": 22,
      "outputs": [
        {
          "output_type": "stream",
          "name": "stdout",
          "text": [
            "/content/gdrive/MyDrive/repos/GANime/data_out/test_output/lama.zip\n",
            "Removing old folder\n",
            "Unpacking zip file\n",
            "Number of images: 61426\n"
          ]
        }
      ]
    },
    {
      "cell_type": "code",
      "source": [
        "shutil.rmtree('/content/temp_folder_1/')"
      ],
      "metadata": {
        "id": "s2W1yEqTXaJE"
      },
      "execution_count": 28,
      "outputs": []
    },
    {
      "cell_type": "code",
      "source": [
        "import cv2\n",
        "\n",
        "file_list = glob.glob('/content/temp_folder_1_old/*')\n",
        "file_list.sort()\n",
        "new_dir = '/content/temp_folder_1/'\n",
        "\n",
        "# have to copy and rename the files\n",
        "for i in range(len(file_list)):\n",
        "    new_file_name = str(i) + '.jpg'\n",
        "    n_digits = len(new_file_name) - 4\n",
        "    new_file_name = '0' * (5 - n_digits) + new_file_name\n",
        "\n",
        "    img = cv2.imread(file_list[i])\n",
        "    cv2.imwrite(new_dir + new_file_name, img)\n",
        "\n",
        "    if i % 1500 == 0:\n",
        "        print(i)\n",
        "\n",
        "    # # rename the file\n",
        "    # os.rename(temp_1_list[i], f'{temp_dir_1}{new_file_name}')"
      ],
      "metadata": {
        "id": "2CnY82d6R31S",
        "outputId": "8644e5a9-18d5-4429-ad17-6682591acf36",
        "colab": {
          "base_uri": "https://localhost:8080/"
        }
      },
      "execution_count": 29,
      "outputs": [
        {
          "output_type": "stream",
          "name": "stdout",
          "text": [
            "58500\n",
            "60000\n"
          ]
        }
      ]
    },
    {
      "cell_type": "code",
      "source": [
        "# rename the files\n",
        "temp_2_list = glob.glob(f'{temp_dir_2}*')\n",
        "\n",
        "temp_2_list.sort()\n",
        "\n",
        "print('Renaming files')\n",
        "\n",
        "# have to copy and rename test files\n",
        "for i in range(len(temp_2_list)):\n",
        "    new_file_name = str(i) + '.jpg'\n",
        "    n_digits = len(new_file_name) - 4\n",
        "    new_file_name = '0' * (5 - n_digits) + new_file_name\n",
        "\n",
        "    # rename the file\n",
        "    os.rename(temp_2_list[i], f'{temp_dir_2}{new_file_name}')"
      ],
      "metadata": {
        "id": "7miVzZ_nJTHf",
        "outputId": "18c58e7a-d088-4cc6-c28d-f61cba74e7ce",
        "colab": {
          "base_uri": "https://localhost:8080/"
        }
      },
      "execution_count": 33,
      "outputs": [
        {
          "output_type": "stream",
          "name": "stdout",
          "text": [
            "Renaming files\n"
          ]
        }
      ]
    },
    {
      "cell_type": "code",
      "source": [
        "!python PerceptualSimilarity/lpips_2dirs.py -d0 temp_folder_1 -d1 temp_folder_2 -o PerceptualSimilarity/imgs/example_dists.txt --use_gpu"
      ],
      "metadata": {
        "id": "pKR6lOuFZ5YS",
        "outputId": "7320b765-70b8-4209-c946-5d14f414ab6e",
        "colab": {
          "base_uri": "https://localhost:8080/"
        }
      },
      "execution_count": 38,
      "outputs": [
        {
          "output_type": "stream",
          "name": "stdout",
          "text": [
            "Setting up [LPIPS] perceptual loss: trunk [alex], v[0.1], spatial [off]\n",
            "Loading model from: /content/PerceptualSimilarity/lpips/weights/v0.1/alex.pth\n",
            "Traceback (most recent call last):\n",
            "  File \"PerceptualSimilarity/lpips_2dirs.py\", line 17, in <module>\n",
            "    loss_fn.cuda()\n",
            "  File \"/usr/local/lib/python3.7/dist-packages/torch/nn/modules/module.py\", line 680, in cuda\n",
            "    return self._apply(lambda t: t.cuda(device))\n",
            "  File \"/usr/local/lib/python3.7/dist-packages/torch/nn/modules/module.py\", line 570, in _apply\n",
            "    module._apply(fn)\n",
            "  File \"/usr/local/lib/python3.7/dist-packages/torch/nn/modules/module.py\", line 616, in _apply\n",
            "    self._buffers[key] = fn(buf)\n",
            "  File \"/usr/local/lib/python3.7/dist-packages/torch/nn/modules/module.py\", line 680, in <lambda>\n",
            "    return self._apply(lambda t: t.cuda(device))\n",
            "  File \"/usr/local/lib/python3.7/dist-packages/torch/cuda/__init__.py\", line 214, in _lazy_init\n",
            "    torch._C._cuda_init()\n",
            "RuntimeError: No CUDA GPUs are available\n"
          ]
        }
      ]
    }
  ]
}