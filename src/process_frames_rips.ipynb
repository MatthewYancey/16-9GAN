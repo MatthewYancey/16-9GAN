{
  "nbformat": 4,
  "nbformat_minor": 0,
  "metadata": {
    "colab": {
      "name": "process_frames.ipynb",
      "provenance": [],
      "collapsed_sections": [],
      "include_colab_link": true
    },
    "kernelspec": {
      "display_name": "Python 3",
      "name": "python3"
    }
  },
  "cells": [
    {
      "cell_type": "markdown",
      "metadata": {
        "id": "view-in-github",
        "colab_type": "text"
      },
      "source": [
        "<a href=\"https://colab.research.google.com/github/MatthewYancey/GANime/blob/master/src/process_frames_rips.ipynb\" target=\"_parent\"><img src=\"https://colab.research.google.com/assets/colab-badge.svg\" alt=\"Open In Colab\"/></a>"
      ]
    },
    {
      "cell_type": "markdown",
      "metadata": {
        "id": "Uv_Hsd_xSby-"
      },
      "source": [
        "# Data Processing\n",
        "\n",
        "This notebook takes the video files in a folder and saves the individual frames."
      ]
    },
    {
      "cell_type": "markdown",
      "metadata": {
        "id": "7jTVB-DOJsfR"
      },
      "source": [
        "## Imports and Parameters"
      ]
    },
    {
      "cell_type": "code",
      "metadata": {
        "id": "p8U3uYZgT7cJ"
      },
      "source": [
        "import os\n",
        "import glob\n",
        "import cv2\n",
        "import shutil\n",
        "from google.colab import drive\n",
        "import zipfile"
      ],
      "execution_count": 1,
      "outputs": []
    },
    {
      "cell_type": "code",
      "metadata": {
        "id": "oizpkeLYSn-G",
        "colab": {
          "base_uri": "https://localhost:8080/"
        },
        "outputId": "4b3791d6-12d9-4ace-e3e4-db28e7018063"
      },
      "source": [
        "# parameters\n",
        "drive.mount('/content/gdrive')\n",
        "VIDEO_PATH = '/content/gdrive/My Drive/repos/GANime/data_raw/'\n",
        "TEST_PATH = '/content/gdrive/My Drive/repos/GANime/data_raw/'\n",
        "FRAME_PATH = '/content/frames/'\n",
        "ZIP_FOLDER = '/content/gdrive/My Drive/repos/GANime/data_out/'\n",
        "\n",
        "IMAGE_WIDTH = 512\n",
        "IMAGE_HEIGHT = 288\n",
        "\n",
        "FRAME_SECONDS_SKIP = 0.5\n",
        "\n",
        "TRAIN_SPLIT = 0.70\n",
        "VAL_SPLIT = 0.20\n",
        "TEST_SPLIT = 0.10"
      ],
      "execution_count": 2,
      "outputs": [
        {
          "output_type": "stream",
          "name": "stdout",
          "text": [
            "Drive already mounted at /content/gdrive; to attempt to forcibly remount, call drive.mount(\"/content/gdrive\", force_remount=True).\n"
          ]
        }
      ]
    },
    {
      "cell_type": "markdown",
      "metadata": {
        "id": "p8J3fsm2KDFb"
      },
      "source": [
        "## Video loop and frame saving"
      ]
    },
    {
      "cell_type": "code",
      "source": [
        "video_files = glob.glob(f'{VIDEO_PATH}*')\n",
        "video_files.sort()\n",
        "print(f'Number of videos: {len(video_files)}')"
      ],
      "metadata": {
        "colab": {
          "base_uri": "https://localhost:8080/"
        },
        "id": "fGLdyQHBsseH",
        "outputId": "aa905261-7d76-4b66-bb1f-f246f04e108c"
      },
      "execution_count": 3,
      "outputs": [
        {
          "output_type": "stream",
          "name": "stdout",
          "text": [
            "Number of videos: 8\n"
          ]
        }
      ]
    },
    {
      "cell_type": "code",
      "metadata": {
        "id": "V3NUGPIiUCKz"
      },
      "source": [
        "try:\n",
        "    shutil.rmtree(FRAME_PATH)\n",
        "except FileNotFoundError:\n",
        "    pass\n",
        "os.mkdir(FRAME_PATH)\n",
        "\n",
        "frame_list = []\n",
        "for f in video_files:\n",
        "    frame_count = 0\n",
        "    file_name = os.path.basename(f).replace('.m4v', '')\n",
        "    vidcap = cv2.VideoCapture(f)\n",
        "    video_length = int(vidcap.get(cv2.CAP_PROP_FRAME_COUNT) / 24)\n",
        "    success, image = vidcap.read()\n",
        "\n",
        "    # loops through and save the frames\n",
        "    while success:\n",
        "        current_frame = vidcap.get(cv2.CAP_PROP_POS_FRAMES)\n",
        "\n",
        "        if current_frame % (FRAME_SECONDS_SKIP * 24) == 0:\n",
        "            # resizes and save the frame\n",
        "            image = cv2.resize(image, (IMAGE_WIDTH, IMAGE_HEIGHT))\n",
        "            frame_path = f'{FRAME_PATH}/{file_name}_{frame_count}.jpg'\n",
        "            cv2.imwrite(frame_path, image)\n",
        "            frame_list.append(frame_path)\n",
        "            frame_count += 1\n",
        "\n",
        "        # loop to the next frame\n",
        "        success, image = vidcap.read()\n",
        "            \n",
        "    print(f'Number of images saved: {frame_count}')"
      ],
      "execution_count": null,
      "outputs": []
    },
    {
      "cell_type": "code",
      "source": [
        "print(f'Total number of frames: {len(frame_list)}')"
      ],
      "metadata": {
        "id": "uF07ODTlxCOK"
      },
      "execution_count": null,
      "outputs": []
    },
    {
      "cell_type": "code",
      "source": [
        "# makes the train test split\n",
        "train_frames = frame_list[:int(len(frame_list) * TRAIN_SPLIT)]\n",
        "frame_list = [f for f in frame_list if f not in train_frames]\n",
        "val_frames = frame_list[:int(len(frame_list) * (VAL_SPLIT / (VAL_SPLIT + TEST_SPLIT)))]\n",
        "test_frames = [f for f in frame_list if f not in val_frames]\n",
        "\n",
        "# makes the directories\n",
        "os.mkdir(FRAME_PATH + 'train/')\n",
        "for f in train_frames:\n",
        "    shutil.move(f, f'{FRAME_PATH}train/{os.path.basename(f)}')\n",
        "\n",
        "shutil.make_archive(ZIP_FOLDER, 'zip', FRAME_PATH + 'train/')\n",
        "print(f'Saved zip')"
      ],
      "metadata": {
        "id": "kWFTFKURPqze"
      },
      "execution_count": null,
      "outputs": []
    }
  ]
}