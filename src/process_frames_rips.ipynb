{
  "nbformat": 4,
  "nbformat_minor": 0,
  "metadata": {
    "colab": {
      "name": "process_frames.ipynb",
      "provenance": [],
      "collapsed_sections": [],
      "include_colab_link": true
    },
    "kernelspec": {
      "display_name": "Python 3",
      "name": "python3"
    }
  },
  "cells": [
    {
      "cell_type": "markdown",
      "metadata": {
        "id": "view-in-github",
        "colab_type": "text"
      },
      "source": [
        "<a href=\"https://colab.research.google.com/github/MatthewYancey/GANime/blob/master/src/process_frames_rips.ipynb\" target=\"_parent\"><img src=\"https://colab.research.google.com/assets/colab-badge.svg\" alt=\"Open In Colab\"/></a>"
      ]
    },
    {
      "cell_type": "markdown",
      "metadata": {
        "id": "Uv_Hsd_xSby-"
      },
      "source": [
        "# Data Processing\n",
        "\n",
        "This notebook takes the video files in a folder and saves the individual frames."
      ]
    },
    {
      "cell_type": "markdown",
      "metadata": {
        "id": "7jTVB-DOJsfR"
      },
      "source": [
        "## Imports and Parameters"
      ]
    },
    {
      "cell_type": "code",
      "metadata": {
        "id": "p8U3uYZgT7cJ"
      },
      "source": [
        "import os\n",
        "import glob\n",
        "import cv2\n",
        "import shutil\n",
        "from google.colab import drive\n",
        "import zipfile"
      ],
      "execution_count": 1,
      "outputs": []
    },
    {
      "cell_type": "code",
      "metadata": {
        "id": "oizpkeLYSn-G",
        "colab": {
          "base_uri": "https://localhost:8080/"
        },
        "outputId": "0ae709b0-041f-430b-b9c8-c4c53bcbe2b0"
      },
      "source": [
        "# parameters\n",
        "drive.mount('/content/gdrive')\n",
        "VIDEO_PATH = '/content/gdrive/My Drive/repos/GANime/data_raw/'\n",
        "TEST_PATH = '/content/gdrive/My Drive/repos/GANime/data_raw/'\n",
        "FRAME_PATH = '/content/frames/'\n",
        "ZIP_FOLDER = '/content/gdrive/My Drive/repos/GANime/data_out/'\n",
        "\n",
        "IMAGE_WIDTH = 512\n",
        "IMAGE_HEIGHT = 288\n",
        "\n",
        "FRAME_SKIP = 4\n",
        "\n",
        "TRAIN_SPLIT = 0.70\n",
        "VAL_SPLIT = 0.20\n",
        "TEST_SPLIT = 0.10"
      ],
      "execution_count": 2,
      "outputs": [
        {
          "output_type": "stream",
          "name": "stdout",
          "text": [
            "Drive already mounted at /content/gdrive; to attempt to forcibly remount, call drive.mount(\"/content/gdrive\", force_remount=True).\n"
          ]
        }
      ]
    },
    {
      "cell_type": "markdown",
      "metadata": {
        "id": "p8J3fsm2KDFb"
      },
      "source": [
        "## Video loop and frame saving"
      ]
    },
    {
      "cell_type": "code",
      "source": [
        "video_files = glob.glob(f'{VIDEO_PATH}*')\n",
        "video_files.sort()\n",
        "print(f'Number of videos: {len(video_files)}')"
      ],
      "metadata": {
        "colab": {
          "base_uri": "https://localhost:8080/"
        },
        "id": "fGLdyQHBsseH",
        "outputId": "142e29ce-5f4d-4c71-ba87-0274326e4ff9"
      },
      "execution_count": 3,
      "outputs": [
        {
          "output_type": "stream",
          "name": "stdout",
          "text": [
            "Number of videos: 8\n"
          ]
        }
      ]
    },
    {
      "cell_type": "code",
      "metadata": {
        "id": "V3NUGPIiUCKz",
        "outputId": "d58b055d-c521-4a3e-b7a4-ffc0d2af2db3",
        "colab": {
          "base_uri": "https://localhost:8080/"
        }
      },
      "source": [
        "try:\n",
        "    shutil.rmtree(FRAME_PATH)\n",
        "except FileNotFoundError:\n",
        "    pass\n",
        "os.mkdir(FRAME_PATH)\n",
        "\n",
        "frame_list = []\n",
        "for f in video_files:\n",
        "    print(f'File: {f}')\n",
        "    frame_count = 0\n",
        "    file_name = os.path.basename(f).replace('.mp4', '')\n",
        "    vidcap = cv2.VideoCapture(f)\n",
        "    video_length = int(vidcap.get(cv2.CAP_PROP_FRAME_COUNT) / 24)\n",
        "    success, image = vidcap.read()\n",
        "\n",
        "    # loops through and save the frames\n",
        "    while success:\n",
        "        current_frame = vidcap.get(cv2.CAP_PROP_POS_FRAMES)\n",
        "\n",
        "        if current_frame % FRAME_SKIP == 0:\n",
        "            # resizes and save the frame\n",
        "            image = cv2.resize(image, (IMAGE_WIDTH, IMAGE_HEIGHT))\n",
        "            frame_path = f'{FRAME_PATH}/{file_name}_{frame_count}.jpg'\n",
        "            cv2.imwrite(frame_path, image)\n",
        "            frame_list.append(frame_path)\n",
        "            frame_count += 1\n",
        "\n",
        "        # loop to the next frame\n",
        "        success, image = vidcap.read()\n",
        "            \n",
        "    print(f'Number of images saved: {frame_count}')"
      ],
      "execution_count": 4,
      "outputs": [
        {
          "output_type": "stream",
          "name": "stdout",
          "text": [
            "File: /content/gdrive/My Drive/repos/GANime/data_raw/Pokemon Season 21 Disc 1.mp4\n",
            "Number of images saved: 76528\n",
            "File: /content/gdrive/My Drive/repos/GANime/data_raw/Pokemon Season 21 Disc 2.mp4\n",
            "Number of images saved: 76528\n",
            "File: /content/gdrive/My Drive/repos/GANime/data_raw/Pokemon Season 21 Disc 3.mp4\n",
            "Number of images saved: 76528\n",
            "File: /content/gdrive/My Drive/repos/GANime/data_raw/Pokemon Season 21 Disc 4.mp4\n",
            "Number of images saved: 76528\n",
            "File: /content/gdrive/My Drive/repos/GANime/data_raw/Pokemon Season 21 Disc 5.mp4\n",
            "Number of images saved: 76528\n",
            "File: /content/gdrive/My Drive/repos/GANime/data_raw/Pokemon Season 21 Disc 6.mp4\n",
            "Number of images saved: 76963\n",
            "File: /content/gdrive/My Drive/repos/GANime/data_raw/Pokemon Season 23 Set 1 Disc 1.mp4\n",
            "Number of images saved: 78087\n",
            "File: /content/gdrive/My Drive/repos/GANime/data_raw/Pokemon Season 23 Set 1 Disc 2.mp4\n",
            "Number of images saved: 76566\n"
          ]
        }
      ]
    },
    {
      "cell_type": "code",
      "source": [
        "print(f'Total number of frames: {len(frame_list)}') # 614256"
      ],
      "metadata": {
        "id": "uF07ODTlxCOK",
        "colab": {
          "base_uri": "https://localhost:8080/"
        },
        "outputId": "22e56761-b077-429a-f1ca-2122a1abb535"
      },
      "execution_count": 7,
      "outputs": [
        {
          "output_type": "stream",
          "name": "stdout",
          "text": [
            "Total number of frames: 614256\n"
          ]
        }
      ]
    },
    {
      "cell_type": "code",
      "source": [
        "# makes the train test split\n",
        "train_frames = frame_list[:int(len(frame_list) * TRAIN_SPLIT)]\n",
        "\n",
        "# makes the directory\n",
        "os.mkdir(FRAME_PATH + 'train/')\n",
        "for f in train_frames:\n",
        "    shutil.move(f, f'{FRAME_PATH}train/{os.path.basename(f)}')\n",
        "\n",
        "shutil.make_archive(ZIP_FOLDER + 'pokemon/train', 'zip', FRAME_PATH + 'train/')\n",
        "print(f'Saved zip')"
      ],
      "metadata": {
        "id": "kWFTFKURPqze",
        "colab": {
          "base_uri": "https://localhost:8080/"
        },
        "outputId": "bcbe1d4d-d66b-4ef5-cbc3-238bbf7fd9b4"
      },
      "execution_count": 8,
      "outputs": [
        {
          "output_type": "stream",
          "name": "stdout",
          "text": [
            "Saved zip\n"
          ]
        }
      ]
    },
    {
      "cell_type": "code",
      "source": [
        "# makes the train test split\n",
        "val_frames = frame_list[int(len(frame_list) * TRAIN_SPLIT):int(len(frame_list) * (TRAIN_SPLIT + VAL_SPLIT))]\n",
        "print(f'Number of val images: {len(val_frames)}')\n",
        "\n",
        "# makes the directory\n",
        "os.mkdir(FRAME_PATH + 'val/')\n",
        "for f in val_frames:\n",
        "    shutil.move(f, f'{FRAME_PATH}val/{os.path.basename(f)}')"
      ],
      "metadata": {
        "id": "9AiUIjchHJ4M",
        "outputId": "d88619d6-767b-4fdb-cbb4-aa9e21221e27",
        "colab": {
          "base_uri": "https://localhost:8080/"
        }
      },
      "execution_count": 10,
      "outputs": [
        {
          "output_type": "stream",
          "name": "stdout",
          "text": [
            "Number of val images: 122851\n"
          ]
        }
      ]
    },
    {
      "cell_type": "code",
      "source": [
        "shutil.make_archive(ZIP_FOLDER + 'pokemon/val', 'zip', FRAME_PATH + 'val/')\n",
        "print(f'Saved zip')"
      ],
      "metadata": {
        "id": "s2O-9DXNTXyT",
        "outputId": "54a0ec8f-7c75-4fd8-f9c2-508d74f8a625",
        "colab": {
          "base_uri": "https://localhost:8080/"
        }
      },
      "execution_count": 13,
      "outputs": [
        {
          "output_type": "stream",
          "name": "stdout",
          "text": [
            "Saved zip\n"
          ]
        }
      ]
    },
    {
      "cell_type": "code",
      "source": [
        "# makes the train test split\n",
        "test_frames = frame_list[int(len(frame_list) * (TRAIN_SPLIT + VAL_SPLIT)):]\n",
        "print(f'Number of test images: {len(test_frames)}')\n",
        "\n",
        "# makes the directory\n",
        "os.mkdir(FRAME_PATH + 'test/')\n",
        "for f in test_frames:\n",
        "    shutil.move(f, f'{FRAME_PATH}test/{os.path.basename(f)}')"
      ],
      "metadata": {
        "id": "xxnr6TuLO-EA",
        "outputId": "3798b803-79dd-4111-ec44-3a503985cd44",
        "colab": {
          "base_uri": "https://localhost:8080/"
        }
      },
      "execution_count": 11,
      "outputs": [
        {
          "output_type": "stream",
          "name": "stdout",
          "text": [
            "Number of test images: 61426\n"
          ]
        }
      ]
    },
    {
      "cell_type": "code",
      "source": [
        "shutil.make_archive(ZIP_FOLDER + 'pokemon/test', 'zip', FRAME_PATH + 'test/')\n",
        "print(f'Saved zip')"
      ],
      "metadata": {
        "id": "2H6WQDKKGEgZ",
        "outputId": "2da788d6-cf9f-49c3-8514-36f0152b0611",
        "colab": {
          "base_uri": "https://localhost:8080/"
        }
      },
      "execution_count": 12,
      "outputs": [
        {
          "output_type": "stream",
          "name": "stdout",
          "text": [
            "Saved zip\n"
          ]
        }
      ]
    }
  ]
}