{
  "nbformat": 4,
  "nbformat_minor": 0,
  "metadata": {
    "colab": {
      "name": "train_lama_default.ipynb",
      "provenance": [],
      "authorship_tag": "ABX9TyP8CAYV5ZcUaF+xJ5rP8Hg+",
      "include_colab_link": true
    },
    "kernelspec": {
      "name": "python3",
      "display_name": "Python 3"
    },
    "language_info": {
      "name": "python"
    },
    "accelerator": "GPU"
  },
  "cells": [
    {
      "cell_type": "markdown",
      "metadata": {
        "id": "view-in-github",
        "colab_type": "text"
      },
      "source": [
        "<a href=\"https://colab.research.google.com/github/MatthewYancey/GANime/blob/master/src/train_lama_default.ipynb\" target=\"_parent\"><img src=\"https://colab.research.google.com/assets/colab-badge.svg\" alt=\"Open In Colab\"/></a>"
      ]
    },
    {
      "cell_type": "markdown",
      "source": [
        "#Tain LaMa\n",
        "This notebok runs the default training for LaMa"
      ],
      "metadata": {
        "id": "iVrGyIPupkW-"
      }
    },
    {
      "cell_type": "code",
      "source": [
        "!git clone https://github.com/facebookresearch/detectron2 detectron2_repo\n",
        "!pip install -e detectron2_repo"
      ],
      "metadata": {
        "colab": {
          "base_uri": "https://localhost:8080/"
        },
        "id": "vTaQAZl0wSFe",
        "outputId": "9e2bc335-be00-4661-ad2d-ef614b3bc25d"
      },
      "execution_count": 1,
      "outputs": [
        {
          "output_type": "stream",
          "name": "stdout",
          "text": [
            "fatal: destination path 'detectron2_repo' already exists and is not an empty directory.\n",
            "Obtaining file:///content/detectron2_repo\n",
            "Requirement already satisfied: Pillow>=7.1 in /usr/local/lib/python3.7/dist-packages (from detectron2==0.6) (7.1.2)\n",
            "Requirement already satisfied: matplotlib in /usr/local/lib/python3.7/dist-packages (from detectron2==0.6) (3.2.2)\n",
            "Requirement already satisfied: pycocotools>=2.0.2 in /usr/local/lib/python3.7/dist-packages (from detectron2==0.6) (2.0.4)\n",
            "Requirement already satisfied: termcolor>=1.1 in /usr/local/lib/python3.7/dist-packages (from detectron2==0.6) (1.1.0)\n",
            "Requirement already satisfied: yacs>=0.1.8 in /usr/local/lib/python3.7/dist-packages (from detectron2==0.6) (0.1.8)\n",
            "Requirement already satisfied: tabulate in /usr/local/lib/python3.7/dist-packages (from detectron2==0.6) (0.8.9)\n",
            "Requirement already satisfied: cloudpickle in /usr/local/lib/python3.7/dist-packages (from detectron2==0.6) (1.3.0)\n",
            "Requirement already satisfied: tqdm>4.29.0 in /usr/local/lib/python3.7/dist-packages (from detectron2==0.6) (4.62.3)\n",
            "Requirement already satisfied: tensorboard in /usr/local/lib/python3.7/dist-packages (from detectron2==0.6) (2.7.0)\n",
            "Requirement already satisfied: fvcore<0.1.6,>=0.1.5 in /usr/local/lib/python3.7/dist-packages (from detectron2==0.6) (0.1.5.post20220119)\n",
            "Requirement already satisfied: iopath<0.1.10,>=0.1.7 in /usr/local/lib/python3.7/dist-packages (from detectron2==0.6) (0.1.9)\n",
            "Requirement already satisfied: future in /usr/local/lib/python3.7/dist-packages (from detectron2==0.6) (0.16.0)\n",
            "Requirement already satisfied: pydot in /usr/local/lib/python3.7/dist-packages (from detectron2==0.6) (1.3.0)\n",
            "Requirement already satisfied: omegaconf>=2.1 in /usr/local/lib/python3.7/dist-packages (from detectron2==0.6) (2.1.1)\n",
            "Requirement already satisfied: hydra-core>=1.1 in /usr/local/lib/python3.7/dist-packages (from detectron2==0.6) (1.1.1)\n",
            "Requirement already satisfied: black==21.4b2 in /usr/local/lib/python3.7/dist-packages (from detectron2==0.6) (21.4b2)\n",
            "Requirement already satisfied: scipy>1.5.1 in /usr/local/lib/python3.7/dist-packages (from detectron2==0.6) (1.7.3)\n",
            "Requirement already satisfied: appdirs in /usr/local/lib/python3.7/dist-packages (from black==21.4b2->detectron2==0.6) (1.4.4)\n",
            "Requirement already satisfied: click>=7.1.2 in /usr/local/lib/python3.7/dist-packages (from black==21.4b2->detectron2==0.6) (7.1.2)\n",
            "Requirement already satisfied: toml>=0.10.1 in /usr/local/lib/python3.7/dist-packages (from black==21.4b2->detectron2==0.6) (0.10.2)\n",
            "Requirement already satisfied: typed-ast>=1.4.2 in /usr/local/lib/python3.7/dist-packages (from black==21.4b2->detectron2==0.6) (1.5.2)\n",
            "Requirement already satisfied: pathspec<1,>=0.8.1 in /usr/local/lib/python3.7/dist-packages (from black==21.4b2->detectron2==0.6) (0.9.0)\n",
            "Requirement already satisfied: typing-extensions>=3.7.4 in /usr/local/lib/python3.7/dist-packages (from black==21.4b2->detectron2==0.6) (3.10.0.2)\n",
            "Requirement already satisfied: mypy-extensions>=0.4.3 in /usr/local/lib/python3.7/dist-packages (from black==21.4b2->detectron2==0.6) (0.4.3)\n",
            "Requirement already satisfied: regex>=2020.1.8 in /usr/local/lib/python3.7/dist-packages (from black==21.4b2->detectron2==0.6) (2022.1.18)\n",
            "Requirement already satisfied: numpy in /usr/local/lib/python3.7/dist-packages (from fvcore<0.1.6,>=0.1.5->detectron2==0.6) (1.19.5)\n",
            "Requirement already satisfied: pyyaml>=5.1 in /usr/local/lib/python3.7/dist-packages (from fvcore<0.1.6,>=0.1.5->detectron2==0.6) (6.0)\n",
            "Requirement already satisfied: importlib-resources in /usr/local/lib/python3.7/dist-packages (from hydra-core>=1.1->detectron2==0.6) (5.4.0)\n",
            "Requirement already satisfied: antlr4-python3-runtime==4.8 in /usr/local/lib/python3.7/dist-packages (from hydra-core>=1.1->detectron2==0.6) (4.8)\n",
            "Requirement already satisfied: portalocker in /usr/local/lib/python3.7/dist-packages (from iopath<0.1.10,>=0.1.7->detectron2==0.6) (2.3.2)\n",
            "Requirement already satisfied: pyparsing!=2.0.4,!=2.1.2,!=2.1.6,>=2.0.1 in /usr/local/lib/python3.7/dist-packages (from matplotlib->detectron2==0.6) (3.0.7)\n",
            "Requirement already satisfied: kiwisolver>=1.0.1 in /usr/local/lib/python3.7/dist-packages (from matplotlib->detectron2==0.6) (1.3.2)\n",
            "Requirement already satisfied: python-dateutil>=2.1 in /usr/local/lib/python3.7/dist-packages (from matplotlib->detectron2==0.6) (2.8.2)\n",
            "Requirement already satisfied: cycler>=0.10 in /usr/local/lib/python3.7/dist-packages (from matplotlib->detectron2==0.6) (0.11.0)\n",
            "Requirement already satisfied: six>=1.5 in /usr/local/lib/python3.7/dist-packages (from python-dateutil>=2.1->matplotlib->detectron2==0.6) (1.15.0)\n",
            "Requirement already satisfied: zipp>=3.1.0 in /usr/local/lib/python3.7/dist-packages (from importlib-resources->hydra-core>=1.1->detectron2==0.6) (3.7.0)\n",
            "Requirement already satisfied: werkzeug>=0.11.15 in /usr/local/lib/python3.7/dist-packages (from tensorboard->detectron2==0.6) (1.0.1)\n",
            "Requirement already satisfied: google-auth-oauthlib<0.5,>=0.4.1 in /usr/local/lib/python3.7/dist-packages (from tensorboard->detectron2==0.6) (0.4.6)\n",
            "Requirement already satisfied: tensorboard-plugin-wit>=1.6.0 in /usr/local/lib/python3.7/dist-packages (from tensorboard->detectron2==0.6) (1.8.1)\n",
            "Requirement already satisfied: markdown>=2.6.8 in /usr/local/lib/python3.7/dist-packages (from tensorboard->detectron2==0.6) (3.3.6)\n",
            "Requirement already satisfied: protobuf>=3.6.0 in /usr/local/lib/python3.7/dist-packages (from tensorboard->detectron2==0.6) (3.17.3)\n",
            "Requirement already satisfied: setuptools>=41.0.0 in /usr/local/lib/python3.7/dist-packages (from tensorboard->detectron2==0.6) (57.4.0)\n",
            "Requirement already satisfied: absl-py>=0.4 in /usr/local/lib/python3.7/dist-packages (from tensorboard->detectron2==0.6) (1.0.0)\n",
            "Requirement already satisfied: wheel>=0.26 in /usr/local/lib/python3.7/dist-packages (from tensorboard->detectron2==0.6) (0.37.1)\n",
            "Requirement already satisfied: google-auth<3,>=1.6.3 in /usr/local/lib/python3.7/dist-packages (from tensorboard->detectron2==0.6) (1.35.0)\n",
            "Requirement already satisfied: tensorboard-data-server<0.7.0,>=0.6.0 in /usr/local/lib/python3.7/dist-packages (from tensorboard->detectron2==0.6) (0.6.1)\n",
            "Requirement already satisfied: requests<3,>=2.21.0 in /usr/local/lib/python3.7/dist-packages (from tensorboard->detectron2==0.6) (2.23.0)\n",
            "Requirement already satisfied: grpcio>=1.24.3 in /usr/local/lib/python3.7/dist-packages (from tensorboard->detectron2==0.6) (1.43.0)\n",
            "Requirement already satisfied: rsa<5,>=3.1.4 in /usr/local/lib/python3.7/dist-packages (from google-auth<3,>=1.6.3->tensorboard->detectron2==0.6) (4.8)\n",
            "Requirement already satisfied: cachetools<5.0,>=2.0.0 in /usr/local/lib/python3.7/dist-packages (from google-auth<3,>=1.6.3->tensorboard->detectron2==0.6) (4.2.4)\n",
            "Requirement already satisfied: pyasn1-modules>=0.2.1 in /usr/local/lib/python3.7/dist-packages (from google-auth<3,>=1.6.3->tensorboard->detectron2==0.6) (0.2.8)\n",
            "Requirement already satisfied: requests-oauthlib>=0.7.0 in /usr/local/lib/python3.7/dist-packages (from google-auth-oauthlib<0.5,>=0.4.1->tensorboard->detectron2==0.6) (1.3.1)\n",
            "Requirement already satisfied: importlib-metadata>=4.4 in /usr/local/lib/python3.7/dist-packages (from markdown>=2.6.8->tensorboard->detectron2==0.6) (4.10.1)\n",
            "Requirement already satisfied: pyasn1<0.5.0,>=0.4.6 in /usr/local/lib/python3.7/dist-packages (from pyasn1-modules>=0.2.1->google-auth<3,>=1.6.3->tensorboard->detectron2==0.6) (0.4.8)\n",
            "Requirement already satisfied: idna<3,>=2.5 in /usr/local/lib/python3.7/dist-packages (from requests<3,>=2.21.0->tensorboard->detectron2==0.6) (2.10)\n",
            "Requirement already satisfied: chardet<4,>=3.0.2 in /usr/local/lib/python3.7/dist-packages (from requests<3,>=2.21.0->tensorboard->detectron2==0.6) (3.0.4)\n",
            "Requirement already satisfied: urllib3!=1.25.0,!=1.25.1,<1.26,>=1.21.1 in /usr/local/lib/python3.7/dist-packages (from requests<3,>=2.21.0->tensorboard->detectron2==0.6) (1.24.3)\n",
            "Requirement already satisfied: certifi>=2017.4.17 in /usr/local/lib/python3.7/dist-packages (from requests<3,>=2.21.0->tensorboard->detectron2==0.6) (2021.10.8)\n",
            "Requirement already satisfied: oauthlib>=3.0.0 in /usr/local/lib/python3.7/dist-packages (from requests-oauthlib>=0.7.0->google-auth-oauthlib<0.5,>=0.4.1->tensorboard->detectron2==0.6) (3.2.0)\n",
            "Installing collected packages: detectron2\n",
            "  Attempting uninstall: detectron2\n",
            "    Found existing installation: detectron2 0.6\n",
            "    Can't uninstall 'detectron2'. No files were found to uninstall.\n",
            "  Running setup.py develop for detectron2\n",
            "Successfully installed detectron2-0.6\n"
          ]
        }
      ]
    },
    {
      "cell_type": "code",
      "source": [
        "import os\n",
        "import shutil\n",
        "import glob\n",
        "\n",
        "from google.colab import drive\n",
        "drive.mount('/content/gdrive')"
      ],
      "metadata": {
        "colab": {
          "base_uri": "https://localhost:8080/"
        },
        "id": "3P4-_KddMXYc",
        "outputId": "584c782e-ad21-4e4f-da84-1a1f14eef61b"
      },
      "execution_count": 2,
      "outputs": [
        {
          "output_type": "stream",
          "name": "stdout",
          "text": [
            "Mounted at /content/gdrive\n"
          ]
        }
      ]
    },
    {
      "cell_type": "code",
      "source": [
        "# train_zip = '/content/gdrive/MyDrive/repos/GANime/data_out/pokemon/train_png.zip'\n",
        "val_zip = '/content/gdrive/MyDrive/repos/GANime/data_out/pokemon/test_masks.zip'\n",
        "eval_zip = '/content/gdrive/MyDrive/repos/GANime/data_out/pokemon/test_masks.zip'\n",
        "dataset_dir = '/content/lama/my_dataset/'"
      ],
      "metadata": {
        "id": "4YQmQ5TLe-2n"
      },
      "execution_count": 3,
      "outputs": []
    },
    {
      "cell_type": "code",
      "source": [
        "print('\\n> Cloning the repo')\n",
        "!git clone https://github.com/saic-mdal/lama.git\n",
        "\n",
        "print('\\n> Install dependencies')\n",
        "!pip install -r lama/requirements.txt --quiet\n",
        "!pip install wget --quiet\n",
        "\n",
        "print('\\n> Changing the dir to:')\n",
        "% cd /content/lama\n",
        "\n",
        "# downloads the models for evaluations\n",
        "print('Downloading resnet model for evaluation')\n",
        "!mkdir -p ade20k/ade20k-resnet50dilated-ppm_deepsup/\n",
        "!wget -P ade20k/ade20k-resnet50dilated-ppm_deepsup/ http://sceneparsing.csail.mit.edu/model/pytorch/ade20k-resnet50dilated-ppm_deepsup/encoder_epoch_20.pth\n",
        "\n",
        "# see if you don't need this\n",
        "# print('\\n> Download the model')\n",
        "# !curl -L $(yadisk-direct https://disk.yandex.ru/d/EgqaSnLohjuzAg) -o lama-models.zip\n",
        "# !unzip lama-models.zip\n",
        "\n",
        "print('>fixing opencv')\n",
        "!pip uninstall opencv-python-headless -y --quiet\n",
        "!pip install opencv-python-headless==4.1.2.30 --quiet\n",
        "\n",
        "print('\\n> Init mask-drawing code')\n",
        "import base64, os\n",
        "from IPython.display import HTML, Image\n",
        "from google.colab.output import eval_js\n",
        "from base64 import b64decode\n",
        "import matplotlib.pyplot as plt\n",
        "import numpy as np\n",
        "import wget\n",
        "from shutil import copyfile\n",
        "import shutil"
      ],
      "metadata": {
        "id": "ACQUc8OQT4uH",
        "colab": {
          "base_uri": "https://localhost:8080/"
        },
        "outputId": "638f0b22-cb8c-4777-da88-627c9f441c70"
      },
      "execution_count": 4,
      "outputs": [
        {
          "output_type": "stream",
          "name": "stdout",
          "text": [
            "\n",
            "> Cloning the repo\n",
            "Cloning into 'lama'...\n",
            "remote: Enumerating objects: 283, done.\u001b[K\n",
            "remote: Counting objects: 100% (283/283), done.\u001b[K\n",
            "remote: Compressing objects: 100% (205/205), done.\u001b[K\n",
            "remote: Total 283 (delta 73), reused 264 (delta 66), pack-reused 0\u001b[K\n",
            "Receiving objects: 100% (283/283), 6.49 MiB | 37.57 MiB/s, done.\n",
            "Resolving deltas: 100% (73/73), done.\n",
            "\n",
            "> Install dependencies\n",
            "\u001b[K     |████████████████████████████████| 12.5 MB 5.0 MB/s \n",
            "\u001b[K     |████████████████████████████████| 22.3 MB 70.9 MB/s \n",
            "\u001b[K     |████████████████████████████████| 72 kB 854 kB/s \n",
            "\u001b[K     |████████████████████████████████| 144 kB 92.0 MB/s \n",
            "\u001b[K     |████████████████████████████████| 841 kB 64.9 MB/s \n",
            "\u001b[K     |████████████████████████████████| 271 kB 91.8 MB/s \n",
            "\u001b[K     |████████████████████████████████| 47 kB 6.8 MB/s \n",
            "\u001b[K     |████████████████████████████████| 47.7 MB 1.1 MB/s \n",
            "\u001b[K     |████████████████████████████████| 948 kB 70.8 MB/s \n",
            "\u001b[K     |████████████████████████████████| 176 kB 81.3 MB/s \n",
            "\u001b[K     |████████████████████████████████| 133 kB 93.9 MB/s \n",
            "\u001b[K     |████████████████████████████████| 829 kB 93.5 MB/s \n",
            "\u001b[K     |████████████████████████████████| 1.1 MB 73.4 MB/s \n",
            "\u001b[K     |████████████████████████████████| 271 kB 74.5 MB/s \n",
            "\u001b[K     |████████████████████████████████| 144 kB 86.6 MB/s \n",
            "\u001b[K     |████████████████████████████████| 94 kB 4.4 MB/s \n",
            "\u001b[?25h  Building wheel for future (setup.py) ... \u001b[?25l\u001b[?25hdone\n",
            "  Building wheel for wget (setup.py) ... \u001b[?25l\u001b[?25hdone\n",
            "\n",
            "> Changing the dir to:\n",
            "/content/lama\n",
            "Downloading resnet model for evaluation\n",
            "--2022-02-11 21:27:41--  http://sceneparsing.csail.mit.edu/model/pytorch/ade20k-resnet50dilated-ppm_deepsup/encoder_epoch_20.pth\n",
            "Resolving sceneparsing.csail.mit.edu (sceneparsing.csail.mit.edu)... 128.30.195.26\n",
            "Connecting to sceneparsing.csail.mit.edu (sceneparsing.csail.mit.edu)|128.30.195.26|:80... connected.\n",
            "HTTP request sent, awaiting response... 200 OK\n",
            "Length: 95015426 (91M)\n",
            "Saving to: ‘ade20k/ade20k-resnet50dilated-ppm_deepsup/encoder_epoch_20.pth’\n",
            "\n",
            "encoder_epoch_20.pt 100%[===================>]  90.61M  87.8MB/s    in 1.0s    \n",
            "\n",
            "2022-02-11 21:27:42 (87.8 MB/s) - ‘ade20k/ade20k-resnet50dilated-ppm_deepsup/encoder_epoch_20.pth’ saved [95015426/95015426]\n",
            "\n",
            ">fixing opencv\n",
            "\u001b[K     |████████████████████████████████| 21.8 MB 266 kB/s \n",
            "\u001b[?25h\n",
            "> Init mask-drawing code\n"
          ]
        }
      ]
    },
    {
      "cell_type": "code",
      "source": [
        "# uses the celeb dataset\n",
        "shutil.copy('/content/gdrive/MyDrive/repos/GANime/data_out/data256x256.zip', '/content/lama/data256x256.zip')\n",
        "!bash fetch_data/celebahq_dataset_prepare.sh\n",
        "\n",
        "# generate masks for test and visual_test at the end of epoch\n",
        "!export PYTHONPATH=. && bash fetch_data/celebahq_gen_masks.sh\n",
        "\n",
        "# Run training\n",
        "!export TORCH_HOME=$(pwd) && export USER='matt' && export PYTHONPATH=. && python3 bin/train.py -cn lama-fourier-celeba data.batch_size=10"
      ],
      "metadata": {
        "colab": {
          "base_uri": "https://localhost:8080/"
        },
        "id": "vX1y33eCJkpK",
        "outputId": "963f7224-eb9f-404c-955f-ed26171b8eae"
      },
      "execution_count": 5,
      "outputs": [
        {
          "output_type": "stream",
          "name": "stdout",
          "text": [
            "\rEpoch 0:   5% 360/6592 [02:00<34:51,  2.98it/s, loss=12.5, v_num=0]\rEpoch 0:   5% 360/6592 [02:00<34:51,  2.98it/s, loss=13.6, v_num=0]/usr/local/lib/python3.7/dist-packages/pytorch_lightning/utilities/distributed.py:68: UserWarning: Detected KeyboardInterrupt, attempting graceful shutdown...\n",
            "  warnings.warn(*args, **kwargs)\n",
            "Saving latest checkpoint...\n",
            "Epoch 0, global step 370: val_ssim_fid100_f1_total_mean reached 0.00000 (best 0.00000), saving model to \"/content/lama/experiments/matt_2022-02-11_21-40-54_train_lama-fourier-celeba_/models/epoch=0-step=370.ckpt\" as top 5\n",
            "Epoch 0:   5% 360/6592 [02:10<37:34,  2.76it/s, loss=13.6, v_num=0]\n"
          ]
        }
      ]
    },
    {
      "cell_type": "code",
      "source": [
        "# val_source # 2000 or more images\n",
        "# visual_test_source # 100 or more images\n",
        "# eval_source # 2000 or more images\n",
        "\n",
        "# copy the training set over\n",
        "os.mkdir(dataset_dir)\n",
        "shutil.copy(val_zip, dataset_dir + 'val.zip')\n",
        "shutil.unpack_archive(dataset_dir + 'val.zip', dataset_dir + '/val_source/')\n",
        "\n",
        "# makes a copy for eval and visual test\n",
        "shutil.copytree(dataset_dir + 'val_source/', dataset_dir + 'eval_source/')\n",
        "shutil.copytree(dataset_dir + 'val_source/', dataset_dir + 'visual_test_source/')"
      ],
      "metadata": {
        "id": "AgZ2BaVXkede"
      },
      "execution_count": null,
      "outputs": []
    },
    {
      "cell_type": "code",
      "source": [
        "# copies images to the training folder\n",
        "img_list = glob.glob(dataset_dir + '/val_source/*')\n",
        "print(f'Number of images: {len(img_list)}')\n",
        "img_list = [f for f in img_list if 'mask' not in f]\n",
        "print(f'Number of images: {len(img_list)}')"
      ],
      "metadata": {
        "id": "8A-44i9x9UVV"
      },
      "execution_count": null,
      "outputs": []
    },
    {
      "cell_type": "code",
      "source": [
        "# picks 130k images and resizes them\n",
        "if os.path.isdir(dataset_dir + 'train/'):\n",
        "    shutil.rmtree(dataset_dir + 'train/')\n",
        "os.mkdir(dataset_dir + 'train/')\n",
        "\n",
        "import random\n",
        "import cv2\n",
        "\n",
        "for i in range(130000):\n",
        "    img_file = random.choice(img_list)\n",
        "    img = cv2.imread(img_file)\n",
        "    img = cv2.resize(img, (256, 256))\n",
        "    cv2.imwrite(dataset_dir + 'train/' + os.path.basename(img_file), img)\n",
        "    \n",
        "    if i % 10000 == 0:\n",
        "        print(i)"
      ],
      "metadata": {
        "colab": {
          "base_uri": "https://localhost:8080/"
        },
        "id": "npMM6xB09Vst",
        "outputId": "dca5abbc-e113-406f-b584-aa31fe1b50c9"
      },
      "execution_count": 27,
      "outputs": [
        {
          "output_type": "stream",
          "name": "stdout",
          "text": [
            "0\n",
            "10000\n",
            "20000\n",
            "30000\n",
            "40000\n",
            "50000\n",
            "60000\n",
            "70000\n",
            "80000\n",
            "90000\n",
            "100000\n",
            "110000\n",
            "120000\n"
          ]
        }
      ]
    },
    {
      "cell_type": "code",
      "source": [
        "# increasing the celeb dataset\n",
        "celeb_files = glob.glob('/content/lama/my_dataset/celeb_train/*')\n",
        "print(f'Number of files {len(celeb_files)}')\n",
        "\n",
        "# gets the max number\n",
        "i = 0\n",
        "while i < (130000 - len(celeb_files)):\n",
        "    img_file = random.choice(celeb_files)\n",
        "    shutil.copy(img_file, '/content/lama/my_dataset/celeb_train/' + str(i+130000) + '.jpg')\n",
        "\n",
        "    i += 1"
      ],
      "metadata": {
        "colab": {
          "base_uri": "https://localhost:8080/"
        },
        "id": "_8zd8XFYHZW5",
        "outputId": "768da918-8e99-4b5b-db7e-d48696f56fae"
      },
      "execution_count": 34,
      "outputs": [
        {
          "output_type": "stream",
          "name": "stdout",
          "text": [
            "Number of files 129999\n"
          ]
        }
      ]
    },
    {
      "cell_type": "code",
      "source": [
        "celeb_files = glob.glob('/content/lama/my_dataset/val/*')\n",
        "print(f'Number of files {len(celeb_files)}')\n"
      ],
      "metadata": {
        "colab": {
          "base_uri": "https://localhost:8080/"
        },
        "id": "ulsfBdTb8uLZ",
        "outputId": "5b9358ed-2c02-4a8b-db97-94e492f15986"
      },
      "execution_count": 20,
      "outputs": [
        {
          "output_type": "stream",
          "name": "stdout",
          "text": [
            "Number of files 122852\n"
          ]
        }
      ]
    },
    {
      "cell_type": "code",
      "source": [
        "# testing moving celeba images to training folder\n",
        "celeb_files = glob.glob('/content/lama/celeba-hq-dataset/train_256/*')\n",
        "print(f'Number of files {len(celeb_files)}')\n",
        "shutil.copytree('/content/lama/celeba-hq-dataset/train_256', '/content/lama/my_dataset/celeb')"
      ],
      "metadata": {
        "colab": {
          "base_uri": "https://localhost:8080/",
          "height": 53
        },
        "id": "RDdaw2Mi6-kZ",
        "outputId": "0d7c3118-4182-4c94-dd08-cd6708c7c445"
      },
      "execution_count": 18,
      "outputs": [
        {
          "output_type": "stream",
          "name": "stdout",
          "text": [
            "Number of files 26000\n"
          ]
        },
        {
          "output_type": "execute_result",
          "data": {
            "application/vnd.google.colaboratory.intrinsic+json": {
              "type": "string"
            },
            "text/plain": [
              "'/content/lama/my_dataset/celeb'"
            ]
          },
          "metadata": {},
          "execution_count": 18
        }
      ]
    },
    {
      "cell_type": "code",
      "source": [
        "# makes the config file for training\n",
        "!touch my_dataset.yaml\n",
        "!echo \"data_root_dir: $(pwd)/my_dataset/\" >> my_dataset.yaml\n",
        "!echo \"out_root_dir: $(pwd)/experiments/\" >> my_dataset.yaml\n",
        "!echo \"tb_dir: $(pwd)/tb_logs/\" >> my_dataset.yaml\n",
        "!mv my_dataset.yaml ${PWD}/configs/training/location/\n",
        "\n",
        "# change /content/lama/configs/training/trainer/any_gpu_large_ssim_ddp_final.yaml limit_train_batches: 2600 # was 25000"
      ],
      "metadata": {
        "id": "FJbZWmtanNZc"
      },
      "execution_count": 47,
      "outputs": []
    },
    {
      "cell_type": "code",
      "source": [
        "# tests\n",
        "# shutil.rmtree('/content/lama/celeba-hq-dataset/data256x256')\n",
        "# shutil.rmtree('/content/lama/celeba-hq-dataset/val_source_256')\n",
        "# shutil.rmtree('/content/lama/celeba-hq-dataset/visual_test_source_256')\n",
        "\n",
        "!export TORCH_HOME=$(pwd) && export USER='matt' && export PYTHONPATH=. && python3 bin/train.py -cn lama-fourier location=my_dataset data.batch_size=10\n",
        "# !cat ${PWD}/configs/training/data/abl-04-256-mh-dist"
      ],
      "metadata": {
        "colab": {
          "base_uri": "https://localhost:8080/"
        },
        "id": "ZUQVVnILn7H1",
        "outputId": "35f63feb-7f30-4274-916a-f850ba9e7b9e"
      },
      "execution_count": null,
      "outputs": [
        {
          "output_type": "stream",
          "name": "stdout",
          "text": [
            "Epoch 0:   3% 2620/94739 [14:29<8:29:37,  3.01it/s, loss=10.3, v_num=0]\n",
            "Validating: 0it [00:00, ?it/s]\u001b[A\n",
            "Validating:   0% 0/92139 [00:00<?, ?it/s]\u001b[A\n",
            "Epoch 0:   3% 2640/94739 [14:32<8:27:05,  3.03it/s, loss=10.3, v_num=0]\n",
            "Epoch 0:   3% 2660/94739 [14:34<8:24:21,  3.04it/s, loss=10.3, v_num=0]\n",
            "Epoch 0:   3% 2680/94739 [14:36<8:21:40,  3.06it/s, loss=10.3, v_num=0]\n",
            "Epoch 0:   3% 2700/94739 [14:38<8:19:01,  3.07it/s, loss=10.3, v_num=0]\n",
            "Epoch 0:   3% 2720/94739 [14:40<8:16:24,  3.09it/s, loss=10.3, v_num=0]\n",
            "Epoch 0:   3% 2740/94739 [14:42<8:13:49,  3.10it/s, loss=10.3, v_num=0]\n",
            "Epoch 0:   3% 2760/94739 [14:44<8:11:16,  3.12it/s, loss=10.3, v_num=0]\n",
            "Epoch 0:   3% 2780/94739 [14:46<8:08:46,  3.14it/s, loss=10.3, v_num=0]\n",
            "Epoch 0:   3% 2800/94739 [14:48<8:06:18,  3.15it/s, loss=10.3, v_num=0]\n",
            "Epoch 0:   3% 2820/94739 [14:50<8:03:52,  3.17it/s, loss=10.3, v_num=0]\n",
            "Epoch 0:   3% 2840/94739 [14:52<8:01:28,  3.18it/s, loss=10.3, v_num=0]\n",
            "Epoch 0:   3% 2860/94739 [14:54<7:59:06,  3.20it/s, loss=10.3, v_num=0]\n",
            "Epoch 0:   3% 2880/94739 [14:56<7:56:46,  3.21it/s, loss=10.3, v_num=0]\n",
            "Epoch 0:   3% 2900/94739 [14:58<7:54:28,  3.23it/s, loss=10.3, v_num=0]\n",
            "Epoch 0:   3% 2920/94739 [15:00<7:52:11,  3.24it/s, loss=10.3, v_num=0]\n",
            "Epoch 0:   3% 2940/94739 [15:03<7:49:56,  3.26it/s, loss=10.3, v_num=0]\n",
            "Epoch 0:   3% 2960/94739 [15:05<7:47:43,  3.27it/s, loss=10.3, v_num=0]\n",
            "Epoch 0:   3% 2980/94739 [15:07<7:45:33,  3.28it/s, loss=10.3, v_num=0]\n",
            "Epoch 0:   3% 3000/94739 [15:09<7:43:24,  3.30it/s, loss=10.3, v_num=0]\n",
            "Epoch 0:   3% 3020/94739 [15:11<7:41:17,  3.31it/s, loss=10.3, v_num=0]\n",
            "Epoch 0:   3% 3040/94739 [15:13<7:39:11,  3.33it/s, loss=10.3, v_num=0]\n",
            "Epoch 0:   3% 3060/94739 [15:15<7:37:07,  3.34it/s, loss=10.3, v_num=0]\n",
            "Epoch 0:   3% 3080/94739 [15:17<7:35:04,  3.36it/s, loss=10.3, v_num=0]\n",
            "Epoch 0:   3% 3100/94739 [15:19<7:33:02,  3.37it/s, loss=10.3, v_num=0]\n",
            "Epoch 0:   3% 3120/94739 [15:21<7:31:03,  3.39it/s, loss=10.3, v_num=0]\n",
            "Epoch 0:   3% 3140/94739 [15:23<7:29:04,  3.40it/s, loss=10.3, v_num=0]\n",
            "Epoch 0:   3% 3160/94739 [15:25<7:27:08,  3.41it/s, loss=10.3, v_num=0]\n",
            "Epoch 0:   3% 3180/94739 [15:27<7:25:12,  3.43it/s, loss=10.3, v_num=0]\n",
            "Epoch 0:   3% 3200/94739 [15:29<7:23:19,  3.44it/s, loss=10.3, v_num=0]\n",
            "Epoch 0:   3% 3220/94739 [15:31<7:21:26,  3.46it/s, loss=10.3, v_num=0]\n",
            "Epoch 0:   3% 3240/94739 [15:33<7:19:34,  3.47it/s, loss=10.3, v_num=0]\n",
            "Epoch 0:   3% 3260/94739 [15:35<7:17:44,  3.48it/s, loss=10.3, v_num=0]\n",
            "Epoch 0:   3% 3280/94739 [15:38<7:15:55,  3.50it/s, loss=10.3, v_num=0]\n",
            "Epoch 0:   3% 3300/94739 [15:40<7:14:08,  3.51it/s, loss=10.3, v_num=0]\n",
            "Epoch 0:   4% 3320/94739 [15:42<7:12:22,  3.52it/s, loss=10.3, v_num=0]\n",
            "Epoch 0:   4% 3340/94739 [15:44<7:10:36,  3.54it/s, loss=10.3, v_num=0]\n",
            "Epoch 0:   4% 3360/94739 [15:46<7:08:53,  3.55it/s, loss=10.3, v_num=0]\n",
            "Epoch 0:   4% 3380/94739 [15:48<7:07:10,  3.56it/s, loss=10.3, v_num=0]\n",
            "Epoch 0:   4% 3400/94739 [15:50<7:05:29,  3.58it/s, loss=10.3, v_num=0]\n",
            "Epoch 0:   4% 3420/94739 [15:52<7:03:48,  3.59it/s, loss=10.3, v_num=0]\n",
            "Epoch 0:   4% 3440/94739 [15:54<7:02:09,  3.60it/s, loss=10.3, v_num=0]\n",
            "Epoch 0:   4% 3460/94739 [15:56<7:00:32,  3.62it/s, loss=10.3, v_num=0]\n",
            "Epoch 0:   4% 3480/94739 [15:58<6:58:55,  3.63it/s, loss=10.3, v_num=0]\n",
            "Epoch 0:   4% 3500/94739 [16:00<6:57:19,  3.64it/s, loss=10.3, v_num=0]\n",
            "Epoch 0:   4% 3520/94739 [16:02<6:55:45,  3.66it/s, loss=10.3, v_num=0]\n",
            "Epoch 0:   4% 3540/94739 [16:04<6:54:11,  3.67it/s, loss=10.3, v_num=0]\n",
            "Epoch 0:   4% 3560/94739 [16:06<6:52:38,  3.68it/s, loss=10.3, v_num=0]\n",
            "Epoch 0:   4% 3580/94739 [16:08<6:51:06,  3.70it/s, loss=10.3, v_num=0]\n",
            "Epoch 0:   4% 3600/94739 [16:10<6:49:36,  3.71it/s, loss=10.3, v_num=0]\n",
            "Epoch 0:   4% 3620/94739 [16:12<6:48:07,  3.72it/s, loss=10.3, v_num=0]\n",
            "Epoch 0:   4% 3640/94739 [16:15<6:46:42,  3.73it/s, loss=10.3, v_num=0]\n",
            "Epoch 0:   4% 3660/94739 [16:17<6:45:14,  3.75it/s, loss=10.3, v_num=0]\n",
            "Epoch 0:   4% 3680/94739 [16:19<6:43:47,  3.76it/s, loss=10.3, v_num=0]\n",
            "Epoch 0:   4% 3700/94739 [16:21<6:42:21,  3.77it/s, loss=10.3, v_num=0]\n",
            "Epoch 0:   4% 3720/94739 [16:23<6:40:56,  3.78it/s, loss=10.3, v_num=0]\n",
            "Epoch 0:   4% 3740/94739 [16:25<6:39:32,  3.80it/s, loss=10.3, v_num=0]\n",
            "Epoch 0:   4% 3760/94739 [16:27<6:38:09,  3.81it/s, loss=10.3, v_num=0]\n",
            "Epoch 0:   4% 3780/94739 [16:29<6:36:46,  3.82it/s, loss=10.3, v_num=0]\n",
            "Epoch 0:   4% 3800/94739 [16:31<6:35:25,  3.83it/s, loss=10.3, v_num=0]\n",
            "Epoch 0:   4% 3820/94739 [16:33<6:34:04,  3.85it/s, loss=10.3, v_num=0]\n",
            "Epoch 0:   4% 3840/94739 [16:35<6:32:44,  3.86it/s, loss=10.3, v_num=0]\n",
            "Epoch 0:   4% 3860/94739 [16:37<6:31:25,  3.87it/s, loss=10.3, v_num=0]\n",
            "Epoch 0:   4% 3880/94739 [16:39<6:30:07,  3.88it/s, loss=10.3, v_num=0]\n",
            "Epoch 0:   4% 3900/94739 [16:41<6:28:49,  3.89it/s, loss=10.3, v_num=0]\n",
            "Epoch 0:   4% 3920/94739 [16:43<6:27:32,  3.91it/s, loss=10.3, v_num=0]\n",
            "Epoch 0:   4% 3940/94739 [16:45<6:26:16,  3.92it/s, loss=10.3, v_num=0]\n",
            "Epoch 0:   4% 3960/94739 [16:47<6:25:01,  3.93it/s, loss=10.3, v_num=0]\n",
            "Epoch 0:   4% 3980/94739 [16:49<6:23:47,  3.94it/s, loss=10.3, v_num=0]\n",
            "Epoch 0:   4% 4000/94739 [16:51<6:22:33,  3.95it/s, loss=10.3, v_num=0]\n",
            "Epoch 0:   4% 4020/94739 [16:53<6:21:20,  3.96it/s, loss=10.3, v_num=0]\n",
            "Epoch 0:   4% 4040/94739 [16:55<6:20:07,  3.98it/s, loss=10.3, v_num=0]\n",
            "Epoch 0:   4% 4060/94739 [16:57<6:18:56,  3.99it/s, loss=10.3, v_num=0]\n",
            "Epoch 0:   4% 4080/94739 [17:00<6:17:45,  4.00it/s, loss=10.3, v_num=0]\n",
            "Epoch 0:   4% 4100/94739 [17:02<6:16:35,  4.01it/s, loss=10.3, v_num=0]\n",
            "Epoch 0:   4% 4120/94739 [17:04<6:15:25,  4.02it/s, loss=10.3, v_num=0]\n",
            "Epoch 0:   4% 4140/94739 [17:06<6:14:15,  4.03it/s, loss=10.3, v_num=0]\n",
            "Epoch 0:   4% 4160/94739 [17:08<6:13:07,  4.05it/s, loss=10.3, v_num=0]\n",
            "Epoch 0:   4% 4180/94739 [17:10<6:12:00,  4.06it/s, loss=10.3, v_num=0]\n",
            "Epoch 0:   4% 4200/94739 [17:12<6:10:53,  4.07it/s, loss=10.3, v_num=0]\n",
            "Epoch 0:   4% 4220/94739 [17:14<6:09:47,  4.08it/s, loss=10.3, v_num=0]\n",
            "Epoch 0:   4% 4240/94739 [17:16<6:08:41,  4.09it/s, loss=10.3, v_num=0]\n",
            "Epoch 0:   4% 4260/94739 [17:18<6:07:35,  4.10it/s, loss=10.3, v_num=0]\n",
            "Epoch 0:   5% 4280/94739 [17:20<6:06:31,  4.11it/s, loss=10.3, v_num=0]\n",
            "Epoch 0:   5% 4300/94739 [17:22<6:05:27,  4.12it/s, loss=10.3, v_num=0]\n",
            "Epoch 0:   5% 4320/94739 [17:24<6:04:23,  4.14it/s, loss=10.3, v_num=0]\n",
            "Epoch 0:   5% 4340/94739 [17:26<6:03:21,  4.15it/s, loss=10.3, v_num=0]\n",
            "Epoch 0:   5% 4360/94739 [17:28<6:02:18,  4.16it/s, loss=10.3, v_num=0]\n",
            "Epoch 0:   5% 4380/94739 [17:30<6:01:16,  4.17it/s, loss=10.3, v_num=0]\n",
            "Epoch 0:   5% 4400/94739 [17:32<6:00:15,  4.18it/s, loss=10.3, v_num=0]\n",
            "Epoch 0:   5% 4420/94739 [17:34<5:59:14,  4.19it/s, loss=10.3, v_num=0]\n",
            "Epoch 0:   5% 4440/94739 [17:36<5:58:14,  4.20it/s, loss=10.3, v_num=0]\n",
            "Epoch 0:   5% 4460/94739 [17:38<5:57:14,  4.21it/s, loss=10.3, v_num=0]\n",
            "Epoch 0:   5% 4480/94739 [17:40<5:56:15,  4.22it/s, loss=10.3, v_num=0]\n",
            "Epoch 0:   5% 4500/94739 [17:43<5:55:16,  4.23it/s, loss=10.3, v_num=0]\n",
            "Epoch 0:   5% 4520/94739 [17:45<5:54:18,  4.24it/s, loss=10.3, v_num=0]\n",
            "Epoch 0:   5% 4540/94739 [17:47<5:53:21,  4.25it/s, loss=10.3, v_num=0]\n",
            "Epoch 0:   5% 4560/94739 [17:49<5:52:24,  4.26it/s, loss=10.3, v_num=0]\n",
            "Epoch 0:   5% 4580/94739 [17:51<5:51:29,  4.28it/s, loss=10.3, v_num=0]\n",
            "Epoch 0:   5% 4600/94739 [17:53<5:50:33,  4.29it/s, loss=10.3, v_num=0]\n",
            "Epoch 0:   5% 4620/94739 [17:55<5:49:38,  4.30it/s, loss=10.3, v_num=0]\n",
            "Epoch 0:   5% 4640/94739 [17:57<5:48:46,  4.31it/s, loss=10.3, v_num=0]\n",
            "Epoch 0:   5% 4660/94739 [17:59<5:47:51,  4.32it/s, loss=10.3, v_num=0]\n",
            "Epoch 0:   5% 4680/94739 [18:01<5:46:57,  4.33it/s, loss=10.3, v_num=0]\n",
            "Epoch 0:   5% 4700/94739 [18:03<5:46:03,  4.34it/s, loss=10.3, v_num=0]\n",
            "Epoch 0:   5% 4720/94739 [18:05<5:45:09,  4.35it/s, loss=10.3, v_num=0]\n",
            "Epoch 0:   5% 4740/94739 [18:07<5:44:16,  4.36it/s, loss=10.3, v_num=0]\n",
            "Epoch 0:   5% 4760/94739 [18:09<5:43:23,  4.37it/s, loss=10.3, v_num=0]\n",
            "Epoch 0:   5% 4780/94739 [18:12<5:42:31,  4.38it/s, loss=10.3, v_num=0]\n",
            "Epoch 0:   5% 4800/94739 [18:14<5:41:39,  4.39it/s, loss=10.3, v_num=0]\n",
            "Epoch 0:   5% 4820/94739 [18:16<5:40:48,  4.40it/s, loss=10.3, v_num=0]\n",
            "Epoch 0:   5% 4840/94739 [18:18<5:39:57,  4.41it/s, loss=10.3, v_num=0]\n",
            "Epoch 0:   5% 4860/94739 [18:20<5:39:06,  4.42it/s, loss=10.3, v_num=0]\n",
            "Epoch 0:   5% 4880/94739 [18:22<5:38:16,  4.43it/s, loss=10.3, v_num=0]\n",
            "Epoch 0:   5% 4900/94739 [18:24<5:37:26,  4.44it/s, loss=10.3, v_num=0]\n",
            "Epoch 0:   5% 4920/94739 [18:26<5:36:37,  4.45it/s, loss=10.3, v_num=0]\n",
            "Epoch 0:   5% 4940/94739 [18:28<5:35:48,  4.46it/s, loss=10.3, v_num=0]\n",
            "Epoch 0:   5% 4960/94739 [18:30<5:34:59,  4.47it/s, loss=10.3, v_num=0]\n",
            "Epoch 0:   5% 4980/94739 [18:32<5:34:11,  4.48it/s, loss=10.3, v_num=0]\n",
            "Epoch 0:   5% 5000/94739 [18:34<5:33:23,  4.49it/s, loss=10.3, v_num=0]\n",
            "Epoch 0:   5% 5020/94739 [18:36<5:32:35,  4.50it/s, loss=10.3, v_num=0]\n",
            "Epoch 0:   5% 5040/94739 [18:38<5:31:48,  4.51it/s, loss=10.3, v_num=0]\n",
            "Epoch 0:   5% 5060/94739 [18:40<5:31:01,  4.52it/s, loss=10.3, v_num=0]\n",
            "Epoch 0:   5% 5080/94739 [18:42<5:30:15,  4.52it/s, loss=10.3, v_num=0]\n",
            "Epoch 0:   5% 5100/94739 [18:44<5:29:28,  4.53it/s, loss=10.3, v_num=0]\n",
            "Epoch 0:   5% 5120/94739 [18:46<5:28:43,  4.54it/s, loss=10.3, v_num=0]\n",
            "Epoch 0:   5% 5140/94739 [18:48<5:27:57,  4.55it/s, loss=10.3, v_num=0]\n",
            "Epoch 0:   5% 5160/94739 [18:50<5:27:12,  4.56it/s, loss=10.3, v_num=0]\n",
            "Epoch 0:   5% 5180/94739 [18:52<5:26:27,  4.57it/s, loss=10.3, v_num=0]\n",
            "Epoch 0:   5% 5200/94739 [18:54<5:25:42,  4.58it/s, loss=10.3, v_num=0]\n",
            "Epoch 0:   6% 5220/94739 [18:56<5:24:58,  4.59it/s, loss=10.3, v_num=0]\n",
            "Epoch 0:   6% 5240/94739 [18:59<5:24:14,  4.60it/s, loss=10.3, v_num=0]\n",
            "Epoch 0:   6% 5260/94739 [19:01<5:23:31,  4.61it/s, loss=10.3, v_num=0]\n",
            "Epoch 0:   6% 5280/94739 [19:03<5:22:47,  4.62it/s, loss=10.3, v_num=0]\n",
            "Epoch 0:   6% 5300/94739 [19:05<5:22:05,  4.63it/s, loss=10.3, v_num=0]\n",
            "Epoch 0:   6% 5320/94739 [19:07<5:21:22,  4.64it/s, loss=10.3, v_num=0]\n",
            "Epoch 0:   6% 5340/94739 [19:09<5:20:39,  4.65it/s, loss=10.3, v_num=0]\n",
            "Epoch 0:   6% 5360/94739 [19:11<5:19:57,  4.66it/s, loss=10.3, v_num=0]\n",
            "Epoch 0:   6% 5380/94739 [19:13<5:19:15,  4.66it/s, loss=10.3, v_num=0]\n",
            "Epoch 0:   6% 5400/94739 [19:15<5:18:34,  4.67it/s, loss=10.3, v_num=0]\n",
            "Epoch 0:   6% 5420/94739 [19:17<5:17:53,  4.68it/s, loss=10.3, v_num=0]\n",
            "Epoch 0:   6% 5440/94739 [19:19<5:17:12,  4.69it/s, loss=10.3, v_num=0]\n",
            "Epoch 0:   6% 5460/94739 [19:21<5:16:31,  4.70it/s, loss=10.3, v_num=0]\n",
            "Epoch 0:   6% 5480/94739 [19:23<5:15:51,  4.71it/s, loss=10.3, v_num=0]\n",
            "Epoch 0:   6% 5500/94739 [19:25<5:15:11,  4.72it/s, loss=10.3, v_num=0]\n",
            "Epoch 0:   6% 5520/94739 [19:27<5:14:31,  4.73it/s, loss=10.3, v_num=0]\n",
            "Epoch 0:   6% 5540/94739 [19:29<5:13:52,  4.74it/s, loss=10.3, v_num=0]\n",
            "Epoch 0:   6% 5560/94739 [19:31<5:13:13,  4.75it/s, loss=10.3, v_num=0]\n",
            "Epoch 0:   6% 5580/94739 [19:33<5:12:34,  4.75it/s, loss=10.3, v_num=0]\n",
            "Epoch 0:   6% 5600/94739 [19:35<5:11:55,  4.76it/s, loss=10.3, v_num=0]\n",
            "Epoch 0:   6% 5620/94739 [19:37<5:11:17,  4.77it/s, loss=10.3, v_num=0]\n",
            "Epoch 0:   6% 5640/94739 [19:40<5:10:41,  4.78it/s, loss=10.3, v_num=0]\n",
            "Epoch 0:   6% 5660/94739 [19:42<5:10:04,  4.79it/s, loss=10.3, v_num=0]\n",
            "Epoch 0:   6% 5680/94739 [19:44<5:09:26,  4.80it/s, loss=10.3, v_num=0]\n",
            "Epoch 0:   6% 5700/94739 [19:46<5:08:49,  4.81it/s, loss=10.3, v_num=0]\n",
            "Epoch 0:   6% 5720/94739 [19:48<5:08:12,  4.81it/s, loss=10.3, v_num=0]\n",
            "Epoch 0:   6% 5740/94739 [19:50<5:07:35,  4.82it/s, loss=10.3, v_num=0]\n",
            "Epoch 0:   6% 5760/94739 [19:52<5:06:59,  4.83it/s, loss=10.3, v_num=0]\n",
            "Epoch 0:   6% 5780/94739 [19:54<5:06:23,  4.84it/s, loss=10.3, v_num=0]\n",
            "Epoch 0:   6% 5800/94739 [19:56<5:05:47,  4.85it/s, loss=10.3, v_num=0]\n",
            "Epoch 0:   6% 5820/94739 [19:58<5:05:11,  4.86it/s, loss=10.3, v_num=0]\n",
            "Epoch 0:   6% 5840/94739 [20:00<5:04:36,  4.86it/s, loss=10.3, v_num=0]\n",
            "Epoch 0:   6% 5860/94739 [20:02<5:04:01,  4.87it/s, loss=10.3, v_num=0]\n",
            "Epoch 0:   6% 5880/94739 [20:04<5:03:25,  4.88it/s, loss=10.3, v_num=0]\n",
            "Epoch 0:   6% 5900/94739 [20:06<5:02:51,  4.89it/s, loss=10.3, v_num=0]\n",
            "Epoch 0:   6% 5920/94739 [20:08<5:02:16,  4.90it/s, loss=10.3, v_num=0]\n",
            "Epoch 0:   6% 5940/94739 [20:10<5:01:42,  4.91it/s, loss=10.3, v_num=0]\n",
            "Epoch 0:   6% 5960/94739 [20:12<5:01:07,  4.91it/s, loss=10.3, v_num=0]\n",
            "Epoch 0:   6% 5980/94739 [20:14<5:00:33,  4.92it/s, loss=10.3, v_num=0]\n",
            "Epoch 0:   6% 6000/94739 [20:17<4:59:59,  4.93it/s, loss=10.3, v_num=0]\n",
            "Epoch 0:   6% 6020/94739 [20:19<4:59:25,  4.94it/s, loss=10.3, v_num=0]\n",
            "Epoch 0:   6% 6040/94739 [20:21<4:58:52,  4.95it/s, loss=10.3, v_num=0]\n",
            "Epoch 0:   6% 6060/94739 [20:23<4:58:19,  4.95it/s, loss=10.3, v_num=0]\n",
            "Epoch 0:   6% 6080/94739 [20:25<4:57:46,  4.96it/s, loss=10.3, v_num=0]\n",
            "Epoch 0:   6% 6100/94739 [20:27<4:57:13,  4.97it/s, loss=10.3, v_num=0]"
          ]
        }
      ]
    },
    {
      "cell_type": "code",
      "source": [
        ""
      ],
      "metadata": {
        "id": "vP1BnMXmucG7"
      },
      "execution_count": null,
      "outputs": []
    }
  ]
}