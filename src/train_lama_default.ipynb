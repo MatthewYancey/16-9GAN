{
  "nbformat": 4,
  "nbformat_minor": 0,
  "metadata": {
    "colab": {
      "name": "LaMa Training.ipynb",
      "provenance": [],
      "authorship_tag": "ABX9TyMnSeljpqk2ydsDDaKxHdyc",
      "include_colab_link": true
    },
    "kernelspec": {
      "name": "python3",
      "display_name": "Python 3"
    },
    "language_info": {
      "name": "python"
    }
  },
  "cells": [
    {
      "cell_type": "markdown",
      "metadata": {
        "id": "view-in-github",
        "colab_type": "text"
      },
      "source": [
        "<a href=\"https://colab.research.google.com/github/MatthewYancey/GANime/blob/master/src/train_lama_default.ipynb\" target=\"_parent\"><img src=\"https://colab.research.google.com/assets/colab-badge.svg\" alt=\"Open In Colab\"/></a>"
      ]
    },
    {
      "cell_type": "code",
      "source": [
        "import os\n",
        "import shutil\n",
        "import glob\n",
        "\n",
        "from google.colab import drive\n",
        "drive.mount('/content/gdrive')"
      ],
      "metadata": {
        "colab": {
          "base_uri": "https://localhost:8080/"
        },
        "id": "3P4-_KddMXYc",
        "outputId": "67569606-6436-4611-d606-20c259c9c8dc"
      },
      "execution_count": 5,
      "outputs": [
        {
          "output_type": "stream",
          "name": "stdout",
          "text": [
            "Drive already mounted at /content/gdrive; to attempt to forcibly remount, call drive.mount(\"/content/gdrive\", force_remount=True).\n"
          ]
        }
      ]
    },
    {
      "cell_type": "code",
      "source": [
        "# train_zip = '/content/gdrive/MyDrive/repos/GANime/data_out/pokemon/train_png.zip'\n",
        "val_zip = '/content/gdrive/MyDrive/repos/GANime/data_out/pokemon/test_masks.zip'\n",
        "eval_zip = '/content/gdrive/MyDrive/repos/GANime/data_out/pokemon/test_masks.zip'\n",
        "dataset_dir = '/content/lama/my_dataset/'"
      ],
      "metadata": {
        "id": "4YQmQ5TLe-2n"
      },
      "execution_count": 2,
      "outputs": []
    },
    {
      "cell_type": "code",
      "source": [
        "print('\\n> Cloning the repo')\n",
        "!git clone https://github.com/saic-mdal/lama.git\n",
        "\n",
        "print('\\n> Install dependencies')\n",
        "!pip install -r lama/requirements.txt --quiet\n",
        "!pip install wget --quiet\n",
        "\n",
        "print('\\n> Changing the dir to:')\n",
        "% cd /content/lama\n",
        "\n",
        "print('>fixing opencv')\n",
        "!pip uninstall opencv-python-headless -y --quiet\n",
        "!pip install opencv-python-headless==4.1.2.30 --quiet\n",
        "\n",
        "print('\\n> Init mask-drawing code')\n",
        "import base64, os\n",
        "from IPython.display import HTML, Image\n",
        "from google.colab.output import eval_js\n",
        "from base64 import b64decode\n",
        "import matplotlib.pyplot as plt\n",
        "import numpy as np\n",
        "import wget\n",
        "from shutil import copyfile\n",
        "import shutil"
      ],
      "metadata": {
        "id": "ACQUc8OQT4uH",
        "colab": {
          "base_uri": "https://localhost:8080/"
        },
        "outputId": "0acb0559-60e9-434c-cb46-a35470a2bc4c"
      },
      "execution_count": 3,
      "outputs": [
        {
          "output_type": "stream",
          "name": "stdout",
          "text": [
            "\n",
            "> Cloning the repo\n",
            "Cloning into 'lama'...\n",
            "remote: Enumerating objects: 283, done.\u001b[K\n",
            "remote: Counting objects: 100% (283/283), done.\u001b[K\n",
            "remote: Compressing objects: 100% (205/205), done.\u001b[K\n",
            "remote: Total 283 (delta 73), reused 264 (delta 66), pack-reused 0\u001b[K\n",
            "Receiving objects: 100% (283/283), 6.49 MiB | 19.56 MiB/s, done.\n",
            "Resolving deltas: 100% (73/73), done.\n",
            "\n",
            "> Install dependencies\n",
            "\u001b[K     |████████████████████████████████| 12.5 MB 5.8 MB/s \n",
            "\u001b[K     |████████████████████████████████| 22.3 MB 1.5 MB/s \n",
            "\u001b[K     |████████████████████████████████| 72 kB 793 kB/s \n",
            "\u001b[K     |████████████████████████████████| 144 kB 65.6 MB/s \n",
            "\u001b[K     |████████████████████████████████| 841 kB 51.3 MB/s \n",
            "\u001b[K     |████████████████████████████████| 271 kB 57.1 MB/s \n",
            "\u001b[K     |████████████████████████████████| 47 kB 4.7 MB/s \n",
            "\u001b[K     |████████████████████████████████| 948 kB 59.3 MB/s \n",
            "\u001b[K     |████████████████████████████████| 47.7 MB 68 kB/s \n",
            "\u001b[K     |████████████████████████████████| 74 kB 3.8 MB/s \n",
            "\u001b[K     |████████████████████████████████| 112 kB 85.7 MB/s \n",
            "\u001b[K     |████████████████████████████████| 133 kB 65.2 MB/s \n",
            "\u001b[K     |████████████████████████████████| 596 kB 65.3 MB/s \n",
            "\u001b[K     |████████████████████████████████| 176 kB 68.0 MB/s \n",
            "\u001b[K     |████████████████████████████████| 829 kB 74.9 MB/s \n",
            "\u001b[K     |████████████████████████████████| 1.1 MB 44.8 MB/s \n",
            "\u001b[K     |████████████████████████████████| 144 kB 65.7 MB/s \n",
            "\u001b[K     |████████████████████████████████| 271 kB 70.8 MB/s \n",
            "\u001b[K     |████████████████████████████████| 94 kB 3.1 MB/s \n",
            "\u001b[?25h  Building wheel for antlr4-python3-runtime (setup.py) ... \u001b[?25l\u001b[?25hdone\n",
            "  Building wheel for future (setup.py) ... \u001b[?25l\u001b[?25hdone\n",
            "  Building wheel for wget (setup.py) ... \u001b[?25l\u001b[?25hdone\n",
            "\n",
            "> Changing the dir to:\n",
            "/content/lama\n",
            ">fixing opencv\n",
            "\u001b[K     |████████████████████████████████| 21.8 MB 1.6 MB/s \n",
            "\u001b[?25h\n",
            "> Init mask-drawing code\n"
          ]
        }
      ]
    },
    {
      "cell_type": "code",
      "source": [
        "# copy the training set over\n",
        "os.mkdir(dataset_dir)\n",
        "shutil.copy(val_zip, dataset_dir + 'val.zip')\n",
        "shutil.unpack_archive(dataset_dir + 'val.zip', dataset_dir + '/val/')"
      ],
      "metadata": {
        "id": "un0L-yh4gZAk"
      },
      "execution_count": 4,
      "outputs": []
    },
    {
      "cell_type": "code",
      "source": [
        "# makes a copy for eval and visual test\n",
        "shutil.copytree(dataset_dir + 'val_source/', dataset_dir + 'eval_source/')\n",
        "shutil.copytree(dataset_dir + 'val_source/', dataset_dir + 'visual_test_source/')"
      ],
      "metadata": {
        "colab": {
          "base_uri": "https://localhost:8080/",
          "height": 35
        },
        "id": "AgZ2BaVXkede",
        "outputId": "dcc8a522-7f5b-4643-9ef0-eb1da36e0e74"
      },
      "execution_count": 10,
      "outputs": [
        {
          "output_type": "execute_result",
          "data": {
            "application/vnd.google.colaboratory.intrinsic+json": {
              "type": "string"
            },
            "text/plain": [
              "'/content/my_dataset/visual_test_source/'"
            ]
          },
          "metadata": {},
          "execution_count": 10
        }
      ]
    },
    {
      "cell_type": "code",
      "source": [
        "# copies images to the training folder\n",
        "img_list = glob.glob(dataset_dir + '/val/*')\n",
        "print(f'Number of images: {len(img_list)}')\n",
        "img_list = [f for f in img_list if 'mask' not in f]\n",
        "print(f'Number of images: {len(img_list)}')\n",
        "\n",
        "os.mkdir(dataset_dir + 'train/')\n",
        "for i in range(2100):\n",
        "    shutil.copy(img_list[i], dataset_dir + 'train/' + os.path.basename(img_list[i]))\n"
      ],
      "metadata": {
        "colab": {
          "base_uri": "https://localhost:8080/"
        },
        "id": "Gmsqi9WOlI6r",
        "outputId": "f5f4a288-2569-486d-ecab-6a0c2aaa076b"
      },
      "execution_count": 8,
      "outputs": [
        {
          "output_type": "stream",
          "name": "stdout",
          "text": [
            "Number of images: 122852\n",
            "Number of images: 61426\n"
          ]
        }
      ]
    },
    {
      "cell_type": "code",
      "source": [
        "!touch my_dataset.yaml\n",
        "!echo \"data_root_dir: $(pwd)/my_dataset/\" >> my_dataset.yaml\n",
        "!echo \"out_root_dir: $(pwd)/experiments/\" >> my_dataset.yaml\n",
        "!echo \"tb_dir: $(pwd)/tb_logs/\" >> my_dataset.yaml\n",
        "!mv my_dataset.yaml ${PWD}/configs/training/location/"
      ],
      "metadata": {
        "id": "FJbZWmtanNZc"
      },
      "execution_count": 17,
      "outputs": []
    },
    {
      "cell_type": "code",
      "source": [
        "!export TORCH_HOME=$(pwd) && export PYTHONPATH=. && python3 bin/train.py -cn lama-fourier location=my_dataset data.batch_size=10\n",
        "# !cat ${PWD}/configs/training/data/abl-04-256-mh-dist"
      ],
      "metadata": {
        "colab": {
          "base_uri": "https://localhost:8080/"
        },
        "id": "ZUQVVnILn7H1",
        "outputId": "76f1977e-62b0-4b1d-c9ed-0a15468a40e0"
      },
      "execution_count": 18,
      "outputs": [
        {
          "output_type": "stream",
          "name": "stdout",
          "text": [
            "Detectron v2 is not installed\n",
            "/usr/local/lib/python3.7/dist-packages/hydra/core/default_element.py:127: UserWarning: In 'hydra/overrides': Usage of deprecated keyword in package header '# @package _group_'.\n",
            "See https://hydra.cc/docs/next/upgrades/1.0_to_1.1/changes_to_package_header for more information\n",
            "  See {url} for more information\"\"\"\n",
            "/usr/local/lib/python3.7/dist-packages/hydra/core/default_element.py:127: UserWarning: In 'trainer/any_gpu_large_ssim_ddp_final': Usage of deprecated keyword in package header '# @package _group_'.\n",
            "See https://hydra.cc/docs/next/upgrades/1.0_to_1.1/changes_to_package_header for more information\n",
            "  See {url} for more information\"\"\"\n",
            "/usr/local/lib/python3.7/dist-packages/hydra/core/default_element.py:127: UserWarning: In 'evaluator/default_inpainted': Usage of deprecated keyword in package header '# @package _group_'.\n",
            "See https://hydra.cc/docs/next/upgrades/1.0_to_1.1/changes_to_package_header for more information\n",
            "  See {url} for more information\"\"\"\n",
            "/usr/local/lib/python3.7/dist-packages/hydra/core/default_element.py:127: UserWarning: In 'visualizer/directory': Usage of deprecated keyword in package header '# @package _group_'.\n",
            "See https://hydra.cc/docs/next/upgrades/1.0_to_1.1/changes_to_package_header for more information\n",
            "  See {url} for more information\"\"\"\n",
            "/usr/local/lib/python3.7/dist-packages/hydra/core/default_element.py:127: UserWarning: In 'optimizers/default_optimizers': Usage of deprecated keyword in package header '# @package _group_'.\n",
            "See https://hydra.cc/docs/next/upgrades/1.0_to_1.1/changes_to_package_header for more information\n",
            "  See {url} for more information\"\"\"\n",
            "/usr/local/lib/python3.7/dist-packages/hydra/core/default_element.py:127: UserWarning: In 'discriminator/pix2pixhd_nlayer': Usage of deprecated keyword in package header '# @package _group_'.\n",
            "See https://hydra.cc/docs/next/upgrades/1.0_to_1.1/changes_to_package_header for more information\n",
            "  See {url} for more information\"\"\"\n",
            "/usr/local/lib/python3.7/dist-packages/hydra/core/default_element.py:127: UserWarning: In 'generator/ffc_resnet_075': Usage of deprecated keyword in package header '# @package _group_'.\n",
            "See https://hydra.cc/docs/next/upgrades/1.0_to_1.1/changes_to_package_header for more information\n",
            "  See {url} for more information\"\"\"\n",
            "/usr/local/lib/python3.7/dist-packages/hydra/core/default_element.py:127: UserWarning: In 'data/abl-04-256-mh-dist': Usage of deprecated keyword in package header '# @package _group_'.\n",
            "See https://hydra.cc/docs/next/upgrades/1.0_to_1.1/changes_to_package_header for more information\n",
            "  See {url} for more information\"\"\"\n",
            "/usr/local/lib/python3.7/dist-packages/omegaconf/resolvers/__init__.py:13: UserWarning: The `env` resolver is deprecated, see https://github.com/omry/omegaconf/issues/573\n",
            "  \"The `env` resolver is deprecated, see https://github.com/omry/omegaconf/issues/573\"\n",
            "Traceback (most recent call last):\n",
            "  File \"/usr/local/lib/python3.7/dist-packages/hydra/_internal/utils.py\", line 211, in run_and_report\n",
            "    return func()\n",
            "  File \"/usr/local/lib/python3.7/dist-packages/hydra/_internal/utils.py\", line 371, in <lambda>\n",
            "    overrides=args.overrides,\n",
            "  File \"/usr/local/lib/python3.7/dist-packages/hydra/_internal/hydra.py\", line 105, in run\n",
            "    configure_logging=with_log_configuration,\n",
            "  File \"/usr/local/lib/python3.7/dist-packages/hydra/core/utils.py\", line 122, in run_job\n",
            "    working_dir = str(OmegaConf.select(config, job_dir_key))\n",
            "  File \"/usr/local/lib/python3.7/dist-packages/omegaconf/omegaconf.py\", line 691, in select\n",
            "    format_and_raise(node=cfg, key=key, value=None, cause=e, msg=str(e))\n",
            "  File \"/usr/local/lib/python3.7/dist-packages/omegaconf/_utils.py\", line 821, in format_and_raise\n",
            "    _raise(ex, cause)\n",
            "  File \"/usr/local/lib/python3.7/dist-packages/omegaconf/_utils.py\", line 719, in _raise\n",
            "    raise ex.with_traceback(sys.exc_info()[2])  # set end OC_CAUSE=1 for full backtrace\n",
            "  File \"/usr/local/lib/python3.7/dist-packages/omegaconf/omegaconf.py\", line 688, in select\n",
            "    throw_on_missing=throw_on_missing,\n",
            "  File \"/usr/local/lib/python3.7/dist-packages/omegaconf/_impl.py\", line 63, in select_value\n",
            "    absolute_key=absolute_key,\n",
            "  File \"/usr/local/lib/python3.7/dist-packages/omegaconf/_impl.py\", line 96, in select_node\n",
            "    throw_on_resolution_failure=throw_on_resolution_failure,\n",
            "  File \"/usr/local/lib/python3.7/dist-packages/omegaconf/base.py\", line 434, in _select_impl\n",
            "    memo=memo,\n",
            "  File \"/usr/local/lib/python3.7/dist-packages/omegaconf/base.py\", line 622, in _maybe_resolve_interpolation\n",
            "    memo=memo if memo is not None else set(),\n",
            "  File \"/usr/local/lib/python3.7/dist-packages/omegaconf/base.py\", line 483, in _resolve_interpolation_from_parse_tree\n",
            "    parse_tree=parse_tree, node=value, key=key, parent=parent, memo=memo\n",
            "  File \"/usr/local/lib/python3.7/dist-packages/omegaconf/base.py\", line 669, in resolve_parse_tree\n",
            "    ).with_traceback(sys.exc_info()[2])\n",
            "  File \"/usr/local/lib/python3.7/dist-packages/omegaconf/base.py\", line 662, in resolve_parse_tree\n",
            "    return visitor.visit(parse_tree)\n",
            "  File \"/usr/local/lib/python3.7/dist-packages/antlr4/tree/Tree.py\", line 34, in visit\n",
            "    return tree.accept(self)\n",
            "  File \"/usr/local/lib/python3.7/dist-packages/omegaconf/grammar/gen/OmegaConfGrammarParser.py\", line 205, in accept\n",
            "    return visitor.visitConfigValue(self)\n",
            "  File \"/usr/local/lib/python3.7/dist-packages/omegaconf/grammar_visitor.py\", line 101, in visitConfigValue\n",
            "    return self.visit(ctx.getChild(0))\n",
            "  File \"/usr/local/lib/python3.7/dist-packages/antlr4/tree/Tree.py\", line 34, in visit\n",
            "    return tree.accept(self)\n",
            "  File \"/usr/local/lib/python3.7/dist-packages/omegaconf/grammar/gen/OmegaConfGrammarParser.py\", line 339, in accept\n",
            "    return visitor.visitText(self)\n",
            "  File \"/usr/local/lib/python3.7/dist-packages/omegaconf/grammar_visitor.py\", line 301, in visitText\n",
            "    return self._unescape(list(ctx.getChildren()))\n",
            "  File \"/usr/local/lib/python3.7/dist-packages/omegaconf/grammar_visitor.py\", line 389, in _unescape\n",
            "    text = str(self.visitInterpolation(node))\n",
            "  File \"/usr/local/lib/python3.7/dist-packages/omegaconf/grammar_visitor.py\", line 125, in visitInterpolation\n",
            "    return self.visit(ctx.getChild(0))\n",
            "  File \"/usr/local/lib/python3.7/dist-packages/antlr4/tree/Tree.py\", line 34, in visit\n",
            "    return tree.accept(self)\n",
            "  File \"/usr/local/lib/python3.7/dist-packages/omegaconf/grammar/gen/OmegaConfGrammarParser.py\", line 1030, in accept\n",
            "    return visitor.visitInterpolationResolver(self)\n",
            "  File \"/usr/local/lib/python3.7/dist-packages/omegaconf/grammar_visitor.py\", line 182, in visitInterpolationResolver\n",
            "    args_str=tuple(args_str),\n",
            "  File \"/usr/local/lib/python3.7/dist-packages/omegaconf/base.py\", line 653, in resolver_interpolation_callback\n",
            "    inter_args_str=args_str,\n",
            "  File \"/usr/local/lib/python3.7/dist-packages/omegaconf/base.py\", line 596, in _evaluate_custom_resolver\n",
            "    inter_args_str,\n",
            "  File \"/usr/local/lib/python3.7/dist-packages/omegaconf/omegaconf.py\", line 355, in resolver_wrapper\n",
            "    val = cache[key] if key in cache else resolver(*args_unesc)\n",
            "  File \"/usr/local/lib/python3.7/dist-packages/omegaconf/resolvers/__init__.py\", line 22, in env\n",
            "    raise ValidationError(f\"Environment variable '{key}' not found\")\n",
            "omegaconf.errors.InterpolationResolutionError: ValidationError raised while resolving interpolation: Environment variable 'USER' not found\n",
            "    full_key: hydra.run.dir\n",
            "    object_type=dict\n",
            "\n",
            "During handling of the above exception, another exception occurred:\n",
            "\n",
            "Traceback (most recent call last):\n",
            "  File \"bin/train.py\", line 72, in <module>\n",
            "    main()\n",
            "  File \"/content/lama/saicinpainting/utils.py\", line 163, in new_main\n",
            "    main_func(*args, **kwargs)\n",
            "  File \"/usr/local/lib/python3.7/dist-packages/hydra/main.py\", line 53, in decorated_main\n",
            "    config_name=config_name,\n",
            "  File \"/usr/local/lib/python3.7/dist-packages/hydra/_internal/utils.py\", line 368, in _run_hydra\n",
            "    lambda: hydra.run(\n",
            "  File \"/usr/local/lib/python3.7/dist-packages/hydra/_internal/utils.py\", line 270, in run_and_report\n",
            "    cur.tb_lasti = iter_tb.tb_lasti\n",
            "AttributeError: 'NoneType' object has no attribute 'tb_lasti'\n"
          ]
        }
      ]
    }
  ]
}