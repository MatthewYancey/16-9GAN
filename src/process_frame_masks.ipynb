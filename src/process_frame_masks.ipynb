{
  "nbformat": 4,
  "nbformat_minor": 0,
  "metadata": {
    "colab": {
      "name": "process_frame_masks.ipynb",
      "provenance": [],
      "authorship_tag": "ABX9TyMastzk1k+K8U694AbLF2gb",
      "include_colab_link": true
    },
    "kernelspec": {
      "name": "python3",
      "display_name": "Python 3"
    },
    "language_info": {
      "name": "python"
    }
  },
  "cells": [
    {
      "cell_type": "markdown",
      "metadata": {
        "id": "view-in-github",
        "colab_type": "text"
      },
      "source": [
        "<a href=\"https://colab.research.google.com/github/MatthewYancey/GANime/blob/master/src/process_frame_masks.ipynb\" target=\"_parent\"><img src=\"https://colab.research.google.com/assets/colab-badge.svg\" alt=\"Open In Colab\"/></a>"
      ]
    },
    {
      "cell_type": "code",
      "execution_count": null,
      "metadata": {
        "id": "_bMTBlH96Ur7"
      },
      "outputs": [],
      "source": [
        "import os\n",
        "import shutil\n",
        "import glob\n",
        "import cv2\n",
        "import numpy as np\n",
        "from google.colab.patches import cv2_imshow\n",
        "\n",
        "from google.colab import drive\n",
        "drive.mount('/content/gdrive')"
      ]
    },
    {
      "cell_type": "code",
      "source": [
        "IMAGE_ZIP = '/content/gdrive/MyDrive/repos/GANime/data_out/pokemon/test.zip'\n",
        "IMAGE_INPUT_DIR = '/content/test_masks_input/'\n",
        "IMAGE_OUTPUT_DIR = '/content/test_masks/'\n",
        "HEIGHT = 288\n",
        "WIDTH = 512\n",
        "SINGLE_SIDE = 64"
      ],
      "metadata": {
        "id": "tja6E4LT63re"
      },
      "execution_count": null,
      "outputs": []
    },
    {
      "cell_type": "code",
      "source": [
        "# unzips images\n",
        "if os.path.exists(IMAGE_INPUT_DIR) == False:\n",
        "    shutil.unpack_archive(IMAGE_ZIP, IMAGE_INPUT_DIR, 'zip')"
      ],
      "metadata": {
        "id": "7h4hEYnA6w5l"
      },
      "execution_count": null,
      "outputs": []
    },
    {
      "cell_type": "code",
      "source": [
        "# get the list of images\n",
        "img_list = glob.glob(IMAGE_INPUT_DIR + '*')\n",
        "print(f'Number of images: {len(img_list)}')\n",
        "# img_list = img_list[:100]\n",
        "# print(f'Number of images: {len(img_list)}')"
      ],
      "metadata": {
        "id": "9-ESUgWV74hD"
      },
      "execution_count": null,
      "outputs": []
    },
    {
      "cell_type": "code",
      "source": [
        "# makes a mask and saves it to correspond with the names of images\n",
        "inside = np.zeros((HEIGHT, WIDTH - 2*SINGLE_SIDE, 3), np.uint8)\n",
        "outsides = np.ones((HEIGHT, SINGLE_SIDE, 3), np.uint8) * 255\n",
        "blank_image = cv2.hconcat([outsides, inside, outsides])\n",
        "cv2_imshow(blank_image)"
      ],
      "metadata": {
        "id": "l9kStGuH8CGg"
      },
      "execution_count": null,
      "outputs": []
    },
    {
      "cell_type": "code",
      "source": [
        "for image in img_list:\n",
        "    new_name = os.path.basename(image).replace('.jpg', '')\n",
        "    new_path = IMAGE_OUTPUT_DIR + new_name\n",
        "    # converts the image to png\n",
        "    img = cv2.imread(image)\n",
        "    cv2.imwrite(new_path + '.png', img)\n",
        "    cv2.imwrite(IMAGE_OUTPUT_DIR + new_name + '_mask.png', blank_image)"
      ],
      "metadata": {
        "id": "E6vGYObYGsss"
      },
      "execution_count": null,
      "outputs": []
    },
    {
      "cell_type": "code",
      "source": [
        "shutil.make_archive(IMAGE_OUTPUT_DIR, 'zip', IMAGE_OUTPUT_DIR)"
      ],
      "metadata": {
        "id": "dcKNT9l6OPNj"
      },
      "execution_count": null,
      "outputs": []
    }
  ]
}