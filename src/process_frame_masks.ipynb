{
  "nbformat": 4,
  "nbformat_minor": 0,
  "metadata": {
    "colab": {
      "name": "process_frame_masks.ipynb",
      "provenance": [],
      "authorship_tag": "ABX9TyP47lKj511bhLvLlZTZ/nDv",
      "include_colab_link": true
    },
    "kernelspec": {
      "name": "python3",
      "display_name": "Python 3"
    },
    "language_info": {
      "name": "python"
    }
  },
  "cells": [
    {
      "cell_type": "markdown",
      "metadata": {
        "id": "view-in-github",
        "colab_type": "text"
      },
      "source": [
        "<a href=\"https://colab.research.google.com/github/MatthewYancey/GANime/blob/master/src/process_frame_masks.ipynb\" target=\"_parent\"><img src=\"https://colab.research.google.com/assets/colab-badge.svg\" alt=\"Open In Colab\"/></a>"
      ]
    },
    {
      "cell_type": "code",
      "execution_count": 1,
      "metadata": {
        "id": "_bMTBlH96Ur7",
        "outputId": "df541c8b-dd84-43b7-d7fe-7ea645cc4227",
        "colab": {
          "base_uri": "https://localhost:8080/"
        }
      },
      "outputs": [
        {
          "output_type": "stream",
          "name": "stdout",
          "text": [
            "Mounted at /content/gdrive\n"
          ]
        }
      ],
      "source": [
        "import os\n",
        "import shutil\n",
        "import glob\n",
        "import cv2\n",
        "import numpy as np\n",
        "from google.colab.patches import cv2_imshow\n",
        "\n",
        "from google.colab import drive\n",
        "drive.mount('/content/gdrive')"
      ]
    },
    {
      "cell_type": "code",
      "source": [
        "IMAGE_ZIP = '/content/gdrive/MyDrive/repos/GANime/data_out/pokemon/test.zip'\n",
        "IMAGE_INPUT_DIR = '/content/test_masks_input/'\n",
        "TEMP_ZIP_FOLDER = '/content/test_masks/'\n",
        "IMAGE_OUTPUT_DIR = '/content/gdrive/MyDrive/repos/GANime/data_out/pokemon/test_masks/'\n",
        "HEIGHT = 288\n",
        "WIDTH = 512\n",
        "SINGLE_SIDE = 64"
      ],
      "metadata": {
        "id": "tja6E4LT63re"
      },
      "execution_count": 2,
      "outputs": []
    },
    {
      "cell_type": "code",
      "source": [
        "# unzips images\n",
        "if os.path.exists(IMAGE_INPUT_DIR) == False:\n",
        "    shutil.unpack_archive(IMAGE_ZIP, IMAGE_INPUT_DIR, 'zip')"
      ],
      "metadata": {
        "id": "7h4hEYnA6w5l"
      },
      "execution_count": 3,
      "outputs": []
    },
    {
      "cell_type": "code",
      "source": [
        "# get the list of images\n",
        "img_list = glob.glob(IMAGE_INPUT_DIR + '*')\n",
        "print(f'Number of images: {len(img_list)}')"
      ],
      "metadata": {
        "id": "9-ESUgWV74hD",
        "outputId": "1fd34311-eb70-4390-b2b9-6802521731d6",
        "colab": {
          "base_uri": "https://localhost:8080/"
        }
      },
      "execution_count": 4,
      "outputs": [
        {
          "output_type": "stream",
          "name": "stdout",
          "text": [
            "Number of images: 61426\n"
          ]
        }
      ]
    },
    {
      "cell_type": "code",
      "source": [
        "# makes a mask and saves it to correspond with the names of images\n",
        "inside = np.zeros((HEIGHT, WIDTH - 2*SINGLE_SIDE, 3), np.uint8)\n",
        "outsides = np.ones((HEIGHT, SINGLE_SIDE, 3), np.uint8) * 255\n",
        "blank_image = cv2.hconcat([outsides, inside, outsides])\n",
        "cv2_imshow(blank_image)"
      ],
      "metadata": {
        "id": "l9kStGuH8CGg",
        "outputId": "023c5039-1db0-437e-da18-6e88b4ec2a76",
        "colab": {
          "base_uri": "https://localhost:8080/",
          "height": 305
        }
      },
      "execution_count": 5,
      "outputs": [
        {
          "output_type": "display_data",
          "data": {
            "image/png": "[encoded data removed]",
            "text/plain": [
              "<PIL.Image.Image image mode=RGB size=512x288 at 0x7F61524E7810>"
            ]
          },
          "metadata": {}
        }
      ]
    },
    {
      "cell_type": "code",
      "source": [
        "os.mkdir(TEMP_ZIP_FOLDER)\n",
        "\n",
        "for image in img_list:\n",
        "    new_name = os.path.basename(image).replace('.jpg', '')\n",
        "    new_path = TEMP_ZIP_FOLDER + new_name\n",
        "    # converts the image to png\n",
        "    img = cv2.imread(image)\n",
        "    cv2.imwrite(new_path + '.png', img)\n",
        "    cv2.imwrite(TEMP_ZIP_FOLDER + new_name + '_mask.png', blank_image)"
      ],
      "metadata": {
        "id": "E6vGYObYGsss"
      },
      "execution_count": 10,
      "outputs": []
    },
    {
      "cell_type": "code",
      "source": [
        "shutil.make_archive(IMAGE_OUTPUT_DIR, 'zip', TEMP_ZIP_FOLDER)"
      ],
      "metadata": {
        "id": "dcKNT9l6OPNj",
        "outputId": "647b4780-caf1-4a46-b325-92e8be417bf8",
        "colab": {
          "base_uri": "https://localhost:8080/",
          "height": 35
        }
      },
      "execution_count": 11,
      "outputs": [
        {
          "output_type": "execute_result",
          "data": {
            "application/vnd.google.colaboratory.intrinsic+json": {
              "type": "string"
            },
            "text/plain": [
              "'/content/gdrive/MyDrive/repos/GANime/data_out/pokemon/test_masks.zip'"
            ]
          },
          "metadata": {},
          "execution_count": 11
        }
      ]
    }
  ]
}