{
  "nbformat": 4,
  "nbformat_minor": 0,
  "metadata": {
    "colab": {
      "name": "process_frame_masks.ipynb",
      "provenance": [],
      "authorship_tag": "ABX9TyM6REv+ImgsdHeoycaqJWB2",
      "include_colab_link": true
    },
    "kernelspec": {
      "name": "python3",
      "display_name": "Python 3"
    },
    "language_info": {
      "name": "python"
    }
  },
  "cells": [
    {
      "cell_type": "markdown",
      "metadata": {
        "id": "view-in-github",
        "colab_type": "text"
      },
      "source": [
        "<a href=\"https://colab.research.google.com/github/MatthewYancey/GANime/blob/master/src/process_frame_masks.ipynb\" target=\"_parent\"><img src=\"https://colab.research.google.com/assets/colab-badge.svg\" alt=\"Open In Colab\"/></a>"
      ]
    },
    {
      "cell_type": "code",
      "execution_count": 31,
      "metadata": {
        "colab": {
          "base_uri": "https://localhost:8080/"
        },
        "id": "_bMTBlH96Ur7",
        "outputId": "07dfe370-6902-4da6-ccdc-dc9295369c56"
      },
      "outputs": [
        {
          "output_type": "stream",
          "name": "stdout",
          "text": [
            "Drive already mounted at /content/gdrive; to attempt to forcibly remount, call drive.mount(\"/content/gdrive\", force_remount=True).\n"
          ]
        }
      ],
      "source": [
        "import os\n",
        "import shutil\n",
        "import glob\n",
        "import cv2\n",
        "import numpy as np\n",
        "from google.colab.patches import cv2_imshow\n",
        "\n",
        "from google.colab import drive\n",
        "drive.mount('/content/gdrive')"
      ]
    },
    {
      "cell_type": "code",
      "source": [
        "IMAGE_ZIP = '/content/gdrive/MyDrive/repos/GANime/data_out/pokemon/test.zip'\n",
        "TEMP_DIR = '/content/frames/'\n",
        "HEIGHT = 288\n",
        "WIDTH = 512\n",
        "SINGLE_SIDE = 64"
      ],
      "metadata": {
        "id": "tja6E4LT63re"
      },
      "execution_count": 23,
      "outputs": []
    },
    {
      "cell_type": "code",
      "source": [
        "# unzips images\n",
        "if os.path.exists(TEMP_DIR) == False:\n",
        "    shutil.unpack_archive(IMAGE_ZIP, TEMP_DIR, 'zip')"
      ],
      "metadata": {
        "id": "7h4hEYnA6w5l"
      },
      "execution_count": 7,
      "outputs": []
    },
    {
      "cell_type": "code",
      "source": [
        "img_list = glob.glob(TEMP_DIR + '*')\n",
        "img_list = img_list[:IMAGE_SAMPLE]\n",
        "print(f'Number of images: {len(img_list)}')"
      ],
      "metadata": {
        "id": "9-ESUgWV74hD",
        "outputId": "ca6bf158-6796-4110-a7da-48bf336d11e7",
        "colab": {
          "base_uri": "https://localhost:8080/"
        }
      },
      "execution_count": 12,
      "outputs": [
        {
          "output_type": "stream",
          "name": "stdout",
          "text": [
            "Number of images: 1000\n"
          ]
        }
      ]
    },
    {
      "cell_type": "code",
      "source": [
        "# go through the images and make the masks\n",
        "img = cv2.imread('16693_1_mask.png')\n",
        "img.shape"
      ],
      "metadata": {
        "id": "l9kStGuH8CGg",
        "outputId": "540cf04e-0e31-4e68-a93f-6c298607b642",
        "colab": {
          "base_uri": "https://localhost:8080/"
        }
      },
      "execution_count": 21,
      "outputs": [
        {
          "output_type": "execute_result",
          "data": {
            "text/plain": [
              "(719, 1024, 3)"
            ]
          },
          "metadata": {},
          "execution_count": 21
        }
      ]
    },
    {
      "cell_type": "code",
      "source": [
        "inside = np.zeros((HEIGHT, WIDTH - 2*SINGLE_SIDE, 3), np.uint8)\n",
        "outsides = np.ones((HEIGHT, SINGLE_SIDE, 3), np.uint8) * 255\n",
        "blank_image = cv2.hconcat([outsides, inside, outsides])\n",
        "cv2_imshow(blank_image)\n",
        "cv2.imwrite('test.png', blank_image)"
      ],
      "metadata": {
        "id": "-efX40ol-p46",
        "outputId": "39117ded-15c0-454f-95d1-02fc53761136",
        "colab": {
          "base_uri": "https://localhost:8080/",
          "height": 322
        }
      },
      "execution_count": 41,
      "outputs": [
        {
          "output_type": "display_data",
          "data": {
            "image/png": "[encoded data removed]",
            "text/plain": [
              "<PIL.Image.Image image mode=RGB size=512x288 at 0x7FE1EEA052D0>"
            ]
          },
          "metadata": {}
        },
        {
          "output_type": "execute_result",
          "data": {
            "text/plain": [
              "True"
            ]
          },
          "metadata": {},
          "execution_count": 41
        }
      ]
    }
  ]
}